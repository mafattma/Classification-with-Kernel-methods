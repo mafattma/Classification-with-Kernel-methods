{
 "cells": [
  {
   "cell_type": "markdown",
   "metadata": {},
   "source": [
    "# Goal of challenge"
   ]
  },
  {
   "cell_type": "markdown",
   "metadata": {},
   "source": [
    "Classification task: predict whether a DNA sequence region is binding site to a specific transcription factor."
   ]
  },
  {
   "cell_type": "markdown",
   "metadata": {},
   "source": [
    "Transcription factors (TFs) are regulatory proteins that bind specific sequence motifs in the genome to activate or repress transcription of target genes. Genome-wide protein-DNA binding maps can be profiled using some experimental techniques and thus all genomics can be classified into two classes for a TF of interest: <u>bound or unbound</u>(binary classification task). In this challenge, we will work with three datasets corresponding to <u>three different TFs</u>."
   ]
  },
  {
   "cell_type": "markdown",
   "metadata": {},
   "source": [
    "# Loading Data"
   ]
  },
  {
   "cell_type": "code",
   "execution_count": 1,
   "metadata": {
    "collapsed": true
   },
   "outputs": [],
   "source": [
    "import pandas as pd"
   ]
  },
  {
   "cell_type": "code",
   "execution_count": 2,
   "metadata": {
    "collapsed": true
   },
   "outputs": [],
   "source": [
    "X_tr_0=pd.read_csv('Xtr0.csv')\n",
    "X_tr_1=pd.read_csv('Xtr1.csv')\n",
    "X_tr_2=pd.read_csv('Xtr2.csv')"
   ]
  },
  {
   "cell_type": "code",
   "execution_count": 3,
   "metadata": {},
   "outputs": [
    {
     "name": "stdout",
     "output_type": "stream",
     "text": [
      "<class 'pandas.core.frame.DataFrame'>\n",
      "RangeIndex: 2000 entries, 0 to 1999\n",
      "Data columns (total 2 columns):\n",
      "Id     2000 non-null int64\n",
      "seq    2000 non-null object\n",
      "dtypes: int64(1), object(1)\n",
      "memory usage: 31.3+ KB\n"
     ]
    }
   ],
   "source": [
    "X_tr_0.info()"
   ]
  },
  {
   "cell_type": "code",
   "execution_count": 4,
   "metadata": {},
   "outputs": [
    {
     "data": {
      "text/html": [
       "<div>\n",
       "<style>\n",
       "    .dataframe thead tr:only-child th {\n",
       "        text-align: right;\n",
       "    }\n",
       "\n",
       "    .dataframe thead th {\n",
       "        text-align: left;\n",
       "    }\n",
       "\n",
       "    .dataframe tbody tr th {\n",
       "        vertical-align: top;\n",
       "    }\n",
       "</style>\n",
       "<table border=\"1\" class=\"dataframe\">\n",
       "  <thead>\n",
       "    <tr style=\"text-align: right;\">\n",
       "      <th></th>\n",
       "      <th>Id</th>\n",
       "      <th>seq</th>\n",
       "    </tr>\n",
       "  </thead>\n",
       "  <tbody>\n",
       "    <tr>\n",
       "      <th>0</th>\n",
       "      <td>0</td>\n",
       "      <td>GGAGAATCATTTGAACCCGGGAGGTGGAGGTTGCCGTGAGCTGAGA...</td>\n",
       "    </tr>\n",
       "    <tr>\n",
       "      <th>1</th>\n",
       "      <td>1</td>\n",
       "      <td>ACCCTGCCTACACCGCGGCGGGGACAGGTGGAGGTTTCAACCCCTG...</td>\n",
       "    </tr>\n",
       "    <tr>\n",
       "      <th>2</th>\n",
       "      <td>2</td>\n",
       "      <td>TGCAAATCTGTAAGCATTTCTCAGGCAATGAATTATGTCAACACAA...</td>\n",
       "    </tr>\n",
       "    <tr>\n",
       "      <th>3</th>\n",
       "      <td>3</td>\n",
       "      <td>GCGGGACGTGGGCGTCGAGGGTAAGGATATCTGCAGAAGTACTGTC...</td>\n",
       "    </tr>\n",
       "    <tr>\n",
       "      <th>4</th>\n",
       "      <td>4</td>\n",
       "      <td>GGAGAATAGCATGTATCCGAGAGGTGGAGCTGGCAGTGAGCCGAGA...</td>\n",
       "    </tr>\n",
       "  </tbody>\n",
       "</table>\n",
       "</div>"
      ],
      "text/plain": [
       "   Id                                                seq\n",
       "0   0  GGAGAATCATTTGAACCCGGGAGGTGGAGGTTGCCGTGAGCTGAGA...\n",
       "1   1  ACCCTGCCTACACCGCGGCGGGGACAGGTGGAGGTTTCAACCCCTG...\n",
       "2   2  TGCAAATCTGTAAGCATTTCTCAGGCAATGAATTATGTCAACACAA...\n",
       "3   3  GCGGGACGTGGGCGTCGAGGGTAAGGATATCTGCAGAAGTACTGTC...\n",
       "4   4  GGAGAATAGCATGTATCCGAGAGGTGGAGCTGGCAGTGAGCCGAGA..."
      ]
     },
     "execution_count": 4,
     "metadata": {},
     "output_type": "execute_result"
    }
   ],
   "source": [
    "X_tr_0.head()"
   ]
  },
  {
   "cell_type": "code",
   "execution_count": 5,
   "metadata": {
    "collapsed": true
   },
   "outputs": [],
   "source": [
    "X_mat_col=['n'+str(i) for i in range(100)]"
   ]
  },
  {
   "cell_type": "code",
   "execution_count": 6,
   "metadata": {
    "collapsed": true
   },
   "outputs": [],
   "source": [
    "X_tr_0_mat=pd.read_csv('Xtr0_mat100.csv',\n",
    "                       sep=\" \",\n",
    "                       header=None,\n",
    "                       names=X_mat_col)\n",
    "X_tr_1_mat=pd.read_csv('Xtr1_mat100.csv',\n",
    "                       sep=\" \",\n",
    "                       header=None,\n",
    "                       names=X_mat_col)\n",
    "X_tr_2_mat=pd.read_csv('Xtr2_mat100.csv',\n",
    "                       sep=\" \",\n",
    "                       header=None,\n",
    "                       names=X_mat_col)"
   ]
  },
  {
   "cell_type": "code",
   "execution_count": 7,
   "metadata": {},
   "outputs": [
    {
     "data": {
      "text/plain": [
       "(2000, 100)"
      ]
     },
     "execution_count": 7,
     "metadata": {},
     "output_type": "execute_result"
    }
   ],
   "source": [
    "X_tr_0_mat.shape"
   ]
  },
  {
   "cell_type": "code",
   "execution_count": 8,
   "metadata": {},
   "outputs": [
    {
     "data": {
      "text/html": [
       "<div>\n",
       "<style>\n",
       "    .dataframe thead tr:only-child th {\n",
       "        text-align: right;\n",
       "    }\n",
       "\n",
       "    .dataframe thead th {\n",
       "        text-align: left;\n",
       "    }\n",
       "\n",
       "    .dataframe tbody tr th {\n",
       "        vertical-align: top;\n",
       "    }\n",
       "</style>\n",
       "<table border=\"1\" class=\"dataframe\">\n",
       "  <thead>\n",
       "    <tr style=\"text-align: right;\">\n",
       "      <th></th>\n",
       "      <th>n0</th>\n",
       "      <th>n1</th>\n",
       "      <th>n2</th>\n",
       "      <th>n3</th>\n",
       "      <th>n4</th>\n",
       "      <th>n5</th>\n",
       "      <th>n6</th>\n",
       "      <th>n7</th>\n",
       "      <th>n8</th>\n",
       "      <th>n9</th>\n",
       "      <th>...</th>\n",
       "      <th>n90</th>\n",
       "      <th>n91</th>\n",
       "      <th>n92</th>\n",
       "      <th>n93</th>\n",
       "      <th>n94</th>\n",
       "      <th>n95</th>\n",
       "      <th>n96</th>\n",
       "      <th>n97</th>\n",
       "      <th>n98</th>\n",
       "      <th>n99</th>\n",
       "    </tr>\n",
       "  </thead>\n",
       "  <tbody>\n",
       "    <tr>\n",
       "      <th>0</th>\n",
       "      <td>0.00000</td>\n",
       "      <td>0.021739</td>\n",
       "      <td>0.010870</td>\n",
       "      <td>0.021739</td>\n",
       "      <td>0.000000</td>\n",
       "      <td>0.00000</td>\n",
       "      <td>0.01087</td>\n",
       "      <td>0.00000</td>\n",
       "      <td>0.01087</td>\n",
       "      <td>0.0</td>\n",
       "      <td>...</td>\n",
       "      <td>0.010870</td>\n",
       "      <td>0.000000</td>\n",
       "      <td>0.000000</td>\n",
       "      <td>0.000000</td>\n",
       "      <td>0.01087</td>\n",
       "      <td>0.021739</td>\n",
       "      <td>0.0</td>\n",
       "      <td>0.000000</td>\n",
       "      <td>0.00000</td>\n",
       "      <td>0.000000</td>\n",
       "    </tr>\n",
       "    <tr>\n",
       "      <th>1</th>\n",
       "      <td>0.01087</td>\n",
       "      <td>0.010870</td>\n",
       "      <td>0.021739</td>\n",
       "      <td>0.021739</td>\n",
       "      <td>0.021739</td>\n",
       "      <td>0.01087</td>\n",
       "      <td>0.00000</td>\n",
       "      <td>0.00000</td>\n",
       "      <td>0.00000</td>\n",
       "      <td>0.0</td>\n",
       "      <td>...</td>\n",
       "      <td>0.000000</td>\n",
       "      <td>0.000000</td>\n",
       "      <td>0.000000</td>\n",
       "      <td>0.021739</td>\n",
       "      <td>0.01087</td>\n",
       "      <td>0.043478</td>\n",
       "      <td>0.0</td>\n",
       "      <td>0.010870</td>\n",
       "      <td>0.01087</td>\n",
       "      <td>0.000000</td>\n",
       "    </tr>\n",
       "    <tr>\n",
       "      <th>2</th>\n",
       "      <td>0.01087</td>\n",
       "      <td>0.021739</td>\n",
       "      <td>0.000000</td>\n",
       "      <td>0.021739</td>\n",
       "      <td>0.021739</td>\n",
       "      <td>0.01087</td>\n",
       "      <td>0.01087</td>\n",
       "      <td>0.00000</td>\n",
       "      <td>0.01087</td>\n",
       "      <td>0.0</td>\n",
       "      <td>...</td>\n",
       "      <td>0.021739</td>\n",
       "      <td>0.021739</td>\n",
       "      <td>0.010870</td>\n",
       "      <td>0.000000</td>\n",
       "      <td>0.01087</td>\n",
       "      <td>0.021739</td>\n",
       "      <td>0.0</td>\n",
       "      <td>0.021739</td>\n",
       "      <td>0.01087</td>\n",
       "      <td>0.021739</td>\n",
       "    </tr>\n",
       "    <tr>\n",
       "      <th>3</th>\n",
       "      <td>0.00000</td>\n",
       "      <td>0.021739</td>\n",
       "      <td>0.000000</td>\n",
       "      <td>0.010870</td>\n",
       "      <td>0.043478</td>\n",
       "      <td>0.00000</td>\n",
       "      <td>0.01087</td>\n",
       "      <td>0.01087</td>\n",
       "      <td>0.01087</td>\n",
       "      <td>0.0</td>\n",
       "      <td>...</td>\n",
       "      <td>0.010870</td>\n",
       "      <td>0.032609</td>\n",
       "      <td>0.021739</td>\n",
       "      <td>0.010870</td>\n",
       "      <td>0.01087</td>\n",
       "      <td>0.032609</td>\n",
       "      <td>0.0</td>\n",
       "      <td>0.021739</td>\n",
       "      <td>0.01087</td>\n",
       "      <td>0.010870</td>\n",
       "    </tr>\n",
       "    <tr>\n",
       "      <th>4</th>\n",
       "      <td>0.00000</td>\n",
       "      <td>0.021739</td>\n",
       "      <td>0.021739</td>\n",
       "      <td>0.000000</td>\n",
       "      <td>0.021739</td>\n",
       "      <td>0.00000</td>\n",
       "      <td>0.01087</td>\n",
       "      <td>0.00000</td>\n",
       "      <td>0.00000</td>\n",
       "      <td>0.0</td>\n",
       "      <td>...</td>\n",
       "      <td>0.010870</td>\n",
       "      <td>0.010870</td>\n",
       "      <td>0.000000</td>\n",
       "      <td>0.000000</td>\n",
       "      <td>0.01087</td>\n",
       "      <td>0.032609</td>\n",
       "      <td>0.0</td>\n",
       "      <td>0.000000</td>\n",
       "      <td>0.00000</td>\n",
       "      <td>0.000000</td>\n",
       "    </tr>\n",
       "  </tbody>\n",
       "</table>\n",
       "<p>5 rows × 100 columns</p>\n",
       "</div>"
      ],
      "text/plain": [
       "        n0        n1        n2        n3        n4       n5       n6       n7  \\\n",
       "0  0.00000  0.021739  0.010870  0.021739  0.000000  0.00000  0.01087  0.00000   \n",
       "1  0.01087  0.010870  0.021739  0.021739  0.021739  0.01087  0.00000  0.00000   \n",
       "2  0.01087  0.021739  0.000000  0.021739  0.021739  0.01087  0.01087  0.00000   \n",
       "3  0.00000  0.021739  0.000000  0.010870  0.043478  0.00000  0.01087  0.01087   \n",
       "4  0.00000  0.021739  0.021739  0.000000  0.021739  0.00000  0.01087  0.00000   \n",
       "\n",
       "        n8   n9    ...          n90       n91       n92       n93      n94  \\\n",
       "0  0.01087  0.0    ...     0.010870  0.000000  0.000000  0.000000  0.01087   \n",
       "1  0.00000  0.0    ...     0.000000  0.000000  0.000000  0.021739  0.01087   \n",
       "2  0.01087  0.0    ...     0.021739  0.021739  0.010870  0.000000  0.01087   \n",
       "3  0.01087  0.0    ...     0.010870  0.032609  0.021739  0.010870  0.01087   \n",
       "4  0.00000  0.0    ...     0.010870  0.010870  0.000000  0.000000  0.01087   \n",
       "\n",
       "        n95  n96       n97      n98       n99  \n",
       "0  0.021739  0.0  0.000000  0.00000  0.000000  \n",
       "1  0.043478  0.0  0.010870  0.01087  0.000000  \n",
       "2  0.021739  0.0  0.021739  0.01087  0.021739  \n",
       "3  0.032609  0.0  0.021739  0.01087  0.010870  \n",
       "4  0.032609  0.0  0.000000  0.00000  0.000000  \n",
       "\n",
       "[5 rows x 100 columns]"
      ]
     },
     "execution_count": 8,
     "metadata": {},
     "output_type": "execute_result"
    }
   ],
   "source": [
    "X_tr_0_mat.head()"
   ]
  },
  {
   "cell_type": "code",
   "execution_count": 9,
   "metadata": {
    "collapsed": true
   },
   "outputs": [],
   "source": [
    "y_tr_0=pd.read_csv('Ytr0.csv')\n",
    "y_tr_1=pd.read_csv('Ytr1.csv')\n",
    "y_tr_2=pd.read_csv('Ytr2.csv')"
   ]
  },
  {
   "cell_type": "code",
   "execution_count": 10,
   "metadata": {},
   "outputs": [
    {
     "name": "stdout",
     "output_type": "stream",
     "text": [
      "<class 'pandas.core.frame.DataFrame'>\n",
      "RangeIndex: 2000 entries, 0 to 1999\n",
      "Data columns (total 2 columns):\n",
      "Id       2000 non-null int64\n",
      "Bound    2000 non-null int64\n",
      "dtypes: int64(2)\n",
      "memory usage: 31.3 KB\n"
     ]
    }
   ],
   "source": [
    "y_tr_0.info()"
   ]
  },
  {
   "cell_type": "code",
   "execution_count": 11,
   "metadata": {},
   "outputs": [
    {
     "data": {
      "text/html": [
       "<div>\n",
       "<style>\n",
       "    .dataframe thead tr:only-child th {\n",
       "        text-align: right;\n",
       "    }\n",
       "\n",
       "    .dataframe thead th {\n",
       "        text-align: left;\n",
       "    }\n",
       "\n",
       "    .dataframe tbody tr th {\n",
       "        vertical-align: top;\n",
       "    }\n",
       "</style>\n",
       "<table border=\"1\" class=\"dataframe\">\n",
       "  <thead>\n",
       "    <tr style=\"text-align: right;\">\n",
       "      <th></th>\n",
       "      <th>Id</th>\n",
       "      <th>Bound</th>\n",
       "    </tr>\n",
       "  </thead>\n",
       "  <tbody>\n",
       "    <tr>\n",
       "      <th>0</th>\n",
       "      <td>0</td>\n",
       "      <td>0</td>\n",
       "    </tr>\n",
       "    <tr>\n",
       "      <th>1</th>\n",
       "      <td>1</td>\n",
       "      <td>1</td>\n",
       "    </tr>\n",
       "    <tr>\n",
       "      <th>2</th>\n",
       "      <td>2</td>\n",
       "      <td>1</td>\n",
       "    </tr>\n",
       "    <tr>\n",
       "      <th>3</th>\n",
       "      <td>3</td>\n",
       "      <td>0</td>\n",
       "    </tr>\n",
       "    <tr>\n",
       "      <th>4</th>\n",
       "      <td>4</td>\n",
       "      <td>1</td>\n",
       "    </tr>\n",
       "  </tbody>\n",
       "</table>\n",
       "</div>"
      ],
      "text/plain": [
       "   Id  Bound\n",
       "0   0      0\n",
       "1   1      1\n",
       "2   2      1\n",
       "3   3      0\n",
       "4   4      1"
      ]
     },
     "execution_count": 11,
     "metadata": {},
     "output_type": "execute_result"
    }
   ],
   "source": [
    "y_tr_0.head()"
   ]
  },
  {
   "cell_type": "code",
   "execution_count": 12,
   "metadata": {
    "collapsed": true
   },
   "outputs": [],
   "source": [
    "y_tr_0['Bound']=y_tr_0['Bound'].apply(lambda x: -1 if x==0 else x)\n",
    "y_tr_1['Bound']=y_tr_1['Bound'].apply(lambda x: -1 if x==0 else x)\n",
    "y_tr_2['Bound']=y_tr_2['Bound'].apply(lambda x: -1 if x==0 else x)"
   ]
  },
  {
   "cell_type": "code",
   "execution_count": 13,
   "metadata": {},
   "outputs": [
    {
     "data": {
      "image/png": "[encoded data removed]",
      "text/plain": [
       "<Figure size 1152x648 with 3 Axes>"
      ]
     },
     "metadata": {},
     "output_type": "display_data"
    }
   ],
   "source": [
    "% matplotlib inline\n",
    "import matplotlib.pyplot as plt \n",
    "import seaborn as sns\n",
    "\n",
    "sns.set_style(\"darkgrid\")\n",
    "color=sns.color_palette()\n",
    "plt.figure(figsize=(16,9))\n",
    "\n",
    "plt.subplot(131)\n",
    "sns.countplot(y_tr_0['Bound'])\n",
    "plt.title('TF0')\n",
    "\n",
    "plt.subplot(132)\n",
    "sns.countplot(y_tr_1['Bound'])\n",
    "plt.title('TF1')\n",
    "\n",
    "plt.subplot(133)\n",
    "sns.countplot(y_tr_2['Bound'])\n",
    "plt.title('TF2')\n",
    "plt.show()"
   ]
  },
  {
   "cell_type": "code",
   "execution_count": 14,
   "metadata": {
    "collapsed": true
   },
   "outputs": [],
   "source": [
    "X_te_0=pd.read_csv('Xte0.csv')\n",
    "X_te_1=pd.read_csv('Xte1.csv')\n",
    "X_te_2=pd.read_csv('Xte2.csv')\n",
    "X_te_0_mat=pd.read_csv('Xte0_mat100.csv',\n",
    "                       sep=\" \" ,\n",
    "                       header=None,\n",
    "                       names=X_mat_col)\n",
    "X_te_1_mat=pd.read_csv('Xte1_mat100.csv',\n",
    "                       sep=\" \",\n",
    "                       header=None,\n",
    "                       names=X_mat_col)\n",
    "X_te_2_mat=pd.read_csv('Xte2_mat100.csv',\n",
    "                       sep=\" \", \n",
    "                       header=None,\n",
    "                       names=X_mat_col)"
   ]
  },
  {
   "cell_type": "markdown",
   "metadata": {},
   "source": [
    "# Starting with matrices"
   ]
  },
  {
   "cell_type": "markdown",
   "metadata": {},
   "source": [
    "## Splitting data"
   ]
  },
  {
   "cell_type": "code",
   "execution_count": 15,
   "metadata": {
    "collapsed": true
   },
   "outputs": [],
   "source": [
    "import numpy as np\n",
    "def split(X,y,test_ratio):\n",
    "    np.random.seed(42)\n",
    "    shuffled_ind=np.random.permutation(len(X))\n",
    "    test_size=int(len(X)*test_ratio)\n",
    "    train_ind=shuffled_ind[test_size:]\n",
    "    test_ind=shuffled_ind[:test_size]\n",
    "    return(X.iloc[train_ind],X.iloc[test_ind],y.iloc[train_ind],y.iloc[test_ind])"
   ]
  },
  {
   "cell_type": "markdown",
   "metadata": {},
   "source": [
    "### TF0"
   ]
  },
  {
   "cell_type": "code",
   "execution_count": 16,
   "metadata": {
    "collapsed": true
   },
   "outputs": [],
   "source": [
    "X_subtr_0_mat,X_val_0_mat,y_subtr_0,y_val_0=split(X_tr_0_mat,y_tr_0,0.2)"
   ]
  },
  {
   "cell_type": "markdown",
   "metadata": {},
   "source": [
    "### TF1"
   ]
  },
  {
   "cell_type": "code",
   "execution_count": 17,
   "metadata": {
    "collapsed": true
   },
   "outputs": [],
   "source": [
    "X_subtr_1_mat,X_val_1_mat,y_subtr_1,y_val_1=split(X_tr_1_mat,y_tr_1,0.2)"
   ]
  },
  {
   "cell_type": "markdown",
   "metadata": {},
   "source": [
    "### TF2"
   ]
  },
  {
   "cell_type": "code",
   "execution_count": 18,
   "metadata": {
    "collapsed": true
   },
   "outputs": [],
   "source": [
    "X_subtr_2_mat,X_val_2_mat,y_subtr_2,y_val_2=split(X_tr_2_mat,y_tr_2,0.2)"
   ]
  },
  {
   "cell_type": "markdown",
   "metadata": {},
   "source": [
    "## Testing SVM model: rbf kernel"
   ]
  },
  {
   "cell_type": "markdown",
   "metadata": {},
   "source": [
    "### TF0"
   ]
  },
  {
   "cell_type": "code",
   "execution_count": 19,
   "metadata": {
    "collapsed": true
   },
   "outputs": [],
   "source": [
    "from svm import svm\n",
    "my_model=svm()"
   ]
  },
  {
   "cell_type": "code",
   "execution_count": 21,
   "metadata": {},
   "outputs": [
    {
     "name": "stderr",
     "output_type": "stream",
     "text": [
      "100%|█████████████████████████████████████████████████████████████████████████████| 1600/1600 [00:13<00:00, 115.48it/s]\n",
      "100%|████████████████████████████████████████████████████████████████████████████████| 400/400 [00:06<00:00, 58.94it/s]\n"
     ]
    },
    {
     "name": "stdout",
     "output_type": "stream",
     "text": [
      "acc val 0: 0.4825\n"
     ]
    },
    {
     "name": "stderr",
     "output_type": "stream",
     "text": [
      "100%|██████████████████████████████████████████████████████████████████████████████| 1600/1600 [00:27<00:00, 58.11it/s]\n"
     ]
    },
    {
     "name": "stdout",
     "output_type": "stream",
     "text": [
      "acc tr 0: 0.51875\n"
     ]
    }
   ],
   "source": [
    "my_model.fit(X_subtr_0_mat,y_subtr_0['Bound'])\n",
    "my_y_pred=my_model.predict(X_val_0_mat)\n",
    "y_val_0_test=y_val_0.reset_index(drop=True)\n",
    "print('acc val 0:',np.mean(my_y_pred==y_val_0_test['Bound']))\n",
    "my_y_train=my_model.predict(X_subtr_0_mat)\n",
    "y_subtr_0_test=y_subtr_0.reset_index(drop=True)\n",
    "print('acc tr 0:',np.mean(my_y_train==y_subtr_0_test['Bound']))"
   ]
  },
  {
   "cell_type": "code",
   "execution_count": 22,
   "metadata": {},
   "outputs": [
    {
     "data": {
      "text/plain": [
       "(1600, 1)"
      ]
     },
     "execution_count": 22,
     "metadata": {},
     "output_type": "execute_result"
    }
   ],
   "source": [
    "np.shape(my_model.alpha)"
   ]
  },
  {
   "cell_type": "code",
   "execution_count": 23,
   "metadata": {},
   "outputs": [
    {
     "data": {
      "text/plain": [
       "-1    1600\n",
       "dtype: int64"
      ]
     },
     "execution_count": 23,
     "metadata": {},
     "output_type": "execute_result"
    }
   ],
   "source": [
    "pd.Series(my_y_train).value_counts()"
   ]
  },
  {
   "cell_type": "markdown",
   "metadata": {},
   "source": [
    "### TF1"
   ]
  },
  {
   "cell_type": "code",
   "execution_count": 24,
   "metadata": {},
   "outputs": [
    {
     "name": "stderr",
     "output_type": "stream",
     "text": [
      "100%|██████████████████████████████████████████████████████████████████████████████| 1600/1600 [00:16<00:00, 97.15it/s]\n",
      "100%|████████████████████████████████████████████████████████████████████████████████| 400/400 [00:06<00:00, 58.89it/s]\n"
     ]
    },
    {
     "name": "stdout",
     "output_type": "stream",
     "text": [
      "acc val 1: 0.475\n"
     ]
    },
    {
     "name": "stderr",
     "output_type": "stream",
     "text": [
      "100%|██████████████████████████████████████████████████████████████████████████████| 1600/1600 [00:29<00:00, 54.29it/s]\n"
     ]
    },
    {
     "name": "stdout",
     "output_type": "stream",
     "text": [
      "acc tr 1: 0.5075\n"
     ]
    }
   ],
   "source": [
    "my_model.fit(X_subtr_1_mat,y_subtr_1['Bound'])\n",
    "my_y_pred=my_model.predict(X_val_1_mat)\n",
    "y_val_1_test=y_val_1.reset_index(drop=True)\n",
    "print('acc val 1:',np.mean(my_y_pred==y_val_1_test['Bound']))\n",
    "my_y_train=my_model.predict(X_subtr_1_mat)\n",
    "y_subtr_1_test=y_subtr_1.reset_index(drop=True)\n",
    "print('acc tr 1:',np.mean(my_y_train==y_subtr_1_test['Bound']))"
   ]
  },
  {
   "cell_type": "markdown",
   "metadata": {},
   "source": [
    "### TF2"
   ]
  },
  {
   "cell_type": "code",
   "execution_count": 25,
   "metadata": {},
   "outputs": [
    {
     "name": "stderr",
     "output_type": "stream",
     "text": [
      "100%|██████████████████████████████████████████████████████████████████████████████| 1600/1600 [00:18<00:00, 87.72it/s]\n",
      "100%|████████████████████████████████████████████████████████████████████████████████| 400/400 [00:07<00:00, 55.55it/s]\n"
     ]
    },
    {
     "name": "stdout",
     "output_type": "stream",
     "text": [
      "acc val 2: 0.475\n"
     ]
    },
    {
     "name": "stderr",
     "output_type": "stream",
     "text": [
      "100%|██████████████████████████████████████████████████████████████████████████████| 1600/1600 [00:31<00:00, 48.31it/s]\n"
     ]
    },
    {
     "name": "stdout",
     "output_type": "stream",
     "text": [
      "acc tr 2: 0.506875\n"
     ]
    }
   ],
   "source": [
    "my_model.fit(X_subtr_2_mat,y_subtr_2['Bound'])\n",
    "my_y_pred=my_model.predict(X_val_2_mat)\n",
    "y_val_2_test=y_val_2.reset_index(drop=True)\n",
    "print('acc val 2:',np.mean(my_y_pred==y_val_2_test['Bound']))\n",
    "my_y_train=my_model.predict(X_subtr_2_mat)\n",
    "y_subtr_2_test=y_subtr_2.reset_index(drop=True)\n",
    "print('acc tr 2:',np.mean(my_y_train==y_subtr_2_test['Bound']))"
   ]
  },
  {
   "cell_type": "markdown",
   "metadata": {},
   "source": [
    "# Grid search"
   ]
  },
  {
   "cell_type": "markdown",
   "metadata": {},
   "source": [
    "### TF0"
   ]
  },
  {
   "cell_type": "code",
   "execution_count": 26,
   "metadata": {
    "scrolled": true
   },
   "outputs": [
    {
     "name": "stderr",
     "output_type": "stream",
     "text": [
      "100%|█████████████████████████████████████████████████████████████████████████████| 1066/1066 [00:06<00:00, 154.52it/s]\n",
      "100%|████████████████████████████████████████████████████████████████████████████████| 534/534 [00:06<00:00, 88.43it/s]\n",
      "100%|█████████████████████████████████████████████████████████████████████████████| 1067/1067 [00:06<00:00, 170.95it/s]\n",
      "100%|████████████████████████████████████████████████████████████████████████████████| 533/533 [00:05<00:00, 92.81it/s]\n",
      "100%|██████████████████████████████████████████████████████████████████████████████| 1067/1067 [00:06<00:00, 88.35it/s]\n",
      "100%|████████████████████████████████████████████████████████████████████████████████| 533/533 [00:05<00:00, 94.68it/s]\n",
      "100%|█████████████████████████████████████████████████████████████████████████████| 1066/1066 [00:06<00:00, 171.14it/s]\n",
      "100%|████████████████████████████████████████████████████████████████████████████████| 534/534 [00:05<00:00, 90.72it/s]\n",
      "100%|█████████████████████████████████████████████████████████████████████████████| 1067/1067 [00:06<00:00, 172.40it/s]\n",
      "100%|████████████████████████████████████████████████████████████████████████████████| 533/533 [00:05<00:00, 89.89it/s]\n",
      "100%|██████████████████████████████████████████████████████████████████████████████| 1067/1067 [00:06<00:00, 88.80it/s]\n",
      "100%|████████████████████████████████████████████████████████████████████████████████| 533/533 [00:05<00:00, 94.43it/s]\n",
      "100%|█████████████████████████████████████████████████████████████████████████████| 1066/1066 [00:06<00:00, 168.32it/s]\n",
      "100%|████████████████████████████████████████████████████████████████████████████████| 534/534 [00:05<00:00, 92.67it/s]\n",
      "100%|█████████████████████████████████████████████████████████████████████████████| 1067/1067 [00:06<00:00, 169.75it/s]\n",
      "100%|████████████████████████████████████████████████████████████████████████████████| 533/533 [00:06<00:00, 87.10it/s]\n",
      "100%|█████████████████████████████████████████████████████████████████████████████| 1067/1067 [00:06<00:00, 158.88it/s]\n",
      "100%|████████████████████████████████████████████████████████████████████████████████| 533/533 [00:06<00:00, 77.62it/s]\n",
      "100%|█████████████████████████████████████████████████████████████████████████████| 1066/1066 [00:06<00:00, 161.11it/s]\n",
      "100%|████████████████████████████████████████████████████████████████████████████████| 534/534 [00:06<00:00, 85.38it/s]\n",
      "100%|██████████████████████████████████████████████████████████████████████████████| 1067/1067 [00:06<00:00, 87.80it/s]\n",
      "100%|████████████████████████████████████████████████████████████████████████████████| 533/533 [00:06<00:00, 88.17it/s]\n",
      "100%|██████████████████████████████████████████████████████████████████████████████| 1067/1067 [00:06<00:00, 81.76it/s]\n",
      "100%|████████████████████████████████████████████████████████████████████████████████| 533/533 [00:05<00:00, 91.96it/s]\n",
      "100%|█████████████████████████████████████████████████████████████████████████████| 1066/1066 [00:06<00:00, 164.42it/s]\n",
      "100%|████████████████████████████████████████████████████████████████████████████████| 534/534 [00:06<00:00, 86.21it/s]\n",
      "100%|█████████████████████████████████████████████████████████████████████████████| 1067/1067 [00:06<00:00, 156.20it/s]\n",
      "100%|████████████████████████████████████████████████████████████████████████████████| 533/533 [00:06<00:00, 83.35it/s]\n",
      "100%|█████████████████████████████████████████████████████████████████████████████| 1067/1067 [00:07<00:00, 151.45it/s]\n",
      "100%|████████████████████████████████████████████████████████████████████████████████| 533/533 [00:06<00:00, 85.79it/s]\n",
      "100%|█████████████████████████████████████████████████████████████████████████████| 1066/1066 [00:06<00:00, 159.41it/s]\n",
      "100%|████████████████████████████████████████████████████████████████████████████████| 534/534 [00:06<00:00, 81.20it/s]\n",
      "100%|█████████████████████████████████████████████████████████████████████████████| 1067/1067 [00:06<00:00, 156.69it/s]\n",
      "100%|████████████████████████████████████████████████████████████████████████████████| 533/533 [00:06<00:00, 82.51it/s]\n",
      "100%|█████████████████████████████████████████████████████████████████████████████| 1067/1067 [00:06<00:00, 162.29it/s]\n",
      "100%|████████████████████████████████████████████████████████████████████████████████| 533/533 [00:06<00:00, 76.30it/s]\n",
      "100%|██████████████████████████████████████████████████████████████████████████████| 1066/1066 [00:06<00:00, 79.91it/s]\n",
      "100%|████████████████████████████████████████████████████████████████████████████████| 534/534 [00:06<00:00, 83.28it/s]\n",
      "100%|█████████████████████████████████████████████████████████████████████████████| 1067/1067 [00:06<00:00, 160.18it/s]\n",
      "100%|████████████████████████████████████████████████████████████████████████████████| 533/533 [00:06<00:00, 80.99it/s]\n",
      "100%|█████████████████████████████████████████████████████████████████████████████| 1067/1067 [00:07<00:00, 137.80it/s]\n",
      "100%|████████████████████████████████████████████████████████████████████████████████| 533/533 [00:06<00:00, 79.91it/s]\n",
      "100%|█████████████████████████████████████████████████████████████████████████████| 1066/1066 [00:07<00:00, 148.35it/s]\n",
      "100%|████████████████████████████████████████████████████████████████████████████████| 534/534 [00:06<00:00, 83.94it/s]\n",
      "100%|█████████████████████████████████████████████████████████████████████████████| 1067/1067 [00:06<00:00, 153.58it/s]\n",
      "100%|████████████████████████████████████████████████████████████████████████████████| 533/533 [00:06<00:00, 80.15it/s]\n",
      "100%|█████████████████████████████████████████████████████████████████████████████| 1067/1067 [00:06<00:00, 158.72it/s]\n",
      "100%|████████████████████████████████████████████████████████████████████████████████| 533/533 [00:06<00:00, 87.90it/s]\n",
      "100%|█████████████████████████████████████████████████████████████████████████████| 1066/1066 [00:07<00:00, 147.70it/s]\n",
      "100%|████████████████████████████████████████████████████████████████████████████████| 534/534 [00:06<00:00, 81.06it/s]\n",
      "100%|█████████████████████████████████████████████████████████████████████████████| 1067/1067 [00:06<00:00, 156.99it/s]\n",
      "100%|████████████████████████████████████████████████████████████████████████████████| 533/533 [00:06<00:00, 82.02it/s]\n",
      "100%|██████████████████████████████████████████████████████████████████████████████| 1067/1067 [00:07<00:00, 61.01it/s]\n",
      "100%|████████████████████████████████████████████████████████████████████████████████| 533/533 [00:08<00:00, 66.59it/s]\n",
      "100%|█████████████████████████████████████████████████████████████████████████████| 1066/1066 [00:07<00:00, 148.59it/s]\n",
      "100%|████████████████████████████████████████████████████████████████████████████████| 534/534 [00:06<00:00, 83.92it/s]\n",
      "100%|█████████████████████████████████████████████████████████████████████████████| 1067/1067 [00:06<00:00, 157.30it/s]\n",
      "100%|████████████████████████████████████████████████████████████████████████████████| 533/533 [00:06<00:00, 87.66it/s]\n",
      "100%|█████████████████████████████████████████████████████████████████████████████| 1067/1067 [00:06<00:00, 158.72it/s]\n",
      "100%|████████████████████████████████████████████████████████████████████████████████| 533/533 [00:06<00:00, 89.53it/s]\n",
      "100%|█████████████████████████████████████████████████████████████████████████████| 1066/1066 [00:06<00:00, 159.61it/s]\n",
      "100%|████████████████████████████████████████████████████████████████████████████████| 534/534 [00:06<00:00, 80.95it/s]\n",
      "100%|█████████████████████████████████████████████████████████████████████████████| 1067/1067 [00:06<00:00, 153.36it/s]\n",
      "100%|████████████████████████████████████████████████████████████████████████████████| 533/533 [00:07<00:00, 73.14it/s]\n",
      "100%|█████████████████████████████████████████████████████████████████████████████| 1067/1067 [00:06<00:00, 156.04it/s]\n",
      "100%|████████████████████████████████████████████████████████████████████████████████| 533/533 [00:06<00:00, 83.76it/s]\n",
      "100%|█████████████████████████████████████████████████████████████████████████████| 1066/1066 [00:06<00:00, 159.92it/s]\n",
      "100%|████████████████████████████████████████████████████████████████████████████████| 534/534 [00:06<00:00, 82.49it/s]\n"
     ]
    },
    {
     "name": "stderr",
     "output_type": "stream",
     "text": [
      "100%|██████████████████████████████████████████████████████████████████████████████| 1067/1067 [00:06<00:00, 87.82it/s]\n",
      "100%|████████████████████████████████████████████████████████████████████████████████| 533/533 [00:05<00:00, 90.31it/s]\n",
      "100%|█████████████████████████████████████████████████████████████████████████████| 1067/1067 [00:06<00:00, 163.75it/s]\n",
      "100%|████████████████████████████████████████████████████████████████████████████████| 533/533 [00:05<00:00, 89.41it/s]\n",
      "100%|█████████████████████████████████████████████████████████████████████████████| 1066/1066 [00:06<00:00, 167.29it/s]\n",
      "100%|████████████████████████████████████████████████████████████████████████████████| 534/534 [00:06<00:00, 88.34it/s]\n",
      "100%|██████████████████████████████████████████████████████████████████████████████| 1067/1067 [00:06<00:00, 88.58it/s]\n",
      "100%|████████████████████████████████████████████████████████████████████████████████| 533/533 [00:05<00:00, 89.17it/s]\n",
      "100%|█████████████████████████████████████████████████████████████████████████████| 1067/1067 [00:06<00:00, 165.81it/s]\n",
      "100%|████████████████████████████████████████████████████████████████████████████████| 533/533 [00:06<00:00, 91.49it/s]\n",
      "100%|█████████████████████████████████████████████████████████████████████████████| 1066/1066 [00:06<00:00, 168.04it/s]\n",
      "100%|████████████████████████████████████████████████████████████████████████████████| 534/534 [00:07<00:00, 76.17it/s]\n",
      "100%|█████████████████████████████████████████████████████████████████████████████| 1067/1067 [00:07<00:00, 133.43it/s]\n",
      "100%|████████████████████████████████████████████████████████████████████████████████| 533/533 [00:06<00:00, 85.07it/s]\n",
      "100%|█████████████████████████████████████████████████████████████████████████████| 1067/1067 [00:06<00:00, 158.90it/s]\n",
      "100%|████████████████████████████████████████████████████████████████████████████████| 533/533 [00:06<00:00, 84.97it/s]\n",
      "100%|██████████████████████████████████████████████████████████████████████████████| 1066/1066 [00:06<00:00, 87.59it/s]\n",
      "100%|████████████████████████████████████████████████████████████████████████████████| 534/534 [00:06<00:00, 84.75it/s]\n",
      "100%|█████████████████████████████████████████████████████████████████████████████| 1067/1067 [00:06<00:00, 164.38it/s]\n",
      "100%|████████████████████████████████████████████████████████████████████████████████| 533/533 [00:06<00:00, 83.64it/s]\n",
      "100%|█████████████████████████████████████████████████████████████████████████████| 1067/1067 [00:06<00:00, 157.45it/s]\n",
      "100%|████████████████████████████████████████████████████████████████████████████████| 533/533 [00:06<00:00, 82.49it/s]\n",
      "100%|██████████████████████████████████████████████████████████████████████████████| 1066/1066 [00:06<00:00, 78.62it/s]\n",
      "100%|████████████████████████████████████████████████████████████████████████████████| 534/534 [00:06<00:00, 82.65it/s]\n",
      "100%|█████████████████████████████████████████████████████████████████████████████| 1067/1067 [00:06<00:00, 163.89it/s]\n",
      "100%|████████████████████████████████████████████████████████████████████████████████| 533/533 [00:06<00:00, 83.15it/s]\n",
      "100%|█████████████████████████████████████████████████████████████████████████████| 1067/1067 [00:06<00:00, 161.27it/s]\n",
      "100%|████████████████████████████████████████████████████████████████████████████████| 533/533 [00:06<00:00, 84.99it/s]\n",
      "100%|█████████████████████████████████████████████████████████████████████████████| 1066/1066 [00:06<00:00, 154.99it/s]\n",
      "100%|████████████████████████████████████████████████████████████████████████████████| 534/534 [00:06<00:00, 82.22it/s]\n",
      "100%|█████████████████████████████████████████████████████████████████████████████| 1067/1067 [00:06<00:00, 156.21it/s]\n",
      "100%|████████████████████████████████████████████████████████████████████████████████| 533/533 [00:06<00:00, 83.13it/s]\n",
      "100%|█████████████████████████████████████████████████████████████████████████████| 1067/1067 [00:06<00:00, 159.68it/s]\n",
      "100%|████████████████████████████████████████████████████████████████████████████████| 533/533 [00:06<00:00, 90.76it/s]\n",
      "100%|█████████████████████████████████████████████████████████████████████████████| 1066/1066 [00:06<00:00, 161.25it/s]\n",
      "100%|████████████████████████████████████████████████████████████████████████████████| 534/534 [00:06<00:00, 84.08it/s]\n",
      "100%|█████████████████████████████████████████████████████████████████████████████| 1067/1067 [00:06<00:00, 159.03it/s]\n",
      "100%|████████████████████████████████████████████████████████████████████████████████| 533/533 [00:06<00:00, 81.88it/s]\n",
      "100%|██████████████████████████████████████████████████████████████████████████████| 1067/1067 [00:06<00:00, 74.10it/s]\n",
      "100%|████████████████████████████████████████████████████████████████████████████████| 533/533 [00:06<00:00, 83.62it/s]\n",
      "100%|█████████████████████████████████████████████████████████████████████████████| 1066/1066 [00:06<00:00, 157.10it/s]\n",
      "100%|████████████████████████████████████████████████████████████████████████████████| 534/534 [00:06<00:00, 81.59it/s]\n",
      "100%|█████████████████████████████████████████████████████████████████████████████| 1067/1067 [00:06<00:00, 157.71it/s]\n",
      "100%|████████████████████████████████████████████████████████████████████████████████| 533/533 [00:06<00:00, 83.00it/s]\n",
      "100%|█████████████████████████████████████████████████████████████████████████████| 1067/1067 [00:07<00:00, 148.76it/s]\n",
      "100%|████████████████████████████████████████████████████████████████████████████████| 533/533 [00:06<00:00, 81.26it/s]\n",
      "100%|█████████████████████████████████████████████████████████████████████████████| 1066/1066 [00:06<00:00, 152.39it/s]\n",
      "100%|████████████████████████████████████████████████████████████████████████████████| 534/534 [00:06<00:00, 83.25it/s]\n",
      "100%|█████████████████████████████████████████████████████████████████████████████| 1067/1067 [00:06<00:00, 155.51it/s]\n",
      "100%|████████████████████████████████████████████████████████████████████████████████| 533/533 [00:06<00:00, 81.98it/s]\n",
      "100%|█████████████████████████████████████████████████████████████████████████████| 1067/1067 [00:06<00:00, 157.57it/s]\n",
      "100%|████████████████████████████████████████████████████████████████████████████████| 533/533 [00:07<00:00, 73.93it/s]\n"
     ]
    }
   ],
   "source": [
    "svm_gs_0=my_model.grid_search(params={'ld':np.logspace(-3,0,num=10).tolist(),'sigma':[0.1,0.2]},\n",
    "            X=X_subtr_0_mat,\n",
    "            y=y_subtr_0['Bound'],\n",
    "            cv=3)"
   ]
  },
  {
   "cell_type": "code",
   "execution_count": 27,
   "metadata": {
    "collapsed": true
   },
   "outputs": [],
   "source": [
    "gs_df=svm_gs_0[1]"
   ]
  },
  {
   "cell_type": "code",
   "execution_count": 28,
   "metadata": {},
   "outputs": [
    {
     "data": {
      "text/html": [
       "<div>\n",
       "<style>\n",
       "    .dataframe thead tr:only-child th {\n",
       "        text-align: right;\n",
       "    }\n",
       "\n",
       "    .dataframe thead th {\n",
       "        text-align: left;\n",
       "    }\n",
       "\n",
       "    .dataframe tbody tr th {\n",
       "        vertical-align: top;\n",
       "    }\n",
       "</style>\n",
       "<table border=\"1\" class=\"dataframe\">\n",
       "  <thead>\n",
       "    <tr style=\"text-align: right;\">\n",
       "      <th></th>\n",
       "      <th>ld</th>\n",
       "      <th>sigma</th>\n",
       "      <th>score_mean</th>\n",
       "      <th>score_var</th>\n",
       "    </tr>\n",
       "  </thead>\n",
       "  <tbody>\n",
       "    <tr>\n",
       "      <th>0</th>\n",
       "      <td>0.001000</td>\n",
       "      <td>0.1</td>\n",
       "      <td>0.571257</td>\n",
       "      <td>0.000234</td>\n",
       "    </tr>\n",
       "    <tr>\n",
       "      <th>1</th>\n",
       "      <td>0.001000</td>\n",
       "      <td>0.2</td>\n",
       "      <td>0.546233</td>\n",
       "      <td>0.001711</td>\n",
       "    </tr>\n",
       "    <tr>\n",
       "      <th>2</th>\n",
       "      <td>0.002154</td>\n",
       "      <td>0.1</td>\n",
       "      <td>0.544993</td>\n",
       "      <td>0.001589</td>\n",
       "    </tr>\n",
       "    <tr>\n",
       "      <th>3</th>\n",
       "      <td>0.002154</td>\n",
       "      <td>0.2</td>\n",
       "      <td>0.524367</td>\n",
       "      <td>0.000764</td>\n",
       "    </tr>\n",
       "    <tr>\n",
       "      <th>4</th>\n",
       "      <td>0.004642</td>\n",
       "      <td>0.1</td>\n",
       "      <td>0.521242</td>\n",
       "      <td>0.000641</td>\n",
       "    </tr>\n",
       "    <tr>\n",
       "      <th>5</th>\n",
       "      <td>0.004642</td>\n",
       "      <td>0.2</td>\n",
       "      <td>0.518742</td>\n",
       "      <td>0.000546</td>\n",
       "    </tr>\n",
       "    <tr>\n",
       "      <th>6</th>\n",
       "      <td>0.010000</td>\n",
       "      <td>0.1</td>\n",
       "      <td>0.521868</td>\n",
       "      <td>0.000671</td>\n",
       "    </tr>\n",
       "    <tr>\n",
       "      <th>7</th>\n",
       "      <td>0.010000</td>\n",
       "      <td>0.2</td>\n",
       "      <td>0.518742</td>\n",
       "      <td>0.000546</td>\n",
       "    </tr>\n",
       "    <tr>\n",
       "      <th>8</th>\n",
       "      <td>0.021544</td>\n",
       "      <td>0.1</td>\n",
       "      <td>0.521868</td>\n",
       "      <td>0.000671</td>\n",
       "    </tr>\n",
       "    <tr>\n",
       "      <th>9</th>\n",
       "      <td>0.021544</td>\n",
       "      <td>0.2</td>\n",
       "      <td>0.518742</td>\n",
       "      <td>0.000546</td>\n",
       "    </tr>\n",
       "    <tr>\n",
       "      <th>10</th>\n",
       "      <td>0.046416</td>\n",
       "      <td>0.1</td>\n",
       "      <td>0.521868</td>\n",
       "      <td>0.000671</td>\n",
       "    </tr>\n",
       "    <tr>\n",
       "      <th>11</th>\n",
       "      <td>0.046416</td>\n",
       "      <td>0.2</td>\n",
       "      <td>0.518742</td>\n",
       "      <td>0.000546</td>\n",
       "    </tr>\n",
       "    <tr>\n",
       "      <th>12</th>\n",
       "      <td>0.100000</td>\n",
       "      <td>0.1</td>\n",
       "      <td>0.521868</td>\n",
       "      <td>0.000671</td>\n",
       "    </tr>\n",
       "    <tr>\n",
       "      <th>13</th>\n",
       "      <td>0.100000</td>\n",
       "      <td>0.2</td>\n",
       "      <td>0.518742</td>\n",
       "      <td>0.000546</td>\n",
       "    </tr>\n",
       "    <tr>\n",
       "      <th>14</th>\n",
       "      <td>0.215443</td>\n",
       "      <td>0.1</td>\n",
       "      <td>0.521868</td>\n",
       "      <td>0.000671</td>\n",
       "    </tr>\n",
       "    <tr>\n",
       "      <th>15</th>\n",
       "      <td>0.215443</td>\n",
       "      <td>0.2</td>\n",
       "      <td>0.518742</td>\n",
       "      <td>0.000546</td>\n",
       "    </tr>\n",
       "    <tr>\n",
       "      <th>16</th>\n",
       "      <td>0.464159</td>\n",
       "      <td>0.1</td>\n",
       "      <td>0.521868</td>\n",
       "      <td>0.000671</td>\n",
       "    </tr>\n",
       "    <tr>\n",
       "      <th>17</th>\n",
       "      <td>0.464159</td>\n",
       "      <td>0.2</td>\n",
       "      <td>0.518742</td>\n",
       "      <td>0.000546</td>\n",
       "    </tr>\n",
       "    <tr>\n",
       "      <th>18</th>\n",
       "      <td>1.000000</td>\n",
       "      <td>0.1</td>\n",
       "      <td>0.521868</td>\n",
       "      <td>0.000671</td>\n",
       "    </tr>\n",
       "    <tr>\n",
       "      <th>19</th>\n",
       "      <td>1.000000</td>\n",
       "      <td>0.2</td>\n",
       "      <td>0.518742</td>\n",
       "      <td>0.000546</td>\n",
       "    </tr>\n",
       "  </tbody>\n",
       "</table>\n",
       "</div>"
      ],
      "text/plain": [
       "          ld  sigma  score_mean  score_var\n",
       "0   0.001000    0.1    0.571257   0.000234\n",
       "1   0.001000    0.2    0.546233   0.001711\n",
       "2   0.002154    0.1    0.544993   0.001589\n",
       "3   0.002154    0.2    0.524367   0.000764\n",
       "4   0.004642    0.1    0.521242   0.000641\n",
       "5   0.004642    0.2    0.518742   0.000546\n",
       "6   0.010000    0.1    0.521868   0.000671\n",
       "7   0.010000    0.2    0.518742   0.000546\n",
       "8   0.021544    0.1    0.521868   0.000671\n",
       "9   0.021544    0.2    0.518742   0.000546\n",
       "10  0.046416    0.1    0.521868   0.000671\n",
       "11  0.046416    0.2    0.518742   0.000546\n",
       "12  0.100000    0.1    0.521868   0.000671\n",
       "13  0.100000    0.2    0.518742   0.000546\n",
       "14  0.215443    0.1    0.521868   0.000671\n",
       "15  0.215443    0.2    0.518742   0.000546\n",
       "16  0.464159    0.1    0.521868   0.000671\n",
       "17  0.464159    0.2    0.518742   0.000546\n",
       "18  1.000000    0.1    0.521868   0.000671\n",
       "19  1.000000    0.2    0.518742   0.000546"
      ]
     },
     "execution_count": 28,
     "metadata": {},
     "output_type": "execute_result"
    }
   ],
   "source": [
    "gs_df"
   ]
  },
  {
   "cell_type": "code",
   "execution_count": 29,
   "metadata": {},
   "outputs": [
    {
     "data": {
      "image/png": "[encoded data removed]",
      "text/plain": [
       "<Figure size 428.975x360 with 1 Axes>"
      ]
     },
     "metadata": {},
     "output_type": "display_data"
    },
    {
     "data": {
      "image/png": "[encoded data removed]",
      "text/plain": [
       "<Figure size 428.975x360 with 1 Axes>"
      ]
     },
     "metadata": {},
     "output_type": "display_data"
    }
   ],
   "source": [
    "import seaborn as sns\n",
    "sns.set(style=\"darkgrid\")\n",
    "sns.relplot(x=\"ld\", y=\"score_mean\", data=gs_df, style='sigma', kind='line')\n",
    "plt.xscale('log')\n",
    "sns.relplot(x=\"ld\", y=\"score_var\", data=gs_df, style='sigma', kind='line')\n",
    "plt.xscale('log')"
   ]
  },
  {
   "cell_type": "code",
   "execution_count": 30,
   "metadata": {
    "collapsed": true
   },
   "outputs": [],
   "source": [
    "svm_gs_0 = svm_gs_0[0]"
   ]
  },
  {
   "cell_type": "code",
   "execution_count": 31,
   "metadata": {},
   "outputs": [
    {
     "data": {
      "text/plain": [
       "{'ld': 0.001, 'sigma': 0.1, 'top_score': 0.5712570824930375}"
      ]
     },
     "execution_count": 31,
     "metadata": {},
     "output_type": "execute_result"
    }
   ],
   "source": [
    "svm_gs_0"
   ]
  },
  {
   "cell_type": "code",
   "execution_count": 32,
   "metadata": {},
   "outputs": [
    {
     "name": "stderr",
     "output_type": "stream",
     "text": [
      "100%|█████████████████████████████████████████████████████████████████████████████| 1600/1600 [00:14<00:00, 110.36it/s]\n",
      "100%|████████████████████████████████████████████████████████████████████████████████| 400/400 [00:06<00:00, 61.29it/s]\n"
     ]
    },
    {
     "name": "stdout",
     "output_type": "stream",
     "text": [
      "acc val 0 gs: 0.575\n"
     ]
    }
   ],
   "source": [
    "my_svm_gs_0=svm(kernel='rbf',ld=1e-3,sigma=0.1)\n",
    "my_svm_gs_0.fit(X_subtr_0_mat,y_subtr_0['Bound'])\n",
    "my_y_pred=my_svm_gs_0.predict(X_val_0_mat)\n",
    "y_val_0_test=y_val_0.reset_index(drop=True)\n",
    "print('acc val 0 gs:',np.mean(my_y_pred==y_val_0_test['Bound']))"
   ]
  },
  {
   "cell_type": "code",
   "execution_count": 33,
   "metadata": {},
   "outputs": [
    {
     "name": "stderr",
     "output_type": "stream",
     "text": [
      "100%|██████████████████████████████████████████████████████████████████████████████| 1600/1600 [00:27<00:00, 58.93it/s]\n"
     ]
    },
    {
     "name": "stdout",
     "output_type": "stream",
     "text": [
      "acc tr 0 gs: 0.69375\n"
     ]
    }
   ],
   "source": [
    "my_y_train=my_svm_gs_0.predict(X_subtr_0_mat)\n",
    "y_subtr_0_test=y_subtr_0.reset_index(drop=True)\n",
    "print('acc tr 0 gs:',np.mean(my_y_train==y_subtr_0_test['Bound']))"
   ]
  },
  {
   "cell_type": "markdown",
   "metadata": {},
   "source": [
    "### TF1"
   ]
  },
  {
   "cell_type": "code",
   "execution_count": 34,
   "metadata": {
    "scrolled": true
   },
   "outputs": [
    {
     "name": "stderr",
     "output_type": "stream",
     "text": [
      "100%|██████████████████████████████████████████████████████████████████████████████| 1066/1066 [00:07<00:00, 70.48it/s]\n",
      "100%|████████████████████████████████████████████████████████████████████████████████| 534/534 [00:05<00:00, 91.63it/s]\n",
      "100%|█████████████████████████████████████████████████████████████████████████████| 1067/1067 [00:06<00:00, 165.91it/s]\n",
      "100%|████████████████████████████████████████████████████████████████████████████████| 533/533 [00:06<00:00, 80.59it/s]\n",
      "100%|█████████████████████████████████████████████████████████████████████████████| 1067/1067 [00:07<00:00, 149.14it/s]\n",
      "100%|████████████████████████████████████████████████████████████████████████████████| 533/533 [00:06<00:00, 82.70it/s]\n",
      "100%|█████████████████████████████████████████████████████████████████████████████| 1066/1066 [00:07<00:00, 141.11it/s]\n",
      "100%|████████████████████████████████████████████████████████████████████████████████| 534/534 [00:06<00:00, 79.57it/s]\n",
      "100%|█████████████████████████████████████████████████████████████████████████████| 1067/1067 [00:06<00:00, 160.68it/s]\n",
      "100%|████████████████████████████████████████████████████████████████████████████████| 533/533 [00:06<00:00, 86.54it/s]\n",
      "100%|█████████████████████████████████████████████████████████████████████████████| 1067/1067 [00:06<00:00, 169.07it/s]\n",
      "100%|████████████████████████████████████████████████████████████████████████████████| 533/533 [00:05<00:00, 90.69it/s]\n",
      "100%|█████████████████████████████████████████████████████████████████████████████| 1066/1066 [00:06<00:00, 166.38it/s]\n",
      "100%|████████████████████████████████████████████████████████████████████████████████| 534/534 [00:05<00:00, 89.12it/s]\n",
      "100%|█████████████████████████████████████████████████████████████████████████████| 1067/1067 [00:06<00:00, 163.26it/s]\n",
      "100%|████████████████████████████████████████████████████████████████████████████████| 533/533 [00:06<00:00, 81.55it/s]\n",
      "100%|█████████████████████████████████████████████████████████████████████████████| 1067/1067 [00:06<00:00, 159.18it/s]\n",
      "100%|████████████████████████████████████████████████████████████████████████████████| 533/533 [00:05<00:00, 90.16it/s]\n",
      "100%|█████████████████████████████████████████████████████████████████████████████| 1066/1066 [00:06<00:00, 164.23it/s]\n",
      "100%|████████████████████████████████████████████████████████████████████████████████| 534/534 [00:06<00:00, 86.10it/s]\n",
      "100%|█████████████████████████████████████████████████████████████████████████████| 1067/1067 [00:06<00:00, 162.15it/s]\n",
      "100%|████████████████████████████████████████████████████████████████████████████████| 533/533 [00:06<00:00, 86.30it/s]\n",
      "100%|█████████████████████████████████████████████████████████████████████████████| 1067/1067 [00:06<00:00, 164.97it/s]\n",
      "100%|████████████████████████████████████████████████████████████████████████████████| 533/533 [00:06<00:00, 90.44it/s]\n",
      "100%|█████████████████████████████████████████████████████████████████████████████| 1066/1066 [00:07<00:00, 152.06it/s]\n",
      "100%|████████████████████████████████████████████████████████████████████████████████| 534/534 [00:06<00:00, 84.55it/s]\n",
      "100%|█████████████████████████████████████████████████████████████████████████████| 1067/1067 [00:06<00:00, 159.59it/s]\n",
      "100%|████████████████████████████████████████████████████████████████████████████████| 533/533 [00:06<00:00, 85.83it/s]\n",
      "100%|██████████████████████████████████████████████████████████████████████████████| 1067/1067 [00:06<00:00, 84.46it/s]\n",
      "100%|████████████████████████████████████████████████████████████████████████████████| 533/533 [00:06<00:00, 84.67it/s]\n",
      "100%|█████████████████████████████████████████████████████████████████████████████| 1066/1066 [00:06<00:00, 165.22it/s]\n",
      "100%|████████████████████████████████████████████████████████████████████████████████| 534/534 [00:06<00:00, 85.62it/s]\n",
      "100%|█████████████████████████████████████████████████████████████████████████████| 1067/1067 [00:06<00:00, 164.35it/s]\n",
      "100%|████████████████████████████████████████████████████████████████████████████████| 533/533 [00:06<00:00, 83.90it/s]\n",
      "100%|█████████████████████████████████████████████████████████████████████████████| 1067/1067 [00:06<00:00, 160.84it/s]\n",
      "100%|████████████████████████████████████████████████████████████████████████████████| 533/533 [00:06<00:00, 84.35it/s]\n"
     ]
    }
   ],
   "source": [
    "svm_gs_1=my_model.grid_search(params={'ld':[1e-4,1e-3,1e-2],'sigma':[0.1,1]},\n",
    "            X=X_subtr_1_mat,\n",
    "            y=y_subtr_1['Bound'],\n",
    "                    cv=3)"
   ]
  },
  {
   "cell_type": "code",
   "execution_count": 35,
   "metadata": {
    "collapsed": true
   },
   "outputs": [],
   "source": [
    "gs_1=svm_gs_1[1]\n",
    "svm_gs_1=svm_gs_1[0]"
   ]
  },
  {
   "cell_type": "code",
   "execution_count": 36,
   "metadata": {},
   "outputs": [
    {
     "data": {
      "image/png": "[encoded data removed]",
      "text/plain": [
       "<Figure size 428.975x360 with 1 Axes>"
      ]
     },
     "metadata": {},
     "output_type": "display_data"
    },
    {
     "data": {
      "image/png": "[encoded data removed]",
      "text/plain": [
       "<Figure size 428.975x360 with 1 Axes>"
      ]
     },
     "metadata": {},
     "output_type": "display_data"
    }
   ],
   "source": [
    "sns.relplot(x=\"ld\", y=\"score_mean\", data=gs_1, style='sigma', kind='line')\n",
    "plt.xscale('log')\n",
    "sns.relplot(x=\"ld\", y=\"score_var\", data=gs_1, style='sigma', kind='line')\n",
    "plt.xscale('log')"
   ]
  },
  {
   "cell_type": "code",
   "execution_count": 37,
   "metadata": {},
   "outputs": [
    {
     "data": {
      "text/plain": [
       "{'ld': 0.0001, 'sigma': 0.1, 'top_score': 0.6506383905671381}"
      ]
     },
     "execution_count": 37,
     "metadata": {},
     "output_type": "execute_result"
    }
   ],
   "source": [
    "svm_gs_1"
   ]
  },
  {
   "cell_type": "markdown",
   "metadata": {},
   "source": [
    "SVM model with lambda = 1e-4 has the best accuracy but the worst variance, we will, then, take instead lambda = 1e-3"
   ]
  },
  {
   "cell_type": "code",
   "execution_count": 38,
   "metadata": {},
   "outputs": [
    {
     "name": "stderr",
     "output_type": "stream",
     "text": [
      "100%|█████████████████████████████████████████████████████████████████████████████| 1600/1600 [00:14<00:00, 113.15it/s]\n",
      "100%|████████████████████████████████████████████████████████████████████████████████| 400/400 [00:06<00:00, 58.69it/s]\n"
     ]
    },
    {
     "name": "stdout",
     "output_type": "stream",
     "text": [
      "0.6425\n"
     ]
    }
   ],
   "source": [
    "my_svm_gs_1=svm(kernel='rbf',ld=1e-3,sigma=0.1)\n",
    "my_svm_gs_1.fit(X_subtr_1_mat,y_subtr_1['Bound'])\n",
    "my_y_pred=my_svm_gs_1.predict(X_val_1_mat)\n",
    "y_val_1_test=y_val_1.reset_index(drop=True)\n",
    "print(np.mean(my_y_pred==y_val_1_test['Bound']))"
   ]
  },
  {
   "cell_type": "code",
   "execution_count": 39,
   "metadata": {},
   "outputs": [
    {
     "name": "stderr",
     "output_type": "stream",
     "text": [
      "100%|██████████████████████████████████████████████████████████████████████████████| 1600/1600 [00:26<00:00, 61.44it/s]\n"
     ]
    },
    {
     "name": "stdout",
     "output_type": "stream",
     "text": [
      "0.729375\n"
     ]
    }
   ],
   "source": [
    "my_y_train=my_svm_gs_1.predict(X_subtr_1_mat)\n",
    "y_subtr_1_test=y_subtr_1.reset_index(drop=True)\n",
    "print(np.mean(my_y_train==y_subtr_1_test['Bound']))"
   ]
  },
  {
   "cell_type": "markdown",
   "metadata": {},
   "source": [
    "### TF2"
   ]
  },
  {
   "cell_type": "code",
   "execution_count": 40,
   "metadata": {
    "scrolled": true
   },
   "outputs": [
    {
     "name": "stderr",
     "output_type": "stream",
     "text": [
      "100%|█████████████████████████████████████████████████████████████████████████████| 1066/1066 [00:06<00:00, 162.40it/s]\n",
      "100%|████████████████████████████████████████████████████████████████████████████████| 534/534 [00:05<00:00, 90.41it/s]\n",
      "100%|█████████████████████████████████████████████████████████████████████████████| 1067/1067 [00:06<00:00, 165.35it/s]\n",
      "100%|████████████████████████████████████████████████████████████████████████████████| 533/533 [00:05<00:00, 94.43it/s]\n",
      "100%|█████████████████████████████████████████████████████████████████████████████| 1067/1067 [00:06<00:00, 156.46it/s]\n",
      "100%|████████████████████████████████████████████████████████████████████████████████| 533/533 [00:05<00:00, 92.51it/s]\n",
      "100%|█████████████████████████████████████████████████████████████████████████████| 1066/1066 [00:06<00:00, 166.60it/s]\n",
      "100%|████████████████████████████████████████████████████████████████████████████████| 534/534 [00:05<00:00, 97.00it/s]\n",
      "100%|██████████████████████████████████████████████████████████████████████████████| 1067/1067 [00:06<00:00, 87.16it/s]\n",
      "100%|████████████████████████████████████████████████████████████████████████████████| 533/533 [00:05<00:00, 97.90it/s]\n",
      "100%|█████████████████████████████████████████████████████████████████████████████| 1067/1067 [00:06<00:00, 167.23it/s]\n",
      "100%|████████████████████████████████████████████████████████████████████████████████| 533/533 [00:05<00:00, 95.51it/s]\n",
      "100%|█████████████████████████████████████████████████████████████████████████████| 1066/1066 [00:06<00:00, 160.95it/s]\n",
      "100%|████████████████████████████████████████████████████████████████████████████████| 534/534 [00:06<00:00, 69.01it/s]\n",
      "100%|█████████████████████████████████████████████████████████████████████████████| 1067/1067 [00:06<00:00, 158.09it/s]\n",
      "100%|████████████████████████████████████████████████████████████████████████████████| 533/533 [00:06<00:00, 88.69it/s]\n",
      "100%|█████████████████████████████████████████████████████████████████████████████| 1067/1067 [00:06<00:00, 161.22it/s]\n",
      "100%|████████████████████████████████████████████████████████████████████████████████| 533/533 [00:06<00:00, 86.01it/s]\n",
      "100%|█████████████████████████████████████████████████████████████████████████████| 1066/1066 [00:06<00:00, 165.40it/s]\n",
      "100%|████████████████████████████████████████████████████████████████████████████████| 534/534 [00:05<00:00, 92.48it/s]\n",
      "100%|█████████████████████████████████████████████████████████████████████████████| 1067/1067 [00:06<00:00, 162.44it/s]\n",
      "100%|████████████████████████████████████████████████████████████████████████████████| 533/533 [00:05<00:00, 93.88it/s]\n",
      "100%|█████████████████████████████████████████████████████████████████████████████| 1067/1067 [00:06<00:00, 161.58it/s]\n",
      "100%|████████████████████████████████████████████████████████████████████████████████| 533/533 [00:05<00:00, 95.97it/s]\n",
      "100%|█████████████████████████████████████████████████████████████████████████████| 1066/1066 [00:06<00:00, 166.70it/s]\n",
      "100%|████████████████████████████████████████████████████████████████████████████████| 534/534 [00:05<00:00, 92.24it/s]\n",
      "100%|█████████████████████████████████████████████████████████████████████████████| 1067/1067 [00:06<00:00, 164.52it/s]\n",
      "100%|████████████████████████████████████████████████████████████████████████████████| 533/533 [00:06<00:00, 85.97it/s]\n",
      "100%|█████████████████████████████████████████████████████████████████████████████| 1067/1067 [00:06<00:00, 160.60it/s]\n",
      "100%|████████████████████████████████████████████████████████████████████████████████| 533/533 [00:05<00:00, 89.42it/s]\n",
      "100%|█████████████████████████████████████████████████████████████████████████████| 1066/1066 [00:06<00:00, 152.55it/s]\n",
      "100%|████████████████████████████████████████████████████████████████████████████████| 534/534 [00:06<00:00, 86.21it/s]\n",
      "100%|█████████████████████████████████████████████████████████████████████████████| 1067/1067 [00:06<00:00, 162.39it/s]\n",
      "100%|████████████████████████████████████████████████████████████████████████████████| 533/533 [00:06<00:00, 84.62it/s]\n",
      "100%|█████████████████████████████████████████████████████████████████████████████| 1067/1067 [00:06<00:00, 161.50it/s]\n",
      "100%|████████████████████████████████████████████████████████████████████████████████| 533/533 [00:06<00:00, 86.67it/s]\n",
      "100%|█████████████████████████████████████████████████████████████████████████████| 1066/1066 [00:06<00:00, 153.87it/s]\n",
      "100%|████████████████████████████████████████████████████████████████████████████████| 534/534 [00:06<00:00, 84.19it/s]\n",
      "100%|█████████████████████████████████████████████████████████████████████████████| 1067/1067 [00:06<00:00, 160.33it/s]\n",
      "100%|████████████████████████████████████████████████████████████████████████████████| 533/533 [00:06<00:00, 85.34it/s]\n",
      "100%|██████████████████████████████████████████████████████████████████████████████| 1067/1067 [00:06<00:00, 86.34it/s]\n",
      "100%|████████████████████████████████████████████████████████████████████████████████| 533/533 [00:06<00:00, 82.83it/s]\n",
      "100%|█████████████████████████████████████████████████████████████████████████████| 1066/1066 [00:07<00:00, 135.99it/s]\n",
      "100%|████████████████████████████████████████████████████████████████████████████████| 534/534 [00:06<00:00, 83.07it/s]\n",
      "100%|█████████████████████████████████████████████████████████████████████████████| 1067/1067 [00:08<00:00, 128.49it/s]\n",
      "100%|████████████████████████████████████████████████████████████████████████████████| 533/533 [00:11<00:00, 43.00it/s]\n",
      "100%|██████████████████████████████████████████████████████████████████████████████| 1067/1067 [00:07<00:00, 78.58it/s]\n",
      "100%|████████████████████████████████████████████████████████████████████████████████| 533/533 [00:05<00:00, 95.98it/s]\n",
      "100%|█████████████████████████████████████████████████████████████████████████████| 1066/1066 [00:06<00:00, 174.83it/s]\n",
      "100%|████████████████████████████████████████████████████████████████████████████████| 534/534 [00:06<00:00, 88.17it/s]\n",
      "100%|█████████████████████████████████████████████████████████████████████████████| 1067/1067 [00:09<00:00, 107.72it/s]\n",
      "100%|████████████████████████████████████████████████████████████████████████████████| 533/533 [00:07<00:00, 71.43it/s]\n",
      "100%|█████████████████████████████████████████████████████████████████████████████| 1067/1067 [00:06<00:00, 163.68it/s]\n",
      "100%|████████████████████████████████████████████████████████████████████████████████| 533/533 [00:05<00:00, 96.13it/s]\n"
     ]
    }
   ],
   "source": [
    "svm_gs_2=my_model.grid_search(params={'ld':[1e-4,1e-3,1e-2],'sigma':[0.1,1,10]},\n",
    "            X=X_subtr_2_mat,\n",
    "            y=y_subtr_2['Bound'],\n",
    "                    cv=3)"
   ]
  },
  {
   "cell_type": "code",
   "execution_count": 41,
   "metadata": {
    "collapsed": true
   },
   "outputs": [],
   "source": [
    "gs_2=svm_gs_2[1]\n",
    "svm_gs_2=svm_gs_2[0]"
   ]
  },
  {
   "cell_type": "code",
   "execution_count": 42,
   "metadata": {},
   "outputs": [
    {
     "data": {
      "image/png": "[encoded data removed]",
      "text/plain": [
       "<Figure size 428.975x360 with 1 Axes>"
      ]
     },
     "metadata": {},
     "output_type": "display_data"
    },
    {
     "data": {
      "image/png": "[encoded data removed]",
      "text/plain": [
       "<Figure size 428.975x360 with 1 Axes>"
      ]
     },
     "metadata": {},
     "output_type": "display_data"
    }
   ],
   "source": [
    "sns.relplot(x=\"ld\", y=\"score_mean\", data=gs_2, style='sigma', kind='line')\n",
    "plt.xscale('log')\n",
    "sns.relplot(x=\"ld\", y=\"score_var\", data=gs_2, style='sigma', kind='line')\n",
    "plt.xscale('log')"
   ]
  },
  {
   "cell_type": "code",
   "execution_count": 43,
   "metadata": {},
   "outputs": [
    {
     "data": {
      "text/plain": [
       "{'ld': 0.001, 'sigma': 0.1, 'top_score': 0.5987450021431934}"
      ]
     },
     "execution_count": 43,
     "metadata": {},
     "output_type": "execute_result"
    }
   ],
   "source": [
    "svm_gs_2"
   ]
  },
  {
   "cell_type": "code",
   "execution_count": 44,
   "metadata": {},
   "outputs": [
    {
     "name": "stderr",
     "output_type": "stream",
     "text": [
      "100%|█████████████████████████████████████████████████████████████████████████████| 1600/1600 [00:14<00:00, 110.23it/s]\n",
      "100%|████████████████████████████████████████████████████████████████████████████████| 400/400 [00:05<00:00, 72.10it/s]\n"
     ]
    },
    {
     "name": "stdout",
     "output_type": "stream",
     "text": [
      "acc val 2 gs: 0.6025\n"
     ]
    }
   ],
   "source": [
    "my_svm_gs_2=svm(kernel='rbf',ld=1e-3,sigma=0.1)\n",
    "my_svm_gs_2.fit(X_subtr_2_mat,y_subtr_2['Bound'])\n",
    "my_y_pred=my_svm_gs_2.predict(X_val_2_mat)\n",
    "y_val_2_test=y_val_2.reset_index(drop=True)\n",
    "print('acc val 2 gs:',np.mean(my_y_pred==y_val_2_test['Bound']))"
   ]
  },
  {
   "cell_type": "code",
   "execution_count": 45,
   "metadata": {},
   "outputs": [
    {
     "name": "stderr",
     "output_type": "stream",
     "text": [
      "100%|██████████████████████████████████████████████████████████████████████████████| 1600/1600 [00:22<00:00, 71.13it/s]\n"
     ]
    },
    {
     "name": "stdout",
     "output_type": "stream",
     "text": [
      "acc tr 2 gs: 0.675\n"
     ]
    }
   ],
   "source": [
    "my_y_train=my_svm_gs_2.predict(X_subtr_2_mat)\n",
    "y_subtr_2_test=y_subtr_2.reset_index(drop=True)\n",
    "print('acc tr 2 gs:',np.mean(my_y_train==y_subtr_2_test['Bound']))"
   ]
  },
  {
   "cell_type": "markdown",
   "metadata": {},
   "source": [
    "## Submissions - SVM - rbf (matrix)"
   ]
  },
  {
   "cell_type": "markdown",
   "metadata": {},
   "source": [
    "### TF0"
   ]
  },
  {
   "cell_type": "code",
   "execution_count": 46,
   "metadata": {},
   "outputs": [
    {
     "name": "stderr",
     "output_type": "stream",
     "text": [
      "100%|██████████████████████████████████████████████████████████████████████████████| 2000/2000 [00:23<00:00, 85.05it/s]\n",
      "100%|██████████████████████████████████████████████████████████████████████████████| 1000/1000 [00:21<00:00, 49.15it/s]\n"
     ]
    }
   ],
   "source": [
    "#all training samples\n",
    "my_svm_gs = svm(kernel='rbf',ld=1e-3,sigma=0.1)\n",
    "my_svm_gs.fit(X_tr_0_mat,y_tr_0['Bound'])\n",
    "y_te_0_mat = my_svm_gs.predict(X_te_0_mat)"
   ]
  },
  {
   "cell_type": "code",
   "execution_count": 47,
   "metadata": {
    "collapsed": true
   },
   "outputs": [],
   "source": [
    "y_te_0_mat_df=pd.DataFrame(y_te_0_mat,columns=['Bound'])\n",
    "y_te_0_mat_df.insert(loc=0,column='Id',value=X_tr_0['Id'])"
   ]
  },
  {
   "cell_type": "markdown",
   "metadata": {},
   "source": [
    "### TF1"
   ]
  },
  {
   "cell_type": "code",
   "execution_count": 48,
   "metadata": {},
   "outputs": [
    {
     "name": "stderr",
     "output_type": "stream",
     "text": [
      "100%|██████████████████████████████████████████████████████████████████████████████| 2000/2000 [00:25<00:00, 79.44it/s]\n",
      "100%|██████████████████████████████████████████████████████████████████████████████| 1000/1000 [00:19<00:00, 50.98it/s]\n"
     ]
    }
   ],
   "source": [
    "#all training samples\n",
    "my_svm_gs.fit(X_tr_1_mat,y_tr_1['Bound'])\n",
    "y_te_1_mat = my_svm_gs.predict(X_te_1_mat)"
   ]
  },
  {
   "cell_type": "code",
   "execution_count": 49,
   "metadata": {
    "collapsed": true
   },
   "outputs": [],
   "source": [
    "y_te_1_mat_df=pd.DataFrame(y_te_1_mat,columns=['Bound'])\n",
    "y_te_1_mat_df.insert(loc=0,column='Id',value=X_tr_1['Id']-1000)"
   ]
  },
  {
   "cell_type": "markdown",
   "metadata": {},
   "source": [
    "### TF2 "
   ]
  },
  {
   "cell_type": "code",
   "execution_count": 50,
   "metadata": {},
   "outputs": [
    {
     "name": "stderr",
     "output_type": "stream",
     "text": [
      "100%|██████████████████████████████████████████████████████████████████████████████| 2000/2000 [00:20<00:00, 98.89it/s]\n",
      "100%|██████████████████████████████████████████████████████████████████████████████| 1000/1000 [00:16<00:00, 60.41it/s]\n"
     ]
    }
   ],
   "source": [
    "#all training samples\n",
    "my_svm_gs.fit(X_tr_2_mat,y_tr_2['Bound'])\n",
    "y_te_2_mat = my_svm_gs.predict(X_te_2_mat)"
   ]
  },
  {
   "cell_type": "code",
   "execution_count": 51,
   "metadata": {
    "collapsed": true
   },
   "outputs": [],
   "source": [
    "y_te_2_mat_df=pd.DataFrame(y_te_2_mat,columns=['Bound'])\n",
    "y_te_2_mat_df.insert(loc=0,column='Id',value=X_tr_1['Id'])"
   ]
  },
  {
   "cell_type": "code",
   "execution_count": 52,
   "metadata": {
    "collapsed": true
   },
   "outputs": [],
   "source": [
    "y_te_mat_df=pd.concat([y_te_0_mat_df,y_te_1_mat_df,y_te_2_mat_df])\n",
    "y_te_mat_df['Bound'][y_te_mat_df['Bound']==-1]=0"
   ]
  },
  {
   "cell_type": "code",
   "execution_count": 53,
   "metadata": {
    "collapsed": true
   },
   "outputs": [],
   "source": [
    "y_te_mat_df.to_csv('y_svm_mat_alltr.csv',index=False)"
   ]
  },
  {
   "cell_type": "markdown",
   "metadata": {},
   "source": [
    "First Submission (with 80% of training set): Accuracy 0.62133"
   ]
  },
  {
   "cell_type": "markdown",
   "metadata": {},
   "source": [
    "Second submission (with all training set): 0.63133"
   ]
  },
  {
   "cell_type": "markdown",
   "metadata": {},
   "source": [
    "# KLR"
   ]
  },
  {
   "cell_type": "code",
   "execution_count": 54,
   "metadata": {
    "collapsed": true
   },
   "outputs": [],
   "source": [
    "from KLR import KLR"
   ]
  },
  {
   "cell_type": "code",
   "execution_count": 56,
   "metadata": {},
   "outputs": [
    {
     "name": "stderr",
     "output_type": "stream",
     "text": [
      "100%|█████████████████████████████████████████████████████████████████████████████| 1600/1600 [00:15<00:00, 104.12it/s]\n",
      "100%|████████████████████████████████████████████████████████████████████████████████| 400/400 [00:07<00:00, 52.78it/s]\n"
     ]
    },
    {
     "data": {
      "text/plain": [
       "0.4825"
      ]
     },
     "execution_count": 56,
     "metadata": {},
     "output_type": "execute_result"
    }
   ],
   "source": [
    "model_KLR= KLR(ld=0.1,sigma=0.1)\n",
    "model_KLR.fit(X_subtr_0_mat,y_subtr_0['Bound'])\n",
    "my_y_pred_KLR=model_KLR.predict(X_val_0_mat)\n",
    "np.mean(my_y_pred_KLR==y_val_0['Bound'].reset_index(drop=True))"
   ]
  },
  {
   "cell_type": "markdown",
   "metadata": {},
   "source": [
    "### grid search KLR TF0"
   ]
  },
  {
   "cell_type": "code",
   "execution_count": 57,
   "metadata": {
    "scrolled": true
   },
   "outputs": [
    {
     "name": "stderr",
     "output_type": "stream",
     "text": [
      "100%|█████████████████████████████████████████████████████████████████████████████| 1066/1066 [00:06<00:00, 174.10it/s]\n",
      "100%|████████████████████████████████████████████████████████████████████████████████| 534/534 [00:05<00:00, 98.16it/s]\n",
      "100%|█████████████████████████████████████████████████████████████████████████████| 1067/1067 [00:05<00:00, 189.82it/s]\n",
      "100%|████████████████████████████████████████████████████████████████████████████████| 533/533 [00:06<00:00, 79.90it/s]\n",
      "100%|█████████████████████████████████████████████████████████████████████████████| 1067/1067 [00:06<00:00, 174.75it/s]\n",
      "100%|████████████████████████████████████████████████████████████████████████████████| 533/533 [00:05<00:00, 95.28it/s]\n",
      "100%|██████████████████████████████████████████████████████████████████████████████| 1066/1066 [00:05<00:00, 72.16it/s]\n",
      "100%|████████████████████████████████████████████████████████████████████████████████| 534/534 [00:05<00:00, 95.44it/s]\n",
      "100%|█████████████████████████████████████████████████████████████████████████████| 1067/1067 [00:06<00:00, 165.55it/s]\n",
      "100%|███████████████████████████████████████████████████████████████████████████████| 533/533 [00:05<00:00, 100.13it/s]\n",
      "100%|█████████████████████████████████████████████████████████████████████████████| 1067/1067 [00:06<00:00, 169.18it/s]\n",
      "100%|████████████████████████████████████████████████████████████████████████████████| 533/533 [00:05<00:00, 93.17it/s]\n",
      "100%|█████████████████████████████████████████████████████████████████████████████| 1066/1066 [00:05<00:00, 182.92it/s]\n",
      "100%|████████████████████████████████████████████████████████████████████████████████| 534/534 [00:06<00:00, 92.10it/s]\n",
      "100%|█████████████████████████████████████████████████████████████████████████████| 1067/1067 [00:06<00:00, 170.64it/s]\n",
      "100%|████████████████████████████████████████████████████████████████████████████████| 533/533 [00:06<00:00, 85.37it/s]\n",
      "100%|█████████████████████████████████████████████████████████████████████████████| 1067/1067 [00:06<00:00, 170.36it/s]\n",
      "100%|████████████████████████████████████████████████████████████████████████████████| 533/533 [00:06<00:00, 80.88it/s]\n",
      "100%|█████████████████████████████████████████████████████████████████████████████| 1066/1066 [00:05<00:00, 177.79it/s]\n",
      "100%|████████████████████████████████████████████████████████████████████████████████| 534/534 [00:06<00:00, 81.40it/s]\n",
      "100%|█████████████████████████████████████████████████████████████████████████████| 1067/1067 [00:06<00:00, 177.12it/s]\n",
      "100%|███████████████████████████████████████████████████████████████████████████████| 533/533 [00:05<00:00, 100.04it/s]\n",
      "100%|█████████████████████████████████████████████████████████████████████████████| 1067/1067 [00:05<00:00, 186.40it/s]\n",
      "100%|████████████████████████████████████████████████████████████████████████████████| 533/533 [00:05<00:00, 98.80it/s]\n",
      "100%|█████████████████████████████████████████████████████████████████████████████| 1066/1066 [00:06<00:00, 176.00it/s]\n",
      "100%|████████████████████████████████████████████████████████████████████████████████| 534/534 [00:06<00:00, 85.04it/s]\n",
      "100%|██████████████████████████████████████████████████████████████████████████████| 1067/1067 [00:05<00:00, 96.40it/s]\n",
      "100%|████████████████████████████████████████████████████████████████████████████████| 533/533 [00:06<00:00, 85.95it/s]\n",
      "100%|█████████████████████████████████████████████████████████████████████████████| 1067/1067 [00:05<00:00, 185.97it/s]\n",
      "100%|████████████████████████████████████████████████████████████████████████████████| 533/533 [00:05<00:00, 97.27it/s]\n",
      "100%|█████████████████████████████████████████████████████████████████████████████| 1066/1066 [00:06<00:00, 169.99it/s]\n",
      "100%|████████████████████████████████████████████████████████████████████████████████| 534/534 [00:05<00:00, 99.33it/s]\n",
      "100%|█████████████████████████████████████████████████████████████████████████████| 1067/1067 [00:05<00:00, 193.27it/s]\n",
      "100%|████████████████████████████████████████████████████████████████████████████████| 533/533 [00:05<00:00, 99.95it/s]\n",
      "100%|█████████████████████████████████████████████████████████████████████████████| 1067/1067 [00:05<00:00, 193.05it/s]\n",
      "100%|████████████████████████████████████████████████████████████████████████████████| 533/533 [00:05<00:00, 98.48it/s]\n",
      "100%|█████████████████████████████████████████████████████████████████████████████| 1066/1066 [00:05<00:00, 193.30it/s]\n",
      "100%|████████████████████████████████████████████████████████████████████████████████| 534/534 [00:05<00:00, 97.48it/s]\n",
      "100%|██████████████████████████████████████████████████████████████████████████████| 1067/1067 [00:05<00:00, 89.63it/s]\n",
      "100%|████████████████████████████████████████████████████████████████████████████████| 533/533 [00:06<00:00, 79.73it/s]\n",
      "100%|█████████████████████████████████████████████████████████████████████████████| 1067/1067 [00:05<00:00, 180.69it/s]\n",
      "100%|████████████████████████████████████████████████████████████████████████████████| 533/533 [00:05<00:00, 95.69it/s]\n",
      "100%|█████████████████████████████████████████████████████████████████████████████| 1066/1066 [00:05<00:00, 192.38it/s]\n",
      "100%|████████████████████████████████████████████████████████████████████████████████| 534/534 [00:06<00:00, 83.11it/s]\n",
      "100%|██████████████████████████████████████████████████████████████████████████████| 1067/1067 [00:05<00:00, 93.13it/s]\n",
      "100%|████████████████████████████████████████████████████████████████████████████████| 533/533 [00:05<00:00, 91.26it/s]\n",
      "100%|█████████████████████████████████████████████████████████████████████████████| 1067/1067 [00:06<00:00, 169.42it/s]\n",
      "100%|███████████████████████████████████████████████████████████████████████████████| 533/533 [00:05<00:00, 100.57it/s]\n",
      "100%|█████████████████████████████████████████████████████████████████████████████| 1066/1066 [00:06<00:00, 163.38it/s]\n",
      "100%|████████████████████████████████████████████████████████████████████████████████| 534/534 [00:07<00:00, 75.10it/s]\n",
      "100%|█████████████████████████████████████████████████████████████████████████████| 1067/1067 [00:07<00:00, 152.16it/s]\n",
      "100%|████████████████████████████████████████████████████████████████████████████████| 533/533 [00:05<00:00, 91.75it/s]\n",
      "100%|█████████████████████████████████████████████████████████████████████████████| 1067/1067 [00:06<00:00, 172.79it/s]\n",
      "100%|████████████████████████████████████████████████████████████████████████████████| 533/533 [00:05<00:00, 89.09it/s]\n",
      "100%|█████████████████████████████████████████████████████████████████████████████| 1066/1066 [00:05<00:00, 183.38it/s]\n",
      "100%|████████████████████████████████████████████████████████████████████████████████| 534/534 [00:05<00:00, 99.57it/s]\n",
      "100%|█████████████████████████████████████████████████████████████████████████████| 1067/1067 [00:05<00:00, 186.96it/s]\n",
      "100%|████████████████████████████████████████████████████████████████████████████████| 533/533 [00:05<00:00, 90.30it/s]\n",
      "100%|█████████████████████████████████████████████████████████████████████████████| 1067/1067 [00:06<00:00, 176.09it/s]\n",
      "100%|████████████████████████████████████████████████████████████████████████████████| 533/533 [00:05<00:00, 92.22it/s]\n",
      "100%|█████████████████████████████████████████████████████████████████████████████| 1066/1066 [00:06<00:00, 156.69it/s]\n",
      "100%|████████████████████████████████████████████████████████████████████████████████| 534/534 [00:05<00:00, 89.41it/s]\n",
      "100%|██████████████████████████████████████████████████████████████████████████████| 1067/1067 [00:05<00:00, 95.91it/s]\n",
      "100%|████████████████████████████████████████████████████████████████████████████████| 533/533 [00:05<00:00, 95.40it/s]\n",
      "100%|█████████████████████████████████████████████████████████████████████████████| 1067/1067 [00:05<00:00, 188.67it/s]\n",
      "100%|████████████████████████████████████████████████████████████████████████████████| 533/533 [00:05<00:00, 91.47it/s]\n",
      "100%|█████████████████████████████████████████████████████████████████████████████| 1066/1066 [00:05<00:00, 100.13it/s]\n",
      "100%|████████████████████████████████████████████████████████████████████████████████| 534/534 [00:05<00:00, 98.67it/s]\n"
     ]
    },
    {
     "name": "stderr",
     "output_type": "stream",
     "text": [
      "100%|█████████████████████████████████████████████████████████████████████████████| 1067/1067 [00:05<00:00, 194.82it/s]\n",
      "100%|████████████████████████████████████████████████████████████████████████████████| 533/533 [00:05<00:00, 95.26it/s]\n",
      "100%|█████████████████████████████████████████████████████████████████████████████| 1067/1067 [00:05<00:00, 188.57it/s]\n",
      "100%|████████████████████████████████████████████████████████████████████████████████| 533/533 [00:06<00:00, 95.30it/s]\n",
      "100%|█████████████████████████████████████████████████████████████████████████████| 1066/1066 [00:06<00:00, 156.19it/s]\n",
      "100%|████████████████████████████████████████████████████████████████████████████████| 534/534 [00:07<00:00, 74.27it/s]\n",
      "100%|█████████████████████████████████████████████████████████████████████████████| 1067/1067 [00:07<00:00, 143.00it/s]\n",
      "100%|████████████████████████████████████████████████████████████████████████████████| 533/533 [00:06<00:00, 84.04it/s]\n",
      "100%|█████████████████████████████████████████████████████████████████████████████| 1067/1067 [00:06<00:00, 169.63it/s]\n",
      "100%|████████████████████████████████████████████████████████████████████████████████| 533/533 [00:06<00:00, 81.85it/s]\n",
      "100%|█████████████████████████████████████████████████████████████████████████████| 1066/1066 [00:06<00:00, 172.47it/s]\n",
      "100%|████████████████████████████████████████████████████████████████████████████████| 534/534 [00:06<00:00, 86.39it/s]\n",
      "100%|█████████████████████████████████████████████████████████████████████████████| 1067/1067 [00:06<00:00, 168.25it/s]\n",
      "100%|████████████████████████████████████████████████████████████████████████████████| 533/533 [00:06<00:00, 86.09it/s]\n",
      "100%|█████████████████████████████████████████████████████████████████████████████| 1067/1067 [00:06<00:00, 171.11it/s]\n",
      "100%|████████████████████████████████████████████████████████████████████████████████| 533/533 [00:06<00:00, 84.79it/s]\n",
      "100%|█████████████████████████████████████████████████████████████████████████████| 1066/1066 [00:06<00:00, 167.45it/s]\n",
      "100%|████████████████████████████████████████████████████████████████████████████████| 534/534 [00:06<00:00, 84.34it/s]\n",
      "100%|█████████████████████████████████████████████████████████████████████████████| 1067/1067 [00:06<00:00, 164.13it/s]\n",
      "100%|████████████████████████████████████████████████████████████████████████████████| 533/533 [00:06<00:00, 79.65it/s]\n",
      "100%|█████████████████████████████████████████████████████████████████████████████| 1067/1067 [00:07<00:00, 146.69it/s]\n",
      "100%|████████████████████████████████████████████████████████████████████████████████| 533/533 [00:08<00:00, 63.01it/s]\n",
      "100%|█████████████████████████████████████████████████████████████████████████████| 1066/1066 [00:07<00:00, 137.38it/s]\n",
      "100%|████████████████████████████████████████████████████████████████████████████████| 534/534 [00:06<00:00, 80.35it/s]\n",
      "100%|█████████████████████████████████████████████████████████████████████████████| 1067/1067 [00:06<00:00, 168.96it/s]\n",
      "100%|████████████████████████████████████████████████████████████████████████████████| 533/533 [00:07<00:00, 67.95it/s]\n",
      "100%|█████████████████████████████████████████████████████████████████████████████| 1067/1067 [00:07<00:00, 145.95it/s]\n",
      "100%|████████████████████████████████████████████████████████████████████████████████| 533/533 [00:06<00:00, 79.31it/s]\n",
      "100%|█████████████████████████████████████████████████████████████████████████████| 1066/1066 [00:06<00:00, 167.70it/s]\n",
      "100%|████████████████████████████████████████████████████████████████████████████████| 534/534 [00:06<00:00, 86.88it/s]\n",
      "100%|█████████████████████████████████████████████████████████████████████████████| 1067/1067 [00:06<00:00, 168.61it/s]\n",
      "100%|████████████████████████████████████████████████████████████████████████████████| 533/533 [00:06<00:00, 84.56it/s]\n",
      "100%|█████████████████████████████████████████████████████████████████████████████| 1067/1067 [00:06<00:00, 166.60it/s]\n",
      "100%|████████████████████████████████████████████████████████████████████████████████| 533/533 [00:06<00:00, 82.68it/s]\n",
      "100%|█████████████████████████████████████████████████████████████████████████████| 1066/1066 [00:08<00:00, 132.79it/s]\n",
      "100%|████████████████████████████████████████████████████████████████████████████████| 534/534 [00:06<00:00, 85.05it/s]\n",
      "100%|█████████████████████████████████████████████████████████████████████████████| 1067/1067 [00:06<00:00, 156.70it/s]\n",
      "100%|████████████████████████████████████████████████████████████████████████████████| 533/533 [00:06<00:00, 83.58it/s]\n",
      "100%|█████████████████████████████████████████████████████████████████████████████| 1067/1067 [00:06<00:00, 171.03it/s]\n",
      "100%|████████████████████████████████████████████████████████████████████████████████| 533/533 [00:06<00:00, 76.78it/s]\n",
      "100%|██████████████████████████████████████████████████████████████████████████████| 1066/1066 [00:06<00:00, 81.27it/s]\n",
      "100%|████████████████████████████████████████████████████████████████████████████████| 534/534 [00:06<00:00, 85.71it/s]\n",
      "100%|█████████████████████████████████████████████████████████████████████████████| 1067/1067 [00:06<00:00, 164.30it/s]\n",
      "100%|████████████████████████████████████████████████████████████████████████████████| 533/533 [00:06<00:00, 82.42it/s]\n",
      "100%|██████████████████████████████████████████████████████████████████████████████| 1067/1067 [00:07<00:00, 70.24it/s]\n",
      "100%|████████████████████████████████████████████████████████████████████████████████| 533/533 [00:07<00:00, 75.93it/s]\n",
      "100%|█████████████████████████████████████████████████████████████████████████████| 1066/1066 [00:06<00:00, 170.44it/s]\n",
      "100%|████████████████████████████████████████████████████████████████████████████████| 534/534 [00:06<00:00, 88.54it/s]\n",
      "100%|█████████████████████████████████████████████████████████████████████████████| 1067/1067 [00:06<00:00, 168.86it/s]\n",
      "100%|████████████████████████████████████████████████████████████████████████████████| 533/533 [00:06<00:00, 79.68it/s]\n",
      "100%|█████████████████████████████████████████████████████████████████████████████| 1067/1067 [00:06<00:00, 167.79it/s]\n",
      "100%|████████████████████████████████████████████████████████████████████████████████| 533/533 [00:06<00:00, 88.17it/s]\n"
     ]
    }
   ],
   "source": [
    "KLR_gs_0=model_KLR.grid_search(params={'ld':np.logspace(-1,0,num=10).tolist(),'sigma':[0.1,1]},\n",
    "            X=X_subtr_0_mat,\n",
    "            y=y_subtr_0['Bound'],\n",
    "            cv=3)\n"
   ]
  },
  {
   "cell_type": "code",
   "execution_count": 58,
   "metadata": {
    "collapsed": true
   },
   "outputs": [],
   "source": [
    "KLR_gs_0_df=KLR_gs_0[1]\n",
    "KLR_gs_0=KLR_gs_0[0]"
   ]
  },
  {
   "cell_type": "code",
   "execution_count": 59,
   "metadata": {},
   "outputs": [
    {
     "data": {
      "text/plain": [
       "{'ld': 0.774263682681127, 'sigma': 0.1, 'top_score': 0.521867599834166}"
      ]
     },
     "execution_count": 59,
     "metadata": {},
     "output_type": "execute_result"
    }
   ],
   "source": [
    "KLR_gs_0"
   ]
  },
  {
   "cell_type": "code",
   "execution_count": 60,
   "metadata": {},
   "outputs": [
    {
     "data": {
      "text/plain": [
       "<seaborn.axisgrid.FacetGrid at 0x2b48ffceac8>"
      ]
     },
     "execution_count": 60,
     "metadata": {},
     "output_type": "execute_result"
    },
    {
     "data": {
      "image/png": "[encoded data removed]",
      "text/plain": [
       "<Figure size 428.975x360 with 1 Axes>"
      ]
     },
     "metadata": {},
     "output_type": "display_data"
    },
    {
     "data": {
      "image/png": "[encoded data removed]",
      "text/plain": [
       "<Figure size 428.975x360 with 1 Axes>"
      ]
     },
     "metadata": {},
     "output_type": "display_data"
    }
   ],
   "source": [
    "import seaborn as sns\n",
    "sns.set(style=\"darkgrid\")\n",
    "sns.relplot(x=\"ld\", y=\"score_mean\", data=KLR_gs_0_df, style='sigma', kind='line')\n",
    "sns.relplot(x=\"ld\", y=\"score_var\", data=KLR_gs_0_df, style='sigma', kind='line')"
   ]
  },
  {
   "cell_type": "code",
   "execution_count": 61,
   "metadata": {},
   "outputs": [
    {
     "name": "stderr",
     "output_type": "stream",
     "text": [
      "100%|█████████████████████████████████████████████████████████████████████████████| 1600/1600 [00:14<00:00, 113.70it/s]\n",
      "100%|██████████████████████████████████████████████████████████████████████████████| 1600/1600 [00:26<00:00, 59.88it/s]\n"
     ]
    },
    {
     "name": "stdout",
     "output_type": "stream",
     "text": [
      "acc tr 0 (KLR): 0.519375\n"
     ]
    },
    {
     "name": "stderr",
     "output_type": "stream",
     "text": [
      "100%|████████████████████████████████████████████████████████████████████████████████| 400/400 [00:06<00:00, 57.46it/s]\n"
     ]
    },
    {
     "name": "stdout",
     "output_type": "stream",
     "text": [
      "acc val 0 (KLR): 0.4825\n"
     ]
    }
   ],
   "source": [
    "my_klr_gs_0 = KLR(kernel = 'rbf', ld = 0.1, sigma = 0.1)\n",
    "my_klr_gs_0.fit(X_subtr_0_mat, y_subtr_0['Bound'])\n",
    "y_pred_klr_0 = my_klr_gs_0.predict(X_subtr_0_mat)\n",
    "print('acc tr 0 (KLR):',np.mean(y_pred_klr_0 == y_subtr_0['Bound'].reset_index(drop = True)))\n",
    "y_val_klr_0 = my_klr_gs_0.predict(X_val_0_mat)\n",
    "print('acc val 0 (KLR):',np.mean(y_val_klr_0 == y_val_0['Bound'].reset_index(drop = True)))"
   ]
  },
  {
   "cell_type": "markdown",
   "metadata": {},
   "source": [
    "## Grid Search KLR TF1"
   ]
  },
  {
   "cell_type": "code",
   "execution_count": 72,
   "metadata": {
    "scrolled": true
   },
   "outputs": [
    {
     "name": "stderr",
     "output_type": "stream",
     "text": [
      "100%|██████████████████████████████████████████████████████████████████████████████| 1066/1066 [00:06<00:00, 89.71it/s]\n",
      "100%|█████████████████████████████████████████████████████████████████████████████| 1067/1067 [00:06<00:00, 177.62it/s]\n",
      "100%|█████████████████████████████████████████████████████████████████████████████| 1067/1067 [00:05<00:00, 178.93it/s]\n",
      "100%|█████████████████████████████████████████████████████████████████████████████| 1066/1066 [00:05<00:00, 185.55it/s]\n",
      "100%|█████████████████████████████████████████████████████████████████████████████| 1067/1067 [00:06<00:00, 158.46it/s]\n",
      "100%|█████████████████████████████████████████████████████████████████████████████| 1067/1067 [00:08<00:00, 132.51it/s]\n",
      "100%|█████████████████████████████████████████████████████████████████████████████| 1066/1066 [00:05<00:00, 181.32it/s]\n",
      "100%|█████████████████████████████████████████████████████████████████████████████| 1067/1067 [00:06<00:00, 166.82it/s]\n",
      "100%|█████████████████████████████████████████████████████████████████████████████| 1067/1067 [00:05<00:00, 185.10it/s]\n",
      "100%|█████████████████████████████████████████████████████████████████████████████| 1066/1066 [00:06<00:00, 175.88it/s]\n",
      "100%|█████████████████████████████████████████████████████████████████████████████| 1067/1067 [00:05<00:00, 177.88it/s]\n",
      "100%|█████████████████████████████████████████████████████████████████████████████| 1067/1067 [00:05<00:00, 179.98it/s]\n",
      "100%|█████████████████████████████████████████████████████████████████████████████| 1066/1066 [00:05<00:00, 186.21it/s]\n",
      "100%|█████████████████████████████████████████████████████████████████████████████| 1067/1067 [00:07<00:00, 144.56it/s]\n",
      "100%|█████████████████████████████████████████████████████████████████████████████| 1067/1067 [00:06<00:00, 169.15it/s]\n",
      "100%|█████████████████████████████████████████████████████████████████████████████| 1066/1066 [00:06<00:00, 169.91it/s]\n",
      "100%|█████████████████████████████████████████████████████████████████████████████| 1067/1067 [00:06<00:00, 174.34it/s]\n",
      "100%|█████████████████████████████████████████████████████████████████████████████| 1067/1067 [00:05<00:00, 185.18it/s]\n",
      "100%|█████████████████████████████████████████████████████████████████████████████| 1066/1066 [00:05<00:00, 184.13it/s]\n",
      "100%|█████████████████████████████████████████████████████████████████████████████| 1067/1067 [00:05<00:00, 178.70it/s]\n",
      "100%|██████████████████████████████████████████████████████████████████████████████| 1067/1067 [00:06<00:00, 86.38it/s]\n",
      "100%|█████████████████████████████████████████████████████████████████████████████| 1066/1066 [00:05<00:00, 186.52it/s]\n",
      "100%|█████████████████████████████████████████████████████████████████████████████| 1067/1067 [00:05<00:00, 190.21it/s]\n",
      "100%|██████████████████████████████████████████████████████████████████████████████| 1067/1067 [00:06<00:00, 88.54it/s]\n",
      "100%|█████████████████████████████████████████████████████████████████████████████| 1066/1066 [00:06<00:00, 154.46it/s]\n",
      "100%|██████████████████████████████████████████████████████████████████████████████| 1067/1067 [00:05<00:00, 96.81it/s]\n",
      "100%|█████████████████████████████████████████████████████████████████████████████| 1067/1067 [00:05<00:00, 181.61it/s]\n"
     ]
    }
   ],
   "source": [
    "KLR_gs_1=model_KLR.grid_search(params={'kernel':['rbf'],'ld':[0.1,1,10],'sigma':[1e-3,1e-2,0.1]},\n",
    "            X=X_subtr_1_mat,\n",
    "            y=y_subtr_1['Bound'],\n",
    "            cv=3)"
   ]
  },
  {
   "cell_type": "code",
   "execution_count": 73,
   "metadata": {
    "collapsed": true
   },
   "outputs": [],
   "source": [
    "KLR_gs_1_df=KLR_gs_1[1]\n",
    "KLR_gs_1=KLR_gs_1[0]"
   ]
  },
  {
   "cell_type": "code",
   "execution_count": 74,
   "metadata": {},
   "outputs": [
    {
     "data": {
      "text/plain": [
       "{'kernel': 'rbf', 'ld': 0.1, 'sigma': 0.01, 'top_score': 0.6156352401899127}"
      ]
     },
     "execution_count": 74,
     "metadata": {},
     "output_type": "execute_result"
    }
   ],
   "source": [
    "KLR_gs_1"
   ]
  },
  {
   "cell_type": "code",
   "execution_count": 75,
   "metadata": {},
   "outputs": [
    {
     "data": {
      "text/plain": [
       "<seaborn.axisgrid.FacetGrid at 0x1ccafc002b0>"
      ]
     },
     "execution_count": 75,
     "metadata": {},
     "output_type": "execute_result"
    },
    {
     "data": {
      "image/png": "[encoded data removed]",
      "text/plain": [
       "<Figure size 421.1x360 with 1 Axes>"
      ]
     },
     "metadata": {},
     "output_type": "display_data"
    },
    {
     "data": {
      "image/png": "[encoded data removed]",
      "text/plain": [
       "<Figure size 421.1x360 with 1 Axes>"
      ]
     },
     "metadata": {},
     "output_type": "display_data"
    }
   ],
   "source": [
    "sns.set(style=\"darkgrid\")\n",
    "sns.relplot(x=\"sigma\", y=\"score_mean\", data=KLR_gs_1_df, style='ld', kind='line')\n",
    "sns.relplot(x=\"sigma\", y=\"score_var\", data=KLR_gs_1_df, style='ld', kind='line')"
   ]
  },
  {
   "cell_type": "code",
   "execution_count": 35,
   "metadata": {},
   "outputs": [
    {
     "name": "stderr",
     "output_type": "stream",
     "text": [
      "100%|██████████████████████████████████████████████████████████████████████████████| 1600/1600 [00:12<00:00, 65.16it/s]\n",
      "100%|██████████████████████████████████████████████████████████████████████████████| 1600/1600 [00:22<00:00, 70.92it/s]\n"
     ]
    },
    {
     "name": "stdout",
     "output_type": "stream",
     "text": [
      "acc tr 1 (KLR): 0.55125\n"
     ]
    },
    {
     "name": "stderr",
     "output_type": "stream",
     "text": [
      "100%|████████████████████████████████████████████████████████████████████████████████| 400/400 [00:05<00:00, 71.03it/s]\n"
     ]
    },
    {
     "name": "stdout",
     "output_type": "stream",
     "text": [
      "acc val 1 (KLR): 0.485\n"
     ]
    }
   ],
   "source": [
    "my_klr_gs_1 = KLR(kernel = 'rbf', ld = 0.1, sigma = 0.1)\n",
    "my_klr_gs_1.fit(X_subtr_1_mat, y_subtr_1['Bound'])\n",
    "y_pred_klr_1 = my_klr_gs_1.predict(X_subtr_1_mat)\n",
    "print('acc tr 1 (KLR):',np.mean(y_pred_klr_1 == y_subtr_1['Bound'].reset_index(drop = True)))\n",
    "y_val_klr_1 = my_klr_gs_1.predict(X_val_1_mat)\n",
    "print('acc val 1 (KLR):',np.mean(y_val_klr_1 == y_val_1['Bound'].reset_index(drop = True)))"
   ]
  },
  {
   "cell_type": "markdown",
   "metadata": {},
   "source": [
    "overfitting with parameters found (val: 0.64 and tr: 1)"
   ]
  },
  {
   "cell_type": "markdown",
   "metadata": {},
   "source": [
    "## Grid Search KLR TF2"
   ]
  },
  {
   "cell_type": "code",
   "execution_count": 85,
   "metadata": {
    "scrolled": false
   },
   "outputs": [
    {
     "name": "stderr",
     "output_type": "stream",
     "text": [
      "100%|█████████████████████████████████████████████████████████████████████████████| 1066/1066 [00:06<00:00, 159.50it/s]\n",
      "100%|█████████████████████████████████████████████████████████████████████████████| 1067/1067 [00:05<00:00, 180.41it/s]\n",
      "100%|█████████████████████████████████████████████████████████████████████████████| 1067/1067 [00:06<00:00, 177.15it/s]\n",
      "100%|█████████████████████████████████████████████████████████████████████████████| 1066/1066 [00:05<00:00, 179.66it/s]\n",
      "100%|█████████████████████████████████████████████████████████████████████████████| 1067/1067 [00:05<00:00, 186.53it/s]\n",
      "100%|██████████████████████████████████████████████████████████████████████████████| 1067/1067 [00:05<00:00, 93.43it/s]\n",
      "100%|█████████████████████████████████████████████████████████████████████████████| 1066/1066 [00:05<00:00, 189.40it/s]\n",
      "100%|█████████████████████████████████████████████████████████████████████████████| 1067/1067 [00:05<00:00, 189.09it/s]\n",
      "100%|█████████████████████████████████████████████████████████████████████████████| 1067/1067 [00:06<00:00, 169.47it/s]\n",
      "100%|█████████████████████████████████████████████████████████████████████████████| 1066/1066 [00:05<00:00, 182.27it/s]\n",
      "100%|█████████████████████████████████████████████████████████████████████████████| 1067/1067 [00:09<00:00, 114.60it/s]\n",
      "100%|█████████████████████████████████████████████████████████████████████████████| 1067/1067 [00:09<00:00, 110.84it/s]\n",
      "100%|█████████████████████████████████████████████████████████████████████████████| 1066/1066 [00:06<00:00, 159.36it/s]\n",
      "100%|█████████████████████████████████████████████████████████████████████████████| 1067/1067 [00:06<00:00, 160.21it/s]\n",
      "100%|█████████████████████████████████████████████████████████████████████████████| 1067/1067 [00:08<00:00, 133.29it/s]\n",
      "100%|██████████████████████████████████████████████████████████████████████████████| 1066/1066 [00:06<00:00, 83.63it/s]\n",
      "100%|█████████████████████████████████████████████████████████████████████████████| 1067/1067 [00:07<00:00, 150.34it/s]\n",
      "100%|█████████████████████████████████████████████████████████████████████████████| 1067/1067 [00:05<00:00, 201.26it/s]\n"
     ]
    }
   ],
   "source": [
    "KLR_gs_2=model_KLR.grid_search(params={'kernel':['rbf'],'ld':[0.1,1],'sigma':[5*1e-3,1e-2,2*1e-2]},\n",
    "            X=X_subtr_2_mat,\n",
    "            y=y_subtr_2['Bound'],\n",
    "            cv=3)"
   ]
  },
  {
   "cell_type": "code",
   "execution_count": 86,
   "metadata": {
    "collapsed": true
   },
   "outputs": [],
   "source": [
    "KLR_gs_2_df=KLR_gs_2[1]\n",
    "KLR_gs_2=KLR_gs_2[0]"
   ]
  },
  {
   "cell_type": "code",
   "execution_count": 87,
   "metadata": {},
   "outputs": [
    {
     "data": {
      "text/plain": [
       "{'kernel': 'rbf', 'ld': 0.1, 'sigma': 0.02, 'top_score': 0.6062684308779129}"
      ]
     },
     "execution_count": 87,
     "metadata": {},
     "output_type": "execute_result"
    }
   ],
   "source": [
    "KLR_gs_2"
   ]
  },
  {
   "cell_type": "code",
   "execution_count": 88,
   "metadata": {},
   "outputs": [
    {
     "data": {
      "text/plain": [
       "<seaborn.axisgrid.FacetGrid at 0x1ccafe02ba8>"
      ]
     },
     "execution_count": 88,
     "metadata": {},
     "output_type": "execute_result"
    },
    {
     "data": {
      "image/png": "[encoded data removed]",
      "text/plain": [
       "<Figure size 414.975x360 with 1 Axes>"
      ]
     },
     "metadata": {},
     "output_type": "display_data"
    },
    {
     "data": {
      "image/png": "[encoded data removed]",
      "text/plain": [
       "<Figure size 414.975x360 with 1 Axes>"
      ]
     },
     "metadata": {},
     "output_type": "display_data"
    }
   ],
   "source": [
    "sns.set(style=\"darkgrid\")\n",
    "sns.relplot(x=\"sigma\", y=\"score_mean\", data=KLR_gs_2_df, style='ld', kind='line')\n",
    "sns.relplot(x=\"sigma\", y=\"score_var\", data=KLR_gs_2_df, style='ld', kind='line')"
   ]
  },
  {
   "cell_type": "code",
   "execution_count": 36,
   "metadata": {},
   "outputs": [
    {
     "name": "stderr",
     "output_type": "stream",
     "text": [
      "100%|█████████████████████████████████████████████████████████████████████████████| 1600/1600 [00:12<00:00, 129.58it/s]\n",
      "100%|██████████████████████████████████████████████████████████████████████████████| 1600/1600 [00:22<00:00, 69.74it/s]\n"
     ]
    },
    {
     "name": "stdout",
     "output_type": "stream",
     "text": [
      "acc tr 2 (KLR): 0.574375\n"
     ]
    },
    {
     "name": "stderr",
     "output_type": "stream",
     "text": [
      "100%|████████████████████████████████████████████████████████████████████████████████| 400/400 [00:05<00:00, 71.12it/s]\n"
     ]
    },
    {
     "name": "stdout",
     "output_type": "stream",
     "text": [
      "acc val 2 (KLR): 0.54\n"
     ]
    }
   ],
   "source": [
    "my_klr_gs_2 = KLR(kernel = 'rbf', ld = 0.1, sigma = 0.1)\n",
    "my_klr_gs_2.fit(X_subtr_2_mat, y_subtr_2['Bound'])\n",
    "y_pred_klr_2 = my_klr_gs_2.predict(X_subtr_2_mat)\n",
    "print('acc tr 2 (KLR):',np.mean(y_pred_klr_2 == y_subtr_2['Bound'].reset_index(drop = True)))\n",
    "y_val_klr_2 = my_klr_gs_2.predict(X_val_2_mat)\n",
    "print('acc val 2 (KLR):',np.mean(y_val_klr_2 == y_val_2['Bound'].reset_index(drop = True)))"
   ]
  },
  {
   "cell_type": "markdown",
   "metadata": {},
   "source": [
    "### KLR rbf test"
   ]
  },
  {
   "cell_type": "markdown",
   "metadata": {},
   "source": [
    "### TF0"
   ]
  },
  {
   "cell_type": "code",
   "execution_count": 47,
   "metadata": {},
   "outputs": [
    {
     "name": "stderr",
     "output_type": "stream",
     "text": [
      "100%|██████████████████████████████████████████████████████████████████████████████| 1000/1000 [00:15<00:00, 65.20it/s]\n"
     ]
    }
   ],
   "source": [
    "y_te_0_klr_mat = my_klr_gs_0.predict(X_te_0_mat)\n",
    "y_te_0_klr_df=pd.DataFrame(y_te_0_klr_mat, columns=['Bound'])\n",
    "y_te_0_klr_df.insert(loc=0,column='Id',value=X_tr_0['Id'])"
   ]
  },
  {
   "cell_type": "markdown",
   "metadata": {},
   "source": [
    "### TF1"
   ]
  },
  {
   "cell_type": "code",
   "execution_count": 48,
   "metadata": {},
   "outputs": [
    {
     "name": "stderr",
     "output_type": "stream",
     "text": [
      "100%|██████████████████████████████████████████████████████████████████████████████| 1000/1000 [00:15<00:00, 63.80it/s]\n"
     ]
    }
   ],
   "source": [
    "y_te_1_klr_mat = my_klr_gs_1.predict(X_te_1_mat)\n",
    "y_te_1_klr_df=pd.DataFrame(y_te_1_klr_mat, columns=['Bound'])\n",
    "y_te_1_klr_df.insert(loc=0,column='Id',value=X_tr_1['Id']-1000)"
   ]
  },
  {
   "cell_type": "markdown",
   "metadata": {},
   "source": [
    "### TF2"
   ]
  },
  {
   "cell_type": "code",
   "execution_count": 49,
   "metadata": {},
   "outputs": [
    {
     "name": "stderr",
     "output_type": "stream",
     "text": [
      "100%|██████████████████████████████████████████████████████████████████████████████| 1000/1000 [00:15<00:00, 64.89it/s]\n"
     ]
    }
   ],
   "source": [
    "y_te_2_klr_mat = my_klr_gs_2.predict(X_te_2_mat)\n",
    "y_te_2_klr_df=pd.DataFrame(y_te_2_klr_mat, columns=['Bound'])\n",
    "y_te_2_klr_df.insert(loc=0,column='Id',value=X_tr_1['Id'])"
   ]
  },
  {
   "cell_type": "code",
   "execution_count": 50,
   "metadata": {
    "collapsed": true
   },
   "outputs": [],
   "source": [
    "y_te_klr_df = pd.concat([y_te_0_klr_df,y_te_1_klr_df,y_te_2_klr_df])\n",
    "y_te_klr_df['Bound'][y_te_klr_df['Bound']==-1] = 0"
   ]
  },
  {
   "cell_type": "markdown",
   "metadata": {},
   "source": [
    "# Spectral kernel"
   ]
  },
  {
   "cell_type": "markdown",
   "metadata": {},
   "source": [
    "## splitting original data"
   ]
  },
  {
   "cell_type": "code",
   "execution_count": 62,
   "metadata": {
    "collapsed": true
   },
   "outputs": [],
   "source": [
    "X_subtr_0,X_val_0,y_subtr_0,y_val_0=split(X_tr_0,y_tr_0,0.2)\n",
    "X_subtr_1,X_val_1,y_subtr_1,y_val_1=split(X_tr_1,y_tr_1,0.2)\n",
    "X_subtr_2,X_val_2,y_subtr_2,y_val_2=split(X_tr_2,y_tr_2,0.2)"
   ]
  },
  {
   "cell_type": "markdown",
   "metadata": {},
   "source": [
    "## SVM spectral kernel"
   ]
  },
  {
   "cell_type": "markdown",
   "metadata": {},
   "source": [
    "### Grid Search TF0"
   ]
  },
  {
   "cell_type": "code",
   "execution_count": 63,
   "metadata": {
    "collapsed": true
   },
   "outputs": [],
   "source": [
    "#subset of training set (25%)\n",
    "ratio = 0.25\n",
    "n = X_subtr_0.shape[0]\n",
    "X_subtr_0_sub = X_subtr_0.reset_index(drop=True).iloc[:int(n*ratio)]\n",
    "y_subtr_0_sub = y_subtr_0.reset_index(drop=True).iloc[:int(n*ratio)]"
   ]
  },
  {
   "cell_type": "code",
   "execution_count": 67,
   "metadata": {
    "scrolled": true
   },
   "outputs": [
    {
     "name": "stderr",
     "output_type": "stream",
     "text": [
      "100%|████████████████████████████████████████████████████████████████████████████████| 266/266 [00:56<00:00,  2.45it/s]\n",
      "100%|████████████████████████████████████████████████████████████████████████████████| 134/134 [00:52<00:00,  2.55it/s]\n",
      "100%|████████████████████████████████████████████████████████████████████████████████| 267/267 [00:57<00:00,  2.44it/s]\n",
      "100%|████████████████████████████████████████████████████████████████████████████████| 133/133 [00:50<00:00,  2.59it/s]\n",
      "100%|████████████████████████████████████████████████████████████████████████████████| 267/267 [00:56<00:00,  2.44it/s]\n",
      "100%|████████████████████████████████████████████████████████████████████████████████| 133/133 [00:48<00:00,  2.72it/s]\n",
      "100%|████████████████████████████████████████████████████████████████████████████████| 266/266 [03:32<00:00,  1.50s/it]\n",
      "100%|████████████████████████████████████████████████████████████████████████████████| 134/134 [03:45<00:00,  1.57s/it]\n",
      "100%|████████████████████████████████████████████████████████████████████████████████| 267/267 [03:57<00:00,  1.49s/it]\n",
      "100%|████████████████████████████████████████████████████████████████████████████████| 133/133 [03:22<00:00,  1.46s/it]\n",
      "100%|████████████████████████████████████████████████████████████████████████████████| 267/267 [03:20<00:00,  1.48s/it]\n",
      "100%|████████████████████████████████████████████████████████████████████████████████| 133/133 [03:14<00:00,  1.44s/it]\n",
      "100%|████████████████████████████████████████████████████████████████████████████████| 266/266 [12:45<00:00,  5.82s/it]\n",
      "100%|████████████████████████████████████████████████████████████████████████████████| 134/134 [12:52<00:00,  5.77s/it]\n",
      "100%|████████████████████████████████████████████████████████████████████████████████| 267/267 [12:52<00:00,  5.94s/it]\n",
      "100%|████████████████████████████████████████████████████████████████████████████████| 133/133 [12:51<00:00,  6.36s/it]\n",
      "100%|████████████████████████████████████████████████████████████████████████████████| 267/267 [13:29<00:00,  5.89s/it]\n",
      "100%|████████████████████████████████████████████████████████████████████████████████| 133/133 [13:15<00:00,  6.21s/it]\n"
     ]
    }
   ],
   "source": [
    "svm_string_gs = svm(kernel='spectral', ld=1e-3)\n",
    "svm_string_gs_res = svm_string_gs.grid_search(params={'k':[5,6,7]}, X=X_subtr_0_sub['seq'], y=y_subtr_0_sub['Bound'], cv=3)"
   ]
  },
  {
   "cell_type": "code",
   "execution_count": 68,
   "metadata": {
    "collapsed": true
   },
   "outputs": [],
   "source": [
    "svm_string_gs_res_df = svm_string_gs_res[1]\n",
    "svm_string_gs_res_top = svm_string_gs_res[0]"
   ]
  },
  {
   "cell_type": "code",
   "execution_count": 69,
   "metadata": {},
   "outputs": [
    {
     "data": {
      "text/plain": [
       "{'k': 7, 'top_score': 0.5675195451314854}"
      ]
     },
     "execution_count": 69,
     "metadata": {},
     "output_type": "execute_result"
    }
   ],
   "source": [
    "svm_string_gs_res_top"
   ]
  },
  {
   "cell_type": "code",
   "execution_count": 72,
   "metadata": {},
   "outputs": [
    {
     "data": {
      "text/plain": [
       "<seaborn.axisgrid.FacetGrid at 0x2b48f7f7668>"
      ]
     },
     "execution_count": 72,
     "metadata": {},
     "output_type": "execute_result"
    },
    {
     "data": {
      "image/png": "[encoded data removed]",
      "text/plain": [
       "<Figure size 360x360 with 1 Axes>"
      ]
     },
     "metadata": {},
     "output_type": "display_data"
    },
    {
     "data": {
      "image/png": "[encoded data removed]",
      "text/plain": [
       "<Figure size 360x360 with 1 Axes>"
      ]
     },
     "metadata": {},
     "output_type": "display_data"
    }
   ],
   "source": [
    "sns.set(style = \"darkgrid\")\n",
    "sns.relplot(x = \"k\", y = \"score_mean\", data = svm_string_gs_res_df, kind = 'line')\n",
    "sns.relplot(x = \"k\", y = \"score_var\", data = svm_string_gs_res_df, kind = 'line')"
   ]
  },
  {
   "cell_type": "markdown",
   "metadata": {},
   "source": [
    "### TF0"
   ]
  },
  {
   "cell_type": "code",
   "execution_count": 27,
   "metadata": {
    "collapsed": true
   },
   "outputs": [],
   "source": [
    "from svm import svm\n",
    "svm_string=svm(kernel='spectral',k=6, ld=1e-3)"
   ]
  },
  {
   "cell_type": "code",
   "execution_count": 28,
   "metadata": {},
   "outputs": [
    {
     "name": "stderr",
     "output_type": "stream",
     "text": [
      "100%|████████████████████████████████████████████████████████████████████████████| 1600/1600 [1:45:10<00:00,  9.26s/it]\n"
     ]
    }
   ],
   "source": [
    "svm_string.fit(X_subtr_0['seq'],y_subtr_0['Bound'])"
   ]
  },
  {
   "cell_type": "code",
   "execution_count": 29,
   "metadata": {},
   "outputs": [
    {
     "data": {
      "text/plain": [
       "(1553, 1)"
      ]
     },
     "execution_count": 29,
     "metadata": {},
     "output_type": "execute_result"
    }
   ],
   "source": [
    "np.shape(svm_string.alpha)"
   ]
  },
  {
   "cell_type": "code",
   "execution_count": 25,
   "metadata": {},
   "outputs": [
    {
     "name": "stderr",
     "output_type": "stream",
     "text": [
      "100%|████████████████████████████████████████████████████████████████████████████| 1600/1600 [4:25:53<00:00,  7.28s/it]\n"
     ]
    },
    {
     "data": {
      "text/plain": [
       "0.86875"
      ]
     },
     "execution_count": 25,
     "metadata": {},
     "output_type": "execute_result"
    }
   ],
   "source": [
    "y_pred=svm_string.predict(X_subtr_0['seq'])\n",
    "np.mean(y_pred==y_subtr_0['Bound'].reset_index(drop=True))"
   ]
  },
  {
   "cell_type": "code",
   "execution_count": 30,
   "metadata": {},
   "outputs": [
    {
     "name": "stderr",
     "output_type": "stream",
     "text": [
      "100%|████████████████████████████████████████████████████████████████████████████████| 400/400 [59:52<00:00,  8.74s/it]\n"
     ]
    },
    {
     "data": {
      "text/plain": [
       "0.63"
      ]
     },
     "execution_count": 30,
     "metadata": {},
     "output_type": "execute_result"
    }
   ],
   "source": [
    "y_pred_val=svm_string.predict(X_val_0['seq'])\n",
    "np.mean(y_pred_val==y_val_0['Bound'].reset_index(drop=True))"
   ]
  },
  {
   "cell_type": "markdown",
   "metadata": {},
   "source": [
    "### TF0 test"
   ]
  },
  {
   "cell_type": "code",
   "execution_count": 29,
   "metadata": {
    "scrolled": true
   },
   "outputs": [
    {
     "name": "stderr",
     "output_type": "stream",
     "text": [
      " 88%|█████████████████████████████████████████████████████████████████▏        | 1763/2000 [8:57:54<2:12:06, 33.45s/it]"
     ]
    },
    {
     "ename": "KeyboardInterrupt",
     "evalue": "",
     "output_type": "error",
     "traceback": [
      "\u001b[1;31m---------------------------------------------------------------------------\u001b[0m",
      "\u001b[1;31mKeyboardInterrupt\u001b[0m                         Traceback (most recent call last)",
      "\u001b[1;32m<ipython-input-29-099f7c0541f5>\u001b[0m in \u001b[0;36m<module>\u001b[1;34m()\u001b[0m\n\u001b[0;32m      1\u001b[0m \u001b[1;32mfrom\u001b[0m \u001b[0msvm\u001b[0m \u001b[1;32mimport\u001b[0m \u001b[0msvm\u001b[0m\u001b[1;33m\u001b[0m\u001b[0m\n\u001b[0;32m      2\u001b[0m \u001b[0msvm_string_0\u001b[0m \u001b[1;33m=\u001b[0m \u001b[0msvm\u001b[0m\u001b[1;33m(\u001b[0m\u001b[0mkernel\u001b[0m\u001b[1;33m=\u001b[0m\u001b[1;34m'spectral'\u001b[0m\u001b[1;33m,\u001b[0m \u001b[0mk\u001b[0m\u001b[1;33m=\u001b[0m\u001b[1;36m7\u001b[0m\u001b[1;33m,\u001b[0m \u001b[0mld\u001b[0m\u001b[1;33m=\u001b[0m\u001b[1;36m1e-3\u001b[0m\u001b[1;33m)\u001b[0m\u001b[1;33m\u001b[0m\u001b[0m\n\u001b[1;32m----> 3\u001b[1;33m \u001b[0msvm_string_0\u001b[0m\u001b[1;33m.\u001b[0m\u001b[0mfit\u001b[0m\u001b[1;33m(\u001b[0m\u001b[0mX_tr_0\u001b[0m\u001b[1;33m[\u001b[0m\u001b[1;34m'seq'\u001b[0m\u001b[1;33m]\u001b[0m\u001b[1;33m,\u001b[0m\u001b[0my_tr_0\u001b[0m\u001b[1;33m[\u001b[0m\u001b[1;34m'Bound'\u001b[0m\u001b[1;33m]\u001b[0m\u001b[1;33m)\u001b[0m\u001b[1;33m\u001b[0m\u001b[0m\n\u001b[0m\u001b[0;32m      4\u001b[0m \u001b[0my_te_0_spec\u001b[0m \u001b[1;33m=\u001b[0m \u001b[0msvm_string_0\u001b[0m\u001b[1;33m.\u001b[0m\u001b[0mpredict\u001b[0m\u001b[1;33m(\u001b[0m\u001b[0mX_te_0\u001b[0m\u001b[1;33m[\u001b[0m\u001b[1;34m'seq'\u001b[0m\u001b[1;33m]\u001b[0m\u001b[1;33m)\u001b[0m\u001b[1;33m\u001b[0m\u001b[0m\n\u001b[0;32m      5\u001b[0m \u001b[0my_te_0_spec_df\u001b[0m\u001b[1;33m=\u001b[0m\u001b[0mpd\u001b[0m\u001b[1;33m.\u001b[0m\u001b[0mDataFrame\u001b[0m\u001b[1;33m(\u001b[0m\u001b[0my_te_0_spec\u001b[0m\u001b[1;33m,\u001b[0m \u001b[0mcolumns\u001b[0m\u001b[1;33m=\u001b[0m\u001b[1;33m[\u001b[0m\u001b[1;34m'Bound'\u001b[0m\u001b[1;33m]\u001b[0m\u001b[1;33m)\u001b[0m\u001b[1;33m\u001b[0m\u001b[0m\n",
      "\u001b[1;32m~\\Desktop\\My files\\3A\\M2\\CS\\ML with kernel methods\\challenge\\project\\svm.py\u001b[0m in \u001b[0;36mfit\u001b[1;34m(self, X_train, y_train)\u001b[0m\n\u001b[0;32m     50\u001b[0m \u001b[1;33m\u001b[0m\u001b[0m\n\u001b[0;32m     51\u001b[0m         \u001b[1;31m#step1: compute gram matrix\u001b[0m\u001b[1;33m\u001b[0m\u001b[1;33m\u001b[0m\u001b[0m\n\u001b[1;32m---> 52\u001b[1;33m         \u001b[0mK\u001b[0m\u001b[1;33m=\u001b[0m\u001b[0mkernel_gram\u001b[0m\u001b[1;33m(\u001b[0m\u001b[0mself\u001b[0m\u001b[1;33m.\u001b[0m\u001b[0mkernel\u001b[0m\u001b[1;33m,\u001b[0m \u001b[0mX_train\u001b[0m\u001b[1;33m,\u001b[0m \u001b[0mself\u001b[0m\u001b[1;33m.\u001b[0m\u001b[0msigma\u001b[0m\u001b[1;33m,\u001b[0m \u001b[0mself\u001b[0m\u001b[1;33m.\u001b[0m\u001b[0mk\u001b[0m\u001b[1;33m,\u001b[0m \u001b[0mself\u001b[0m\u001b[1;33m.\u001b[0m\u001b[0md\u001b[0m\u001b[1;33m,\u001b[0m \u001b[0mself\u001b[0m\u001b[1;33m.\u001b[0m\u001b[0me\u001b[0m\u001b[1;33m,\u001b[0m \u001b[0mself\u001b[0m\u001b[1;33m.\u001b[0m\u001b[0mbeta\u001b[0m\u001b[1;33m,\u001b[0m \u001b[0mself\u001b[0m\u001b[1;33m.\u001b[0m\u001b[0mNystrom\u001b[0m\u001b[1;33m,\u001b[0m \u001b[0mself\u001b[0m\u001b[1;33m.\u001b[0m\u001b[0msubA\u001b[0m\u001b[1;33m,\u001b[0m \u001b[0mself\u001b[0m\u001b[1;33m.\u001b[0m\u001b[0mA\u001b[0m\u001b[1;33m,\u001b[0m \u001b[0mself\u001b[0m\u001b[1;33m.\u001b[0m\u001b[0mneighbours\u001b[0m\u001b[1;33m)\u001b[0m \u001b[1;31m#returns Gram matrix of the specific kernel Ki,j=K(xi,xj) external or internal function?\u001b[0m\u001b[1;33m\u001b[0m\u001b[0m\n\u001b[0m\u001b[0;32m     53\u001b[0m \u001b[1;33m\u001b[0m\u001b[0m\n\u001b[0;32m     54\u001b[0m         \u001b[1;31m#step2: solve optimization problem\u001b[0m\u001b[1;33m\u001b[0m\u001b[1;33m\u001b[0m\u001b[0m\n",
      "\u001b[1;32m~\\Desktop\\My files\\3A\\M2\\CS\\ML with kernel methods\\challenge\\project\\kernel.py\u001b[0m in \u001b[0;36mkernel_gram\u001b[1;34m(method, X, sigma, k, d, e, beta, Nystrom, subA, A, neighbours)\u001b[0m\n\u001b[0;32m     54\u001b[0m             \u001b[0mK\u001b[0m\u001b[1;33m[\u001b[0m\u001b[0mi\u001b[0m\u001b[1;33m,\u001b[0m\u001b[0mi\u001b[0m\u001b[1;33m]\u001b[0m \u001b[1;33m=\u001b[0m \u001b[0mkernel\u001b[0m\u001b[1;33m(\u001b[0m\u001b[0mmethod\u001b[0m\u001b[1;33m,\u001b[0m \u001b[0mX\u001b[0m\u001b[1;33m[\u001b[0m\u001b[0mi\u001b[0m\u001b[1;33m,\u001b[0m\u001b[1;33m]\u001b[0m \u001b[1;33m,\u001b[0m\u001b[0mX\u001b[0m\u001b[1;33m[\u001b[0m\u001b[0mi\u001b[0m\u001b[1;33m,\u001b[0m\u001b[1;33m]\u001b[0m\u001b[1;33m,\u001b[0m \u001b[0msigma\u001b[0m\u001b[1;33m,\u001b[0m \u001b[0mk\u001b[0m\u001b[1;33m,\u001b[0m \u001b[0md\u001b[0m\u001b[1;33m,\u001b[0m \u001b[0me\u001b[0m\u001b[1;33m,\u001b[0m \u001b[0mbeta\u001b[0m\u001b[1;33m,\u001b[0m \u001b[0msubA\u001b[0m\u001b[1;33m,\u001b[0m \u001b[0mA\u001b[0m\u001b[1;33m,\u001b[0m \u001b[0mneighbours\u001b[0m\u001b[1;33m)\u001b[0m\u001b[1;33m\u001b[0m\u001b[0m\n\u001b[0;32m     55\u001b[0m             \u001b[1;32mfor\u001b[0m \u001b[0mj\u001b[0m \u001b[1;32min\u001b[0m \u001b[0mrange\u001b[0m\u001b[1;33m(\u001b[0m\u001b[0mi\u001b[0m\u001b[1;33m)\u001b[0m\u001b[1;33m:\u001b[0m\u001b[1;33m\u001b[0m\u001b[0m\n\u001b[1;32m---> 56\u001b[1;33m                 \u001b[0mK\u001b[0m\u001b[1;33m[\u001b[0m\u001b[0mi\u001b[0m\u001b[1;33m,\u001b[0m\u001b[0mj\u001b[0m\u001b[1;33m]\u001b[0m \u001b[1;33m=\u001b[0m \u001b[0mK\u001b[0m\u001b[1;33m[\u001b[0m\u001b[0mj\u001b[0m\u001b[1;33m,\u001b[0m\u001b[0mi\u001b[0m\u001b[1;33m]\u001b[0m \u001b[1;33m=\u001b[0m \u001b[0mkernel\u001b[0m\u001b[1;33m(\u001b[0m\u001b[0mmethod\u001b[0m\u001b[1;33m,\u001b[0m \u001b[0mX\u001b[0m\u001b[1;33m[\u001b[0m\u001b[0mi\u001b[0m\u001b[1;33m,\u001b[0m\u001b[1;33m]\u001b[0m \u001b[1;33m,\u001b[0m\u001b[0mX\u001b[0m\u001b[1;33m[\u001b[0m\u001b[0mj\u001b[0m\u001b[1;33m,\u001b[0m\u001b[1;33m]\u001b[0m\u001b[1;33m,\u001b[0m \u001b[0msigma\u001b[0m\u001b[1;33m,\u001b[0m \u001b[0mk\u001b[0m\u001b[1;33m,\u001b[0m \u001b[0md\u001b[0m\u001b[1;33m,\u001b[0m \u001b[0me\u001b[0m\u001b[1;33m,\u001b[0m \u001b[0mbeta\u001b[0m\u001b[1;33m,\u001b[0m \u001b[0msubA\u001b[0m\u001b[1;33m,\u001b[0m \u001b[0mA\u001b[0m\u001b[1;33m,\u001b[0m \u001b[0mneighbours\u001b[0m\u001b[1;33m)\u001b[0m\u001b[1;33m\u001b[0m\u001b[0m\n\u001b[0m\u001b[0;32m     57\u001b[0m         \u001b[1;31m#K = K + K.T + np.diag([kernel(method, x, x, sigma, k, d, e, beta) for x in X])\u001b[0m\u001b[1;33m\u001b[0m\u001b[1;33m\u001b[0m\u001b[0m\n\u001b[0;32m     58\u001b[0m     \u001b[1;32melse\u001b[0m\u001b[1;33m:\u001b[0m\u001b[1;33m\u001b[0m\u001b[0m\n",
      "\u001b[1;32m~\\Desktop\\My files\\3A\\M2\\CS\\ML with kernel methods\\challenge\\project\\kernel.py\u001b[0m in \u001b[0;36mkernel\u001b[1;34m(method, xi, xj, sigma, k, d, e, beta, subA, A, neighbours)\u001b[0m\n\u001b[0;32m     28\u001b[0m         \u001b[1;32mreturn\u001b[0m \u001b[0mnp\u001b[0m\u001b[1;33m.\u001b[0m\u001b[0mexp\u001b[0m\u001b[1;33m(\u001b[0m\u001b[1;33m-\u001b[0m\u001b[0mnp\u001b[0m\u001b[1;33m.\u001b[0m\u001b[0mdot\u001b[0m\u001b[1;33m(\u001b[0m\u001b[1;33m(\u001b[0m\u001b[0mxi\u001b[0m\u001b[1;33m-\u001b[0m\u001b[0mxj\u001b[0m\u001b[1;33m)\u001b[0m\u001b[1;33m.\u001b[0m\u001b[0mT\u001b[0m\u001b[1;33m,\u001b[0m\u001b[1;33m(\u001b[0m\u001b[0mxi\u001b[0m\u001b[1;33m-\u001b[0m\u001b[0mxj\u001b[0m\u001b[1;33m)\u001b[0m\u001b[1;33m)\u001b[0m\u001b[1;33m/\u001b[0m\u001b[1;33m(\u001b[0m\u001b[1;36m2\u001b[0m\u001b[1;33m*\u001b[0m\u001b[1;33m(\u001b[0m\u001b[0msigma\u001b[0m\u001b[1;33m**\u001b[0m\u001b[1;36m2\u001b[0m\u001b[1;33m)\u001b[0m\u001b[1;33m)\u001b[0m\u001b[1;33m)\u001b[0m\u001b[1;33m\u001b[0m\u001b[0m\n\u001b[0;32m     29\u001b[0m     \u001b[1;32melif\u001b[0m \u001b[0mmethod\u001b[0m \u001b[1;33m==\u001b[0m \u001b[1;34m\"spectral\"\u001b[0m\u001b[1;33m:\u001b[0m\u001b[1;33m\u001b[0m\u001b[0m\n\u001b[1;32m---> 30\u001b[1;33m         \u001b[0malphabet_comb\u001b[0m\u001b[1;33m=\u001b[0m\u001b[1;33m[\u001b[0m\u001b[1;34m''\u001b[0m\u001b[1;33m.\u001b[0m\u001b[0mjoin\u001b[0m\u001b[1;33m(\u001b[0m\u001b[0mx\u001b[0m\u001b[1;33m)\u001b[0m \u001b[1;32mfor\u001b[0m \u001b[0mx\u001b[0m \u001b[1;32min\u001b[0m \u001b[0mlist\u001b[0m\u001b[1;33m(\u001b[0m\u001b[0mproduct\u001b[0m\u001b[1;33m(\u001b[0m\u001b[0mset\u001b[0m\u001b[1;33m(\u001b[0m\u001b[0mxi\u001b[0m\u001b[1;33m+\u001b[0m\u001b[0mxj\u001b[0m\u001b[1;33m)\u001b[0m\u001b[1;33m,\u001b[0m \u001b[0mrepeat\u001b[0m\u001b[1;33m=\u001b[0m\u001b[0mk\u001b[0m\u001b[1;33m)\u001b[0m\u001b[1;33m)\u001b[0m\u001b[1;33m]\u001b[0m\u001b[1;33m\u001b[0m\u001b[0m\n\u001b[0m\u001b[0;32m     31\u001b[0m         \u001b[0mphi_xi\u001b[0m\u001b[1;33m=\u001b[0m\u001b[0mnp\u001b[0m\u001b[1;33m.\u001b[0m\u001b[0marray\u001b[0m\u001b[1;33m(\u001b[0m\u001b[1;33m[\u001b[0m\u001b[0mxi\u001b[0m\u001b[1;33m.\u001b[0m\u001b[0mcount\u001b[0m\u001b[1;33m(\u001b[0m\u001b[0mc\u001b[0m\u001b[1;33m)\u001b[0m \u001b[1;32mfor\u001b[0m \u001b[0mc\u001b[0m \u001b[1;32min\u001b[0m \u001b[0malphabet_comb\u001b[0m\u001b[1;33m]\u001b[0m\u001b[1;33m)\u001b[0m\u001b[1;33m\u001b[0m\u001b[0m\n\u001b[0;32m     32\u001b[0m         \u001b[0mphi_xj\u001b[0m\u001b[1;33m=\u001b[0m\u001b[0mnp\u001b[0m\u001b[1;33m.\u001b[0m\u001b[0marray\u001b[0m\u001b[1;33m(\u001b[0m\u001b[1;33m[\u001b[0m\u001b[0mxj\u001b[0m\u001b[1;33m.\u001b[0m\u001b[0mcount\u001b[0m\u001b[1;33m(\u001b[0m\u001b[0mc\u001b[0m\u001b[1;33m)\u001b[0m \u001b[1;32mfor\u001b[0m \u001b[0mc\u001b[0m \u001b[1;32min\u001b[0m \u001b[0malphabet_comb\u001b[0m\u001b[1;33m]\u001b[0m\u001b[1;33m)\u001b[0m\u001b[1;33m\u001b[0m\u001b[0m\n",
      "\u001b[1;32m~\\Desktop\\My files\\3A\\M2\\CS\\ML with kernel methods\\challenge\\project\\kernel.py\u001b[0m in \u001b[0;36m<listcomp>\u001b[1;34m(.0)\u001b[0m\n\u001b[0;32m     28\u001b[0m         \u001b[1;32mreturn\u001b[0m \u001b[0mnp\u001b[0m\u001b[1;33m.\u001b[0m\u001b[0mexp\u001b[0m\u001b[1;33m(\u001b[0m\u001b[1;33m-\u001b[0m\u001b[0mnp\u001b[0m\u001b[1;33m.\u001b[0m\u001b[0mdot\u001b[0m\u001b[1;33m(\u001b[0m\u001b[1;33m(\u001b[0m\u001b[0mxi\u001b[0m\u001b[1;33m-\u001b[0m\u001b[0mxj\u001b[0m\u001b[1;33m)\u001b[0m\u001b[1;33m.\u001b[0m\u001b[0mT\u001b[0m\u001b[1;33m,\u001b[0m\u001b[1;33m(\u001b[0m\u001b[0mxi\u001b[0m\u001b[1;33m-\u001b[0m\u001b[0mxj\u001b[0m\u001b[1;33m)\u001b[0m\u001b[1;33m)\u001b[0m\u001b[1;33m/\u001b[0m\u001b[1;33m(\u001b[0m\u001b[1;36m2\u001b[0m\u001b[1;33m*\u001b[0m\u001b[1;33m(\u001b[0m\u001b[0msigma\u001b[0m\u001b[1;33m**\u001b[0m\u001b[1;36m2\u001b[0m\u001b[1;33m)\u001b[0m\u001b[1;33m)\u001b[0m\u001b[1;33m)\u001b[0m\u001b[1;33m\u001b[0m\u001b[0m\n\u001b[0;32m     29\u001b[0m     \u001b[1;32melif\u001b[0m \u001b[0mmethod\u001b[0m \u001b[1;33m==\u001b[0m \u001b[1;34m\"spectral\"\u001b[0m\u001b[1;33m:\u001b[0m\u001b[1;33m\u001b[0m\u001b[0m\n\u001b[1;32m---> 30\u001b[1;33m         \u001b[0malphabet_comb\u001b[0m\u001b[1;33m=\u001b[0m\u001b[1;33m[\u001b[0m\u001b[1;34m''\u001b[0m\u001b[1;33m.\u001b[0m\u001b[0mjoin\u001b[0m\u001b[1;33m(\u001b[0m\u001b[0mx\u001b[0m\u001b[1;33m)\u001b[0m \u001b[1;32mfor\u001b[0m \u001b[0mx\u001b[0m \u001b[1;32min\u001b[0m \u001b[0mlist\u001b[0m\u001b[1;33m(\u001b[0m\u001b[0mproduct\u001b[0m\u001b[1;33m(\u001b[0m\u001b[0mset\u001b[0m\u001b[1;33m(\u001b[0m\u001b[0mxi\u001b[0m\u001b[1;33m+\u001b[0m\u001b[0mxj\u001b[0m\u001b[1;33m)\u001b[0m\u001b[1;33m,\u001b[0m \u001b[0mrepeat\u001b[0m\u001b[1;33m=\u001b[0m\u001b[0mk\u001b[0m\u001b[1;33m)\u001b[0m\u001b[1;33m)\u001b[0m\u001b[1;33m]\u001b[0m\u001b[1;33m\u001b[0m\u001b[0m\n\u001b[0m\u001b[0;32m     31\u001b[0m         \u001b[0mphi_xi\u001b[0m\u001b[1;33m=\u001b[0m\u001b[0mnp\u001b[0m\u001b[1;33m.\u001b[0m\u001b[0marray\u001b[0m\u001b[1;33m(\u001b[0m\u001b[1;33m[\u001b[0m\u001b[0mxi\u001b[0m\u001b[1;33m.\u001b[0m\u001b[0mcount\u001b[0m\u001b[1;33m(\u001b[0m\u001b[0mc\u001b[0m\u001b[1;33m)\u001b[0m \u001b[1;32mfor\u001b[0m \u001b[0mc\u001b[0m \u001b[1;32min\u001b[0m \u001b[0malphabet_comb\u001b[0m\u001b[1;33m]\u001b[0m\u001b[1;33m)\u001b[0m\u001b[1;33m\u001b[0m\u001b[0m\n\u001b[0;32m     32\u001b[0m         \u001b[0mphi_xj\u001b[0m\u001b[1;33m=\u001b[0m\u001b[0mnp\u001b[0m\u001b[1;33m.\u001b[0m\u001b[0marray\u001b[0m\u001b[1;33m(\u001b[0m\u001b[1;33m[\u001b[0m\u001b[0mxj\u001b[0m\u001b[1;33m.\u001b[0m\u001b[0mcount\u001b[0m\u001b[1;33m(\u001b[0m\u001b[0mc\u001b[0m\u001b[1;33m)\u001b[0m \u001b[1;32mfor\u001b[0m \u001b[0mc\u001b[0m \u001b[1;32min\u001b[0m \u001b[0malphabet_comb\u001b[0m\u001b[1;33m]\u001b[0m\u001b[1;33m)\u001b[0m\u001b[1;33m\u001b[0m\u001b[0m\n",
      "\u001b[1;31mKeyboardInterrupt\u001b[0m: "
     ]
    }
   ],
   "source": [
    "from svm import svm\n",
    "svm_string_0 = svm(kernel='spectral', k=7, ld=1e-3)\n",
    "svm_string_0.fit(X_tr_0['seq'],y_tr_0['Bound'])\n",
    "y_te_0_spec = svm_string_0.predict(X_te_0['seq'])\n",
    "y_te_0_spec_df=pd.DataFrame(y_te_0_spec, columns=['Bound'])\n",
    "y_te_0_spec_df.insert(loc=0,column='Id',value=X_tr_0['Id'])"
   ]
  },
  {
   "cell_type": "markdown",
   "metadata": {},
   "source": [
    "### TF1 train"
   ]
  },
  {
   "cell_type": "code",
   "execution_count": null,
   "metadata": {
    "collapsed": true
   },
   "outputs": [],
   "source": [
    "svm_string_1 = svm(kernel='spectral',k=7, ld=1e-3)\n",
    "svm_string_1.fit(X_tr_1['seq'],y_tr_1['Bound'])"
   ]
  },
  {
   "cell_type": "markdown",
   "metadata": {},
   "source": [
    "### TF1 test"
   ]
  },
  {
   "cell_type": "code",
   "execution_count": null,
   "metadata": {
    "collapsed": true
   },
   "outputs": [],
   "source": [
    "y_te_1_spec = svm_string_1.predict(X_te_1['seq'])\n",
    "y_te_1_spec_df=pd.DataFrame(y_te_1_spec, columns=['Bound'])\n",
    "y_te_1_spec_df.insert(loc=0,column='Id',value=X_tr_1['Id']-1000)"
   ]
  },
  {
   "cell_type": "markdown",
   "metadata": {},
   "source": [
    "### TF2 train"
   ]
  },
  {
   "cell_type": "code",
   "execution_count": null,
   "metadata": {
    "collapsed": true
   },
   "outputs": [],
   "source": [
    "svm_string_2 = svm(kernel='spectral', k=7, ld=1e-3)\n",
    "svm_string_2.fit(X_tr_2['seq'],y_tr_2['Bound'])"
   ]
  },
  {
   "cell_type": "markdown",
   "metadata": {},
   "source": [
    "### TF2 test"
   ]
  },
  {
   "cell_type": "code",
   "execution_count": null,
   "metadata": {
    "collapsed": true
   },
   "outputs": [],
   "source": [
    "y_te_2_spec = svm_string_2.predict(X_te_2['seq'])\n",
    "y_te_2_spec_df=pd.DataFrame(y_te_2_spec, columns=['Bound'])\n",
    "y_te_2_spec_df.insert(loc=0,column='Id',value=X_tr_1['Id'])"
   ]
  },
  {
   "cell_type": "markdown",
   "metadata": {},
   "source": [
    "### Concat results - spectrum"
   ]
  },
  {
   "cell_type": "code",
   "execution_count": null,
   "metadata": {
    "collapsed": true
   },
   "outputs": [],
   "source": [
    "y_te_spec_df = pd.concat([y_te_0_spec_df,y_te_1_spec_df,y_te_2_spec_df])\n",
    "y_te_spec_df['Bound'][y_te_spec_df['Bound']==-1] = 0\n",
    "y_te_spec_df.to_csv('y_svm_spectrum_k=7.csv',index=False)"
   ]
  },
  {
   "cell_type": "markdown",
   "metadata": {},
   "source": [
    "Accuracy k=6 ld=1e-3 Nystrom=False 0.66200"
   ]
  },
  {
   "cell_type": "markdown",
   "metadata": {},
   "source": [
    "Accuracy k=7 ld=1e-3 Nystrom=False takes too long time ( 3 days maybe)"
   ]
  },
  {
   "cell_type": "markdown",
   "metadata": {},
   "source": [
    "## KLR spectrum"
   ]
  },
  {
   "cell_type": "code",
   "execution_count": 73,
   "metadata": {},
   "outputs": [
    {
     "name": "stderr",
     "output_type": "stream",
     "text": [
      "100%|████████████████████████████████████████████████████████████████████████████████| 266/266 [00:51<00:00,  2.29it/s]\n",
      "100%|████████████████████████████████████████████████████████████████████████████████| 134/134 [00:54<00:00,  2.23it/s]\n",
      "100%|████████████████████████████████████████████████████████████████████████████████| 267/267 [00:57<00:00,  2.17it/s]\n",
      "100%|████████████████████████████████████████████████████████████████████████████████| 133/133 [00:53<00:00,  2.54it/s]\n",
      "100%|████████████████████████████████████████████████████████████████████████████████| 267/267 [00:54<00:00,  2.69it/s]\n",
      "100%|████████████████████████████████████████████████████████████████████████████████| 133/133 [00:55<00:00,  2.63it/s]\n",
      "100%|████████████████████████████████████████████████████████████████████████████████| 266/266 [03:07<00:00,  1.28s/it]\n",
      "100%|████████████████████████████████████████████████████████████████████████████████| 134/134 [02:57<00:00,  1.29s/it]\n",
      "100%|████████████████████████████████████████████████████████████████████████████████| 267/267 [02:58<00:00,  1.29s/it]\n",
      "100%|████████████████████████████████████████████████████████████████████████████████| 133/133 [02:54<00:00,  1.30s/it]\n",
      "100%|████████████████████████████████████████████████████████████████████████████████| 267/267 [02:57<00:00,  1.30s/it]\n",
      "100%|████████████████████████████████████████████████████████████████████████████████| 133/133 [02:54<00:00,  1.31s/it]\n",
      "100%|████████████████████████████████████████████████████████████████████████████████| 266/266 [11:11<00:00,  5.04s/it]\n",
      "100%|████████████████████████████████████████████████████████████████████████████████| 134/134 [11:21<00:00,  5.12s/it]\n",
      "100%|████████████████████████████████████████████████████████████████████████████████| 267/267 [11:20<00:00,  5.04s/it]\n",
      "100%|████████████████████████████████████████████████████████████████████████████████| 133/133 [11:11<00:00,  4.97s/it]\n",
      "100%|████████████████████████████████████████████████████████████████████████████████| 267/267 [11:12<00:00,  4.93s/it]\n",
      "100%|████████████████████████████████████████████████████████████████████████████████| 133/133 [11:02<00:00,  4.97s/it]\n"
     ]
    }
   ],
   "source": [
    "klr_string_gs = KLR(kernel='spectral', ld=0.1)\n",
    "klr_string_gs_res = klr_string_gs.grid_search(params={'k':[5,6,7]}, X=X_subtr_0_sub['seq'], y=y_subtr_0_sub['Bound'], cv=3)"
   ]
  },
  {
   "cell_type": "code",
   "execution_count": 74,
   "metadata": {
    "collapsed": true
   },
   "outputs": [],
   "source": [
    "klr_string_gs_res_df = klr_string_gs_res[1]\n",
    "klr_string_gs_res_top = klr_string_gs_res[0]"
   ]
  },
  {
   "cell_type": "code",
   "execution_count": 75,
   "metadata": {},
   "outputs": [
    {
     "data": {
      "text/plain": [
       "{'k': 6, 'top_score': 0.5548572924849436}"
      ]
     },
     "execution_count": 75,
     "metadata": {},
     "output_type": "execute_result"
    }
   ],
   "source": [
    "klr_string_gs_res_top"
   ]
  },
  {
   "cell_type": "code",
   "execution_count": 76,
   "metadata": {},
   "outputs": [
    {
     "data": {
      "text/plain": [
       "<seaborn.axisgrid.FacetGrid at 0x2b49113c208>"
      ]
     },
     "execution_count": 76,
     "metadata": {},
     "output_type": "execute_result"
    },
    {
     "data": {
      "image/png": "[encoded data removed]",
      "text/plain": [
       "<Figure size 360x360 with 1 Axes>"
      ]
     },
     "metadata": {},
     "output_type": "display_data"
    },
    {
     "data": {
      "image/png": "[encoded data removed]",
      "text/plain": [
       "<Figure size 360x360 with 1 Axes>"
      ]
     },
     "metadata": {},
     "output_type": "display_data"
    }
   ],
   "source": [
    "sns.set(style = \"darkgrid\")\n",
    "sns.relplot(x = \"k\", y = \"score_mean\", data = klr_string_gs_res_df, kind = 'line')\n",
    "sns.relplot(x = \"k\", y = \"score_var\", data = klr_string_gs_res_df, kind = 'line')"
   ]
  },
  {
   "cell_type": "markdown",
   "metadata": {},
   "source": [
    "## KNN spectrum"
   ]
  },
  {
   "cell_type": "markdown",
   "metadata": {},
   "source": [
    "kn=5, k=4 or k=5 , acc val 0.5175"
   ]
  },
  {
   "cell_type": "code",
   "execution_count": 78,
   "metadata": {},
   "outputs": [
    {
     "name": "stderr",
     "output_type": "stream",
     "text": [
      "100%|████████████████████████████████████████████████████████████████████████████████| 134/134 [00:12<00:00, 11.00it/s]\n",
      "100%|████████████████████████████████████████████████████████████████████████████████| 133/133 [00:12<00:00, 10.49it/s]\n",
      "100%|████████████████████████████████████████████████████████████████████████████████| 133/133 [00:11<00:00, 11.24it/s]\n",
      "100%|████████████████████████████████████████████████████████████████████████████████| 134/134 [00:11<00:00, 11.18it/s]\n",
      "100%|████████████████████████████████████████████████████████████████████████████████| 133/133 [00:11<00:00, 11.43it/s]\n",
      "100%|████████████████████████████████████████████████████████████████████████████████| 133/133 [00:11<00:00, 11.21it/s]\n",
      "100%|████████████████████████████████████████████████████████████████████████████████| 134/134 [00:12<00:00, 10.99it/s]\n",
      "100%|████████████████████████████████████████████████████████████████████████████████| 133/133 [00:11<00:00, 11.13it/s]\n",
      "100%|████████████████████████████████████████████████████████████████████████████████| 133/133 [00:11<00:00, 11.26it/s]\n",
      "100%|████████████████████████████████████████████████████████████████████████████████| 134/134 [00:11<00:00, 11.20it/s]\n",
      "100%|████████████████████████████████████████████████████████████████████████████████| 133/133 [00:11<00:00, 11.13it/s]\n",
      "100%|████████████████████████████████████████████████████████████████████████████████| 133/133 [00:12<00:00, 11.32it/s]\n",
      "100%|████████████████████████████████████████████████████████████████████████████████| 134/134 [00:12<00:00, 11.06it/s]\n",
      "100%|████████████████████████████████████████████████████████████████████████████████| 133/133 [00:11<00:00, 11.12it/s]\n",
      "100%|████████████████████████████████████████████████████████████████████████████████| 133/133 [00:11<00:00, 11.22it/s]\n",
      "100%|████████████████████████████████████████████████████████████████████████████████| 134/134 [00:11<00:00, 11.20it/s]\n",
      "100%|████████████████████████████████████████████████████████████████████████████████| 133/133 [00:11<00:00, 11.14it/s]\n",
      "100%|████████████████████████████████████████████████████████████████████████████████| 133/133 [00:11<00:00, 11.13it/s]\n"
     ]
    }
   ],
   "source": [
    "from KNN import kknn\n",
    "kknn_string_gs = kknn(kernel='spectral')\n",
    "kknn_string_gs_res = kknn_string_gs.grid_search(params={'k':[5,6,7], 'kn':[5,7]}, X=X_subtr_0_sub['seq'], y=y_subtr_0_sub['Bound'], cv=3)"
   ]
  },
  {
   "cell_type": "code",
   "execution_count": 79,
   "metadata": {
    "collapsed": true
   },
   "outputs": [],
   "source": [
    "kknn_string_gs_res_df = kknn_string_gs_res[1]\n",
    "kknn_string_gs_res_top = kknn_string_gs_res[0]"
   ]
  },
  {
   "cell_type": "code",
   "execution_count": 80,
   "metadata": {},
   "outputs": [
    {
     "data": {
      "text/plain": [
       "{'k': 5, 'top_score': 0.514887966184117}"
      ]
     },
     "execution_count": 80,
     "metadata": {},
     "output_type": "execute_result"
    }
   ],
   "source": [
    "kknn_string_gs_res_top"
   ]
  },
  {
   "cell_type": "code",
   "execution_count": 81,
   "metadata": {},
   "outputs": [
    {
     "data": {
      "text/plain": [
       "<seaborn.axisgrid.FacetGrid at 0x2b48ff1c9b0>"
      ]
     },
     "execution_count": 81,
     "metadata": {},
     "output_type": "execute_result"
    },
    {
     "data": {
      "image/png": "[encoded data removed]",
      "text/plain": [
       "<Figure size 411.225x360 with 1 Axes>"
      ]
     },
     "metadata": {},
     "output_type": "display_data"
    },
    {
     "data": {
      "image/png": "[encoded data removed]",
      "text/plain": [
       "<Figure size 411.225x360 with 1 Axes>"
      ]
     },
     "metadata": {},
     "output_type": "display_data"
    }
   ],
   "source": [
    "sns.set(style = \"darkgrid\")\n",
    "sns.relplot(x = \"k\", y = \"score_mean\", data = kknn_string_gs_res_df, style='kn', kind = 'line')\n",
    "sns.relplot(x = \"k\", y = \"score_var\", data = kknn_string_gs_res_df, style='kn', kind = 'line')"
   ]
  },
  {
   "cell_type": "markdown",
   "metadata": {},
   "source": [
    "## SVM LA kernel"
   ]
  },
  {
   "cell_type": "code",
   "execution_count": 41,
   "metadata": {
    "collapsed": true
   },
   "outputs": [],
   "source": [
    "svm_la=svm(kernel='LA', ld=1e-3, beta=0.2, Nystrom=True) #cg=1, d=1, e=11, beta=0.1"
   ]
  },
  {
   "cell_type": "code",
   "execution_count": 42,
   "metadata": {
    "collapsed": true
   },
   "outputs": [],
   "source": [
    "svm_la.fit(X_subtr_0['seq'],y_subtr_0['Bound'])"
   ]
  },
  {
   "cell_type": "code",
   "execution_count": 43,
   "metadata": {},
   "outputs": [
    {
     "data": {
      "text/plain": [
       "(1600,)"
      ]
     },
     "execution_count": 43,
     "metadata": {},
     "output_type": "execute_result"
    }
   ],
   "source": [
    "np.shape(svm_la.sv)"
   ]
  },
  {
   "cell_type": "code",
   "execution_count": 44,
   "metadata": {},
   "outputs": [
    {
     "name": "stderr",
     "output_type": "stream",
     "text": [
      "\n",
      "  0%|                                                                                          | 0/400 [00:00<?, ?it/s]\n",
      "  0%|▏                                                                             | 1/400 [01:45<11:41:23, 105.47s/it]\n",
      "  0%|▍                                                                             | 2/400 [03:30<11:38:18, 105.27s/it]\n",
      "  1%|▌                                                                             | 3/400 [05:17<11:39:41, 105.75s/it]\n",
      "  1%|▊                                                                             | 4/400 [07:03<11:39:10, 105.94s/it]\n",
      "  1%|▉                                                                             | 5/400 [08:48<11:35:08, 105.59s/it]\n",
      "  2%|█▏                                                                            | 6/400 [10:31<11:29:36, 105.02s/it]\n",
      "  2%|█▎                                                                            | 7/400 [12:24<11:43:23, 107.39s/it]\n",
      "  2%|█▌                                                                            | 8/400 [14:22<12:01:12, 110.39s/it]\n",
      "  2%|█▊                                                                            | 9/400 [16:14<12:02:08, 110.81s/it]\n",
      "  2%|█▉                                                                           | 10/400 [17:58<11:48:05, 108.94s/it]\n",
      "  3%|██                                                                           | 11/400 [19:44<11:40:16, 108.01s/it]\n",
      "  3%|██▎                                                                          | 12/400 [21:28<11:29:47, 106.67s/it]\n",
      "  3%|██▌                                                                          | 13/400 [23:12<11:22:56, 105.88s/it]\n",
      "  4%|██▋                                                                          | 14/400 [25:00<11:26:54, 106.77s/it]\n",
      "  4%|██▉                                                                          | 15/400 [26:44<11:19:19, 105.87s/it]\n",
      "  4%|███                                                                          | 16/400 [28:27<11:12:28, 105.07s/it]\n",
      "  4%|███▎                                                                         | 17/400 [30:10<11:05:36, 104.27s/it]\n",
      "  4%|███▍                                                                         | 18/400 [31:56<11:06:46, 104.73s/it]\n",
      "  5%|███▋                                                                         | 19/400 [33:37<10:59:26, 103.85s/it]\n",
      "  5%|███▊                                                                         | 20/400 [35:20<10:55:00, 103.42s/it]\n",
      "  5%|████                                                                         | 21/400 [37:03<10:53:02, 103.38s/it]\n",
      "  6%|████▏                                                                        | 22/400 [38:50<10:57:27, 104.36s/it]\n",
      "  6%|████▍                                                                        | 23/400 [40:33<10:53:27, 104.00s/it]\n",
      "  6%|████▌                                                                        | 24/400 [42:17<10:51:54, 104.03s/it]\n",
      "  6%|████▊                                                                        | 25/400 [43:59<10:45:59, 103.36s/it]\n",
      "  6%|█████                                                                        | 26/400 [46:19<11:54:04, 114.56s/it]\n",
      "  7%|█████▏                                                                       | 27/400 [48:25<12:12:51, 117.88s/it]\n",
      "  7%|█████▍                                                                       | 28/400 [50:37<12:36:17, 121.98s/it]\n",
      "  7%|█████▌                                                                       | 29/400 [52:42<12:39:40, 122.86s/it]\n",
      "  8%|█████▊                                                                       | 30/400 [54:55<12:57:02, 126.01s/it]\n",
      "  8%|█████▉                                                                       | 31/400 [56:58<12:49:25, 125.11s/it]\n",
      "  8%|██████▏                                                                      | 32/400 [59:02<12:44:43, 124.68s/it]\n",
      "  8%|██████▏                                                                    | 33/400 [1:01:06<12:42:41, 124.69s/it]\n",
      "  8%|██████▍                                                                    | 34/400 [1:03:13<12:45:00, 125.41s/it]\n",
      "  9%|██████▌                                                                    | 35/400 [1:05:49<13:38:29, 134.55s/it]\n",
      "  9%|██████▊                                                                    | 36/400 [1:08:21<14:07:48, 139.75s/it]\n",
      "  9%|██████▉                                                                    | 37/400 [1:10:58<14:36:13, 144.83s/it]\n",
      " 10%|███████▏                                                                   | 38/400 [1:13:32<14:51:16, 147.73s/it]\n",
      " 10%|███████▎                                                                   | 39/400 [1:16:08<15:03:08, 150.11s/it]\n",
      " 10%|███████▌                                                                   | 40/400 [1:18:43<15:08:54, 151.49s/it]\n",
      " 10%|███████▋                                                                   | 41/400 [1:21:37<15:46:24, 158.17s/it]\n",
      " 10%|███████▉                                                                   | 42/400 [1:24:23<15:57:55, 160.55s/it]\n",
      " 11%|████████                                                                   | 43/400 [1:27:01<15:52:12, 160.03s/it]\n",
      " 11%|████████▎                                                                  | 44/400 [1:29:39<15:44:43, 159.22s/it]\n",
      " 11%|████████▍                                                                  | 45/400 [1:32:13<15:33:56, 157.85s/it]\n",
      " 12%|████████▋                                                                  | 46/400 [1:34:49<15:27:15, 157.16s/it]\n",
      " 12%|████████▊                                                                  | 47/400 [1:38:10<16:41:24, 170.21s/it]\n",
      " 12%|█████████                                                                  | 48/400 [1:40:53<16:26:17, 168.12s/it]\n",
      " 12%|█████████▏                                                                 | 49/400 [1:43:31<16:06:33, 165.22s/it]\n",
      " 12%|█████████▍                                                                 | 50/400 [1:46:09<15:50:54, 163.01s/it]\n",
      " 13%|█████████▌                                                                 | 51/400 [1:48:45<15:36:07, 160.94s/it]\n",
      " 13%|█████████▊                                                                 | 52/400 [1:50:57<14:42:06, 152.09s/it]\n",
      " 13%|█████████▉                                                                 | 53/400 [1:53:19<14:21:47, 149.01s/it]\n",
      " 14%|██████████▏                                                                | 54/400 [1:55:55<14:32:59, 151.39s/it]\n",
      " 14%|██████████▎                                                                | 55/400 [1:58:30<14:35:08, 152.20s/it]\n",
      " 14%|██████████▌                                                                | 56/400 [2:00:57<14:24:18, 150.75s/it]\n",
      " 14%|██████████▋                                                                | 57/400 [2:03:15<14:00:01, 146.94s/it]\n",
      " 14%|██████████▉                                                                | 58/400 [2:05:50<14:11:13, 149.34s/it]\n",
      " 15%|███████████                                                                | 59/400 [2:08:12<13:56:08, 147.12s/it]\n",
      " 15%|███████████▎                                                               | 60/400 [2:10:38<13:51:59, 146.82s/it]\n",
      " 15%|███████████▍                                                               | 61/400 [2:12:32<12:53:16, 136.86s/it]\n",
      " 16%|███████████▋                                                               | 62/400 [2:14:15<11:54:53, 126.90s/it]\n",
      " 16%|███████████▊                                                               | 63/400 [2:15:57<11:10:33, 119.39s/it]\n",
      " 16%|████████████                                                               | 64/400 [2:17:39<10:39:06, 114.13s/it]\n",
      " 16%|████████████▏                                                              | 65/400 [2:19:26<10:24:49, 111.91s/it]\n",
      " 16%|████████████▍                                                              | 66/400 [2:21:32<10:47:29, 116.32s/it]\n",
      " 17%|████████████▌                                                              | 67/400 [2:23:43<11:09:35, 120.65s/it]\n",
      " 17%|████████████▊                                                              | 68/400 [2:25:55<11:26:19, 124.03s/it]\n",
      " 17%|████████████▉                                                              | 69/400 [2:28:07<11:36:53, 126.32s/it]\n",
      " 18%|█████████████▏                                                             | 70/400 [2:30:19<11:44:36, 128.11s/it]\n",
      " 18%|█████████████▎                                                             | 71/400 [2:32:30<11:47:37, 129.05s/it]\n",
      " 18%|█████████████▌                                                             | 72/400 [2:34:41<11:48:09, 129.54s/it]\n",
      " 18%|█████████████▋                                                             | 73/400 [2:36:51<11:47:41, 129.85s/it]\n",
      " 18%|█████████████▉                                                             | 74/400 [2:39:03<11:47:58, 130.30s/it]\n",
      " 19%|██████████████                                                             | 75/400 [2:41:14<11:46:28, 130.43s/it]\n",
      " 19%|██████████████▎                                                            | 76/400 [2:43:24<11:45:04, 130.57s/it]\n",
      " 19%|██████████████▍                                                            | 77/400 [2:45:35<11:42:54, 130.57s/it]\n",
      " 20%|██████████████▋                                                            | 78/400 [2:47:44<11:38:47, 130.21s/it]\n",
      " 20%|██████████████▊                                                            | 79/400 [2:49:55<11:37:00, 130.28s/it]\n",
      " 20%|███████████████                                                            | 80/400 [2:52:06<11:36:40, 130.63s/it]\n",
      " 20%|███████████████▏                                                           | 81/400 [2:54:19<11:37:34, 131.21s/it]\n",
      " 20%|███████████████▎                                                           | 82/400 [2:56:30<11:35:58, 131.32s/it]\n",
      " 21%|███████████████▌                                                           | 83/400 [2:58:43<11:35:06, 131.57s/it]\n",
      " 21%|███████████████▊                                                           | 84/400 [3:00:56<11:36:33, 132.26s/it]\n",
      " 21%|███████████████▉                                                           | 85/400 [3:03:14<11:42:20, 133.78s/it]\n",
      " 22%|████████████████▏                                                          | 86/400 [3:05:25<11:36:48, 133.15s/it]\n",
      " 22%|████████████████▎                                                          | 87/400 [3:07:36<11:31:02, 132.47s/it]\n",
      " 22%|████████████████▌                                                          | 88/400 [3:09:50<11:31:01, 132.89s/it]\n",
      " 22%|████████████████▋                                                          | 89/400 [3:11:56<11:17:48, 130.77s/it]\n",
      " 22%|████████████████▉                                                          | 90/400 [3:13:39<10:32:18, 122.38s/it]\n",
      " 23%|█████████████████                                                          | 91/400 [3:15:22<10:00:11, 116.54s/it]\n",
      " 23%|█████████████████▎                                                         | 92/400 [3:17:31<10:18:23, 120.47s/it]\n",
      " 23%|█████████████████▍                                                         | 93/400 [3:19:49<10:42:32, 125.58s/it]\n",
      " 24%|█████████████████▋                                                         | 94/400 [3:22:03<10:53:55, 128.22s/it]\n",
      " 24%|█████████████████▊                                                         | 95/400 [3:24:24<11:10:47, 131.96s/it]\n",
      " 24%|██████████████████                                                         | 96/400 [3:26:39<11:13:53, 133.01s/it]\n",
      " 24%|██████████████████▏                                                        | 97/400 [3:28:57<11:18:24, 134.34s/it]\n",
      " 24%|██████████████████▍                                                        | 98/400 [3:31:18<11:27:02, 136.50s/it]\n",
      " 25%|██████████████████▌                                                        | 99/400 [3:33:35<11:24:28, 136.44s/it]\n",
      " 25%|██████████████████▌                                                       | 100/400 [3:35:50<11:20:02, 136.01s/it]\n",
      " 25%|██████████████████▋                                                       | 101/400 [3:38:04<11:15:00, 135.45s/it]\n",
      " 26%|██████████████████▊                                                       | 102/400 [3:40:24<11:19:33, 136.82s/it]\n",
      " 26%|███████████████████                                                       | 103/400 [3:42:40<11:15:45, 136.52s/it]\n",
      " 26%|███████████████████▏                                                      | 104/400 [3:44:56<11:13:53, 136.60s/it]\n",
      " 26%|███████████████████▍                                                      | 105/400 [3:47:12<11:09:40, 136.21s/it]\n",
      " 26%|███████████████████▌                                                      | 106/400 [3:49:27<11:06:32, 136.03s/it]\n",
      " 27%|███████████████████▊                                                      | 107/400 [3:52:03<11:32:43, 141.85s/it]\n",
      " 27%|███████████████████▉                                                      | 108/400 [3:54:37<11:47:52, 145.45s/it]\n",
      " 27%|████████████████████▏                                                     | 109/400 [3:57:36<12:35:04, 155.68s/it]\n",
      " 28%|████████████████████▎                                                     | 110/400 [4:00:01<12:16:33, 152.39s/it]\n",
      " 28%|████████████████████▌                                                     | 111/400 [4:02:30<12:09:34, 151.47s/it]\n",
      " 28%|████████████████████▋                                                     | 112/400 [4:04:49<11:49:09, 147.74s/it]\n",
      " 28%|████████████████████▉                                                     | 113/400 [4:07:07<11:32:13, 144.72s/it]\n",
      " 28%|█████████████████████                                                     | 114/400 [4:09:23<11:17:35, 142.15s/it]\n",
      " 29%|█████████████████████▎                                                    | 115/400 [4:11:39<11:07:00, 140.42s/it]\n",
      " 29%|█████████████████████▍                                                    | 116/400 [4:13:40<10:35:50, 134.33s/it]\n",
      " 29%|█████████████████████▉                                                     | 117/400 [4:15:24<9:51:19, 125.37s/it]\n",
      " 30%|██████████████████████▏                                                    | 118/400 [4:17:09<9:19:58, 119.14s/it]\n",
      " 30%|██████████████████████▎                                                    | 119/400 [4:19:23<9:38:47, 123.59s/it]\n",
      " 30%|██████████████████████▌                                                    | 120/400 [4:21:37<9:52:10, 126.89s/it]\n",
      " 30%|██████████████████████▍                                                   | 121/400 [4:24:00<10:12:37, 131.75s/it]\n",
      " 30%|██████████████████████▌                                                   | 122/400 [4:26:22<10:24:19, 134.75s/it]\n",
      " 31%|██████████████████████▊                                                   | 123/400 [4:28:41<10:28:34, 136.15s/it]\n",
      " 31%|██████████████████████▉                                                   | 124/400 [4:31:00<10:29:30, 136.85s/it]\n",
      " 31%|███████████████████████▏                                                  | 125/400 [4:33:22<10:34:19, 138.40s/it]\n",
      " 32%|███████████████████████▎                                                  | 126/400 [4:35:39<10:29:46, 137.91s/it]\n",
      " 32%|███████████████████████▍                                                  | 127/400 [4:37:57<10:27:28, 137.91s/it]\n",
      " 32%|███████████████████████▋                                                  | 128/400 [4:40:31<10:46:55, 142.71s/it]\n",
      " 32%|███████████████████████▊                                                  | 129/400 [4:43:10<11:07:12, 147.72s/it]\n",
      " 32%|████████████████████████                                                  | 130/400 [4:45:48<11:19:06, 150.91s/it]\n",
      " 33%|████████████████████████▏                                                 | 131/400 [4:48:33<11:35:32, 155.14s/it]\n",
      " 33%|████████████████████████▍                                                 | 132/400 [4:51:16<11:42:41, 157.32s/it]\n",
      " 33%|████████████████████████▌                                                 | 133/400 [4:53:50<11:35:25, 156.28s/it]\n",
      " 34%|████████████████████████▊                                                 | 134/400 [4:56:32<11:40:55, 158.10s/it]\n",
      " 34%|████████████████████████▉                                                 | 135/400 [4:59:21<11:52:13, 161.26s/it]\n"
     ]
    },
    {
     "name": "stderr",
     "output_type": "stream",
     "text": [
      " 34%|█████████████████████████▏                                                | 136/400 [5:01:45<11:27:14, 156.19s/it]\n",
      " 34%|█████████████████████████▎                                                | 137/400 [5:04:22<11:25:19, 156.35s/it]\n",
      " 34%|█████████████████████████▌                                                | 138/400 [5:06:56<11:20:12, 155.77s/it]\n",
      " 35%|█████████████████████████▋                                                | 139/400 [5:09:32<11:17:28, 155.74s/it]\n",
      " 35%|█████████████████████████▉                                                | 140/400 [5:12:07<11:13:38, 155.45s/it]\n",
      " 35%|██████████████████████████                                                | 141/400 [5:14:42<11:10:38, 155.36s/it]\n",
      " 36%|██████████████████████████▎                                               | 142/400 [5:17:16<11:06:59, 155.11s/it]\n",
      " 36%|██████████████████████████▍                                               | 143/400 [5:19:51<11:04:33, 155.15s/it]\n",
      " 36%|██████████████████████████▋                                               | 144/400 [5:22:06<10:35:14, 148.88s/it]\n",
      " 36%|███████████████████████████▏                                               | 145/400 [5:24:07<9:57:35, 140.61s/it]\n",
      " 36%|███████████████████████████                                               | 146/400 [5:26:39<10:10:00, 144.10s/it]\n",
      " 37%|███████████████████████████▏                                              | 147/400 [5:29:14<10:21:41, 147.44s/it]\n",
      " 37%|███████████████████████████▍                                              | 148/400 [5:31:49<10:28:40, 149.68s/it]\n",
      " 37%|███████████████████████████▌                                              | 149/400 [5:34:25<10:33:07, 151.35s/it]\n",
      " 38%|███████████████████████████▊                                              | 150/400 [5:37:00<10:35:56, 152.62s/it]\n",
      " 38%|███████████████████████████▉                                              | 151/400 [5:39:37<10:37:56, 153.72s/it]\n",
      " 38%|████████████████████████████                                              | 152/400 [5:42:12<10:37:50, 154.32s/it]\n",
      " 38%|████████████████████████████▎                                             | 153/400 [5:44:47<10:35:27, 154.36s/it]\n",
      " 38%|████████████████████████████▍                                             | 154/400 [5:47:35<10:49:48, 158.49s/it]\n",
      " 39%|████████████████████████████▋                                             | 155/400 [5:50:28<11:05:11, 162.90s/it]\n",
      " 39%|████████████████████████████▊                                             | 156/400 [5:56:16<14:47:47, 218.31s/it]\n",
      " 39%|█████████████████████████████                                             | 157/400 [6:00:29<15:27:08, 228.93s/it]\n",
      " 40%|█████████████████████████████▏                                            | 158/400 [6:03:05<13:55:04, 207.04s/it]\n",
      " 40%|█████████████████████████████▍                                            | 159/400 [6:05:40<12:48:12, 191.26s/it]\n",
      " 40%|█████████████████████████████▌                                            | 160/400 [6:08:15<12:01:28, 180.37s/it]\n",
      " 40%|█████████████████████████████▊                                            | 161/400 [6:10:50<11:28:34, 172.86s/it]\n",
      " 40%|█████████████████████████████▉                                            | 162/400 [6:13:40<11:22:45, 172.12s/it]\n",
      " 41%|██████████████████████████████▏                                           | 163/400 [6:16:47<11:36:35, 176.35s/it]\n",
      " 41%|██████████████████████████████▎                                           | 164/400 [6:19:20<11:06:59, 169.57s/it]\n",
      " 41%|██████████████████████████████▌                                           | 165/400 [6:21:55<10:46:57, 165.18s/it]\n",
      " 42%|██████████████████████████████▋                                           | 166/400 [6:24:30<10:31:35, 161.95s/it]\n",
      " 42%|██████████████████████████████▉                                           | 167/400 [6:27:03<10:19:10, 159.45s/it]\n",
      " 42%|███████████████████████████████                                           | 168/400 [6:29:38<10:11:22, 158.11s/it]\n",
      " 42%|███████████████████████████████▎                                          | 169/400 [6:32:11<10:02:55, 156.61s/it]\n",
      " 42%|███████████████████████████████▉                                           | 170/400 [6:34:46<9:57:26, 155.85s/it]\n",
      " 43%|████████████████████████████████                                           | 171/400 [6:37:20<9:53:01, 155.38s/it]\n",
      " 43%|████████████████████████████████▎                                          | 172/400 [6:39:54<9:49:29, 155.13s/it]\n",
      " 43%|████████████████████████████████                                          | 173/400 [6:42:51<10:11:12, 161.55s/it]\n",
      " 44%|████████████████████████████████▏                                         | 174/400 [6:45:25<10:00:28, 159.42s/it]\n",
      " 44%|████████████████████████████████▊                                          | 175/400 [6:47:58<9:50:33, 157.48s/it]\n",
      " 44%|█████████████████████████████████                                          | 176/400 [6:50:31<9:42:39, 156.07s/it]\n",
      " 44%|█████████████████████████████████▏                                         | 177/400 [6:53:04<9:36:30, 155.11s/it]\n",
      " 44%|█████████████████████████████████▍                                         | 178/400 [6:55:36<9:30:59, 154.32s/it]\n",
      " 45%|█████████████████████████████████▌                                         | 179/400 [6:58:09<9:26:42, 153.86s/it]\n",
      " 45%|█████████████████████████████████▊                                         | 180/400 [7:00:42<9:23:27, 153.67s/it]\n",
      " 45%|█████████████████████████████████▉                                         | 181/400 [7:03:16<9:20:34, 153.58s/it]\n",
      " 46%|██████████████████████████████████▏                                        | 182/400 [7:05:48<9:16:30, 153.17s/it]\n",
      " 46%|██████████████████████████████████▎                                        | 183/400 [7:08:21<9:14:03, 153.20s/it]\n",
      " 46%|██████████████████████████████████▌                                        | 184/400 [7:10:54<9:10:38, 152.96s/it]\n",
      " 46%|██████████████████████████████████▋                                        | 185/400 [7:13:26<9:07:45, 152.86s/it]\n",
      " 46%|██████████████████████████████████▉                                        | 186/400 [7:15:59<9:04:31, 152.67s/it]\n",
      " 47%|███████████████████████████████████                                        | 187/400 [7:18:32<9:03:07, 152.99s/it]\n",
      " 47%|███████████████████████████████████▎                                       | 188/400 [7:21:05<8:59:48, 152.78s/it]\n",
      " 47%|███████████████████████████████████▍                                       | 189/400 [7:23:53<9:14:12, 157.60s/it]\n",
      " 48%|███████████████████████████████████▋                                       | 190/400 [7:26:17<8:56:22, 153.25s/it]\n",
      " 48%|███████████████████████████████████▊                                       | 191/400 [7:28:42<8:45:42, 150.92s/it]\n",
      " 48%|████████████████████████████████████                                       | 192/400 [7:31:06<8:35:50, 148.80s/it]\n",
      " 48%|████████████████████████████████████▏                                      | 193/400 [7:33:40<8:38:31, 150.30s/it]\n",
      " 48%|████████████████████████████████████▍                                      | 194/400 [7:36:01<8:27:03, 147.69s/it]\n",
      " 49%|████████████████████████████████████▌                                      | 195/400 [7:38:19<8:14:48, 144.82s/it]\n",
      " 49%|████████████████████████████████████▊                                      | 196/400 [7:40:40<8:07:40, 143.43s/it]\n",
      " 49%|████████████████████████████████████▉                                      | 197/400 [7:42:56<7:58:15, 141.36s/it]\n",
      " 50%|█████████████████████████████████████▏                                     | 198/400 [7:45:13<7:51:41, 140.11s/it]\n",
      " 50%|█████████████████████████████████████▎                                     | 199/400 [7:47:46<8:01:38, 143.78s/it]\n",
      " 50%|█████████████████████████████████████▌                                     | 200/400 [7:50:04<7:54:01, 142.21s/it]\n",
      " 50%|█████████████████████████████████████▋                                     | 201/400 [7:52:23<7:48:20, 141.21s/it]\n",
      " 50%|█████████████████████████████████████▉                                     | 202/400 [7:54:41<7:42:17, 140.09s/it]\n",
      " 51%|██████████████████████████████████████                                     | 203/400 [7:56:58<7:36:55, 139.17s/it]\n",
      " 51%|██████████████████████████████████████▎                                    | 204/400 [7:59:10<7:27:49, 137.09s/it]\n",
      " 51%|██████████████████████████████████████▍                                    | 205/400 [8:01:11<7:10:03, 132.33s/it]\n",
      " 52%|██████████████████████████████████████▋                                    | 206/400 [8:02:57<6:41:52, 124.29s/it]\n",
      " 52%|██████████████████████████████████████▊                                    | 207/400 [8:04:44<6:23:54, 119.35s/it]\n",
      " 52%|███████████████████████████████████████                                    | 208/400 [8:06:29<6:08:05, 115.03s/it]\n",
      " 52%|███████████████████████████████████████▏                                   | 209/400 [8:08:14<5:56:23, 111.96s/it]\n",
      " 52%|███████████████████████████████████████▍                                   | 210/400 [8:09:59<5:47:25, 109.71s/it]\n",
      " 53%|███████████████████████████████████████▌                                   | 211/400 [8:11:43<5:41:03, 108.27s/it]\n",
      " 53%|███████████████████████████████████████▊                                   | 212/400 [8:13:53<5:59:23, 114.70s/it]\n",
      " 53%|███████████████████████████████████████▉                                   | 213/400 [8:16:10<6:17:52, 121.24s/it]\n",
      " 54%|████████████████████████████████████████▏                                  | 214/400 [8:18:27<6:30:24, 125.94s/it]\n",
      " 54%|████████████████████████████████████████▎                                  | 215/400 [8:20:44<6:38:58, 129.40s/it]\n",
      " 54%|████████████████████████████████████████▌                                  | 216/400 [8:23:00<6:43:10, 131.47s/it]\n",
      " 54%|████████████████████████████████████████▋                                  | 217/400 [8:25:18<6:46:13, 133.19s/it]\n",
      " 55%|████████████████████████████████████████▉                                  | 218/400 [8:27:34<6:47:20, 134.29s/it]\n",
      " 55%|█████████████████████████████████████████                                  | 219/400 [8:29:52<6:47:44, 135.16s/it]\n",
      " 55%|█████████████████████████████████████████▎                                 | 220/400 [8:32:10<6:48:34, 136.19s/it]\n",
      " 55%|█████████████████████████████████████████▍                                 | 221/400 [8:34:27<6:47:17, 136.52s/it]\n",
      " 56%|█████████████████████████████████████████▋                                 | 222/400 [8:36:44<6:44:49, 136.46s/it]\n",
      " 56%|█████████████████████████████████████████▊                                 | 223/400 [8:39:02<6:44:09, 137.00s/it]\n",
      " 56%|██████████████████████████████████████████                                 | 224/400 [8:41:19<6:41:41, 136.94s/it]\n",
      " 56%|██████████████████████████████████████████▏                                | 225/400 [8:43:35<6:38:48, 136.73s/it]\n",
      " 56%|██████████████████████████████████████████▎                                | 226/400 [8:45:52<6:36:37, 136.76s/it]\n",
      " 57%|██████████████████████████████████████████▌                                | 227/400 [8:48:08<6:33:56, 136.62s/it]\n",
      " 57%|██████████████████████████████████████████▋                                | 228/400 [8:50:25<6:31:46, 136.67s/it]\n",
      " 57%|██████████████████████████████████████████▉                                | 229/400 [8:52:41<6:29:16, 136.59s/it]\n",
      " 57%|███████████████████████████████████████████▏                               | 230/400 [8:54:59<6:27:28, 136.75s/it]\n",
      " 58%|███████████████████████████████████████████▎                               | 231/400 [8:57:15<6:24:34, 136.54s/it]\n",
      " 58%|███████████████████████████████████████████▌                               | 232/400 [8:59:31<6:21:54, 136.40s/it]\n",
      " 58%|███████████████████████████████████████████▋                               | 233/400 [9:01:47<6:19:59, 136.52s/it]\n",
      " 58%|███████████████████████████████████████████▉                               | 234/400 [9:04:04<6:17:44, 136.54s/it]\n",
      " 59%|████████████████████████████████████████████                               | 235/400 [9:06:20<6:15:20, 136.49s/it]\n",
      " 59%|████████████████████████████████████████████▎                              | 236/400 [9:08:37<6:12:56, 136.44s/it]\n",
      " 59%|████████████████████████████████████████████▍                              | 237/400 [9:10:53<6:10:51, 136.51s/it]\n",
      " 60%|████████████████████████████████████████████▋                              | 238/400 [9:13:44<6:35:52, 146.62s/it]\n",
      " 60%|████████████████████████████████████████████▊                              | 239/400 [9:16:45<7:01:39, 157.14s/it]\n",
      " 60%|█████████████████████████████████████████████                              | 240/400 [9:20:58<8:15:37, 185.86s/it]\n",
      " 60%|█████████████████████████████████████████████▏                             | 241/400 [9:23:50<8:01:28, 181.69s/it]\n",
      " 60%|█████████████████████████████████████████████▍                             | 242/400 [9:25:58<7:16:13, 165.65s/it]\n",
      " 61%|█████████████████████████████████████████████▌                             | 243/400 [9:28:20<6:54:13, 158.30s/it]\n",
      " 61%|█████████████████████████████████████████████▊                             | 244/400 [9:31:19<7:08:16, 164.72s/it]\n",
      " 61%|█████████████████████████████████████████████▉                             | 245/400 [9:34:04<7:05:46, 164.82s/it]\n",
      " 62%|██████████████████████████████████████████████▏                            | 246/400 [9:36:59<7:10:18, 167.65s/it]\n",
      " 62%|██████████████████████████████████████████████▎                            | 247/400 [9:40:07<7:23:23, 173.88s/it]\n",
      " 62%|██████████████████████████████████████████████▌                            | 248/400 [9:43:02<7:21:12, 174.16s/it]\n",
      " 62%|██████████████████████████████████████████████▋                            | 249/400 [9:46:34<7:46:56, 185.54s/it]\n",
      " 62%|██████████████████████████████████████████████▉                            | 250/400 [9:49:23<7:31:19, 180.53s/it]\n",
      " 63%|███████████████████████████████████████████████                            | 251/400 [9:52:18<7:24:03, 178.82s/it]\n",
      " 63%|███████████████████████████████████████████████▎                           | 252/400 [9:55:08<7:15:10, 176.42s/it]\n",
      " 63%|███████████████████████████████████████████████▍                           | 253/400 [9:58:21<7:23:57, 181.21s/it]\n",
      " 64%|██████████████████████████████████████████████▉                           | 254/400 [10:01:54<7:44:26, 190.87s/it]\n",
      " 64%|███████████████████████████████████████████████▏                          | 255/400 [10:05:11<7:45:32, 192.64s/it]\n",
      " 64%|███████████████████████████████████████████████▎                          | 256/400 [10:09:30<8:30:27, 212.69s/it]\n",
      " 64%|███████████████████████████████████████████████▌                          | 257/400 [10:13:27<8:44:11, 219.94s/it]\n",
      " 64%|███████████████████████████████████████████████▋                          | 258/400 [10:16:24<8:09:30, 206.84s/it]\n",
      " 65%|███████████████████████████████████████████████▉                          | 259/400 [10:19:08<7:36:32, 194.27s/it]\n",
      " 65%|████████████████████████████████████████████████                          | 260/400 [10:22:05<7:20:39, 188.85s/it]\n",
      " 65%|████████████████████████████████████████████████▎                         | 261/400 [10:24:57<7:06:15, 183.99s/it]\n",
      " 66%|████████████████████████████████████████████████▍                         | 262/400 [10:27:46<6:52:53, 179.52s/it]\n",
      " 66%|████████████████████████████████████████████████▋                         | 263/400 [10:30:38<6:44:28, 177.14s/it]\n",
      " 66%|████████████████████████████████████████████████▊                         | 264/400 [10:33:31<6:38:43, 175.91s/it]\n",
      " 66%|█████████████████████████████████████████████████                         | 265/400 [10:36:50<6:51:40, 182.97s/it]\n",
      " 66%|█████████████████████████████████████████████████▏                        | 266/400 [10:40:10<6:59:42, 187.93s/it]\n",
      " 67%|█████████████████████████████████████████████████▍                        | 267/400 [10:42:44<6:34:05, 177.79s/it]\n",
      " 67%|█████████████████████████████████████████████████▌                        | 268/400 [10:45:33<6:25:28, 175.22s/it]\n",
      " 67%|█████████████████████████████████████████████████▊                        | 269/400 [10:48:17<6:14:45, 171.65s/it]\n",
      " 68%|█████████████████████████████████████████████████▉                        | 270/400 [10:51:29<6:25:18, 177.83s/it]\n",
      " 68%|██████████████████████████████████████████████████▏                       | 271/400 [10:53:53<6:00:36, 167.72s/it]\n"
     ]
    },
    {
     "name": "stderr",
     "output_type": "stream",
     "text": [
      " 68%|██████████████████████████████████████████████████▎                       | 272/400 [10:56:06<5:35:18, 157.17s/it]\n",
      " 68%|██████████████████████████████████████████████████▌                       | 273/400 [10:58:38<5:29:36, 155.72s/it]\n",
      " 68%|██████████████████████████████████████████████████▋                       | 274/400 [11:01:47<5:48:08, 165.78s/it]\n",
      " 69%|██████████████████████████████████████████████████▉                       | 275/400 [11:04:36<5:47:24, 166.75s/it]\n",
      " 69%|███████████████████████████████████████████████████                       | 276/400 [11:07:52<6:02:22, 175.34s/it]\n",
      " 69%|███████████████████████████████████████████████████▏                      | 277/400 [11:10:50<6:01:27, 176.32s/it]\n",
      " 70%|███████████████████████████████████████████████████▍                      | 278/400 [11:13:59<6:06:08, 180.07s/it]\n",
      " 70%|███████████████████████████████████████████████████▌                      | 279/400 [11:17:11<6:10:11, 183.56s/it]\n",
      " 70%|███████████████████████████████████████████████████▊                      | 280/400 [11:20:10<6:04:36, 182.30s/it]\n",
      " 70%|███████████████████████████████████████████████████▉                      | 281/400 [11:22:36<5:39:42, 171.28s/it]\n",
      " 70%|████████████████████████████████████████████████████▏                     | 282/400 [11:25:20<5:32:33, 169.09s/it]\n",
      " 71%|████████████████████████████████████████████████████▎                     | 283/400 [11:27:45<5:15:46, 161.94s/it]\n",
      " 71%|████████████████████████████████████████████████████▌                     | 284/400 [11:31:07<5:36:38, 174.13s/it]\n",
      " 71%|████████████████████████████████████████████████████▋                     | 285/400 [11:34:07<5:36:54, 175.78s/it]\n",
      " 72%|████████████████████████████████████████████████████▉                     | 286/400 [11:37:01<5:33:10, 175.35s/it]\n",
      " 72%|█████████████████████████████████████████████████████                     | 287/400 [11:39:45<5:23:34, 171.81s/it]\n",
      " 72%|█████████████████████████████████████████████████████▎                    | 288/400 [11:42:24<5:13:17, 167.84s/it]\n",
      " 72%|█████████████████████████████████████████████████████▍                    | 289/400 [11:44:58<5:03:06, 163.85s/it]\n",
      " 72%|█████████████████████████████████████████████████████▋                    | 290/400 [11:47:33<4:55:22, 161.11s/it]\n",
      " 73%|█████████████████████████████████████████████████████▊                    | 291/400 [11:50:13<4:52:13, 160.86s/it]\n",
      " 73%|██████████████████████████████████████████████████████                    | 292/400 [11:52:50<4:47:14, 159.58s/it]\n",
      " 73%|██████████████████████████████████████████████████████▏                   | 293/400 [11:55:12<4:35:19, 154.38s/it]\n",
      " 74%|██████████████████████████████████████████████████████▍                   | 294/400 [11:57:29<4:23:27, 149.13s/it]\n",
      " 74%|██████████████████████████████████████████████████████▌                   | 295/400 [11:59:44<4:13:51, 145.06s/it]\n",
      " 74%|██████████████████████████████████████████████████████▊                   | 296/400 [12:02:03<4:08:00, 143.08s/it]\n",
      " 74%|██████████████████████████████████████████████████████▉                   | 297/400 [12:04:16<4:00:24, 140.04s/it]\n",
      " 74%|███████████████████████████████████████████████████████▏                  | 298/400 [12:06:32<3:55:55, 138.78s/it]\n",
      " 75%|███████████████████████████████████████████████████████▎                  | 299/400 [12:08:47<3:51:57, 137.79s/it]\n",
      " 75%|███████████████████████████████████████████████████████▌                  | 300/400 [12:11:03<3:48:29, 137.09s/it]\n",
      " 75%|███████████████████████████████████████████████████████▋                  | 301/400 [12:13:18<3:45:09, 136.46s/it]\n",
      " 76%|███████████████████████████████████████████████████████▊                  | 302/400 [12:15:33<3:42:14, 136.07s/it]\n",
      " 76%|████████████████████████████████████████████████████████                  | 303/400 [12:17:48<3:39:28, 135.76s/it]\n",
      " 76%|████████████████████████████████████████████████████████▏                 | 304/400 [12:20:03<3:37:07, 135.70s/it]\n",
      " 76%|████████████████████████████████████████████████████████▍                 | 305/400 [12:21:53<3:22:26, 127.85s/it]\n",
      " 76%|████████████████████████████████████████████████████████▌                 | 306/400 [12:23:36<3:08:47, 120.51s/it]\n",
      " 77%|████████████████████████████████████████████████████████▊                 | 307/400 [12:25:19<2:58:44, 115.32s/it]\n",
      " 77%|████████████████████████████████████████████████████████▉                 | 308/400 [12:27:02<2:51:04, 111.57s/it]\n",
      " 77%|█████████████████████████████████████████████████████████▏                | 309/400 [12:28:46<2:45:32, 109.15s/it]\n",
      " 78%|█████████████████████████████████████████████████████████▎                | 310/400 [12:30:29<2:40:52, 107.25s/it]\n",
      " 78%|█████████████████████████████████████████████████████████▌                | 311/400 [12:32:14<2:38:04, 106.56s/it]\n",
      " 78%|█████████████████████████████████████████████████████████▋                | 312/400 [12:33:56<2:34:41, 105.47s/it]\n",
      " 78%|█████████████████████████████████████████████████████████▉                | 313/400 [12:35:39<2:31:47, 104.68s/it]\n",
      " 78%|██████████████████████████████████████████████████████████                | 314/400 [12:37:23<2:29:30, 104.31s/it]\n",
      " 79%|██████████████████████████████████████████████████████████▎               | 315/400 [12:39:06<2:27:15, 103.94s/it]\n",
      " 79%|██████████████████████████████████████████████████████████▍               | 316/400 [12:40:49<2:25:02, 103.61s/it]\n",
      " 79%|██████████████████████████████████████████████████████████▋               | 317/400 [12:42:31<2:22:58, 103.36s/it]\n",
      " 80%|██████████████████████████████████████████████████████████▊               | 318/400 [12:44:14<2:21:08, 103.27s/it]\n",
      " 80%|███████████████████████████████████████████████████████████               | 319/400 [12:45:57<2:19:11, 103.10s/it]\n",
      " 80%|███████████████████████████████████████████████████████████▏              | 320/400 [12:47:40<2:17:20, 103.00s/it]\n",
      " 80%|███████████████████████████████████████████████████████████▍              | 321/400 [12:49:23<2:15:48, 103.15s/it]\n",
      " 80%|███████████████████████████████████████████████████████████▌              | 322/400 [12:51:06<2:13:56, 103.04s/it]\n",
      " 81%|███████████████████████████████████████████████████████████▊              | 323/400 [12:52:49<2:12:11, 103.01s/it]\n",
      " 81%|███████████████████████████████████████████████████████████▉              | 324/400 [12:54:32<2:10:33, 103.08s/it]\n",
      " 81%|████████████████████████████████████████████████████████████▏             | 325/400 [12:56:16<2:08:58, 103.18s/it]\n",
      " 82%|████████████████████████████████████████████████████████████▎             | 326/400 [12:57:58<2:07:03, 103.02s/it]\n",
      " 82%|████████████████████████████████████████████████████████████▍             | 327/400 [12:59:41<2:05:19, 103.00s/it]\n",
      " 82%|████████████████████████████████████████████████████████████▋             | 328/400 [13:01:24<2:03:33, 102.96s/it]\n",
      " 82%|████████████████████████████████████████████████████████████▊             | 329/400 [13:03:07<2:01:44, 102.89s/it]\n",
      " 82%|█████████████████████████████████████████████████████████████             | 330/400 [13:04:50<2:00:10, 103.00s/it]\n",
      " 83%|█████████████████████████████████████████████████████████████▏            | 331/400 [13:06:33<1:58:21, 102.93s/it]\n",
      " 83%|█████████████████████████████████████████████████████████████▍            | 332/400 [13:08:16<1:56:39, 102.93s/it]\n",
      " 83%|█████████████████████████████████████████████████████████████▌            | 333/400 [13:09:59<1:54:57, 102.95s/it]\n",
      " 84%|█████████████████████████████████████████████████████████████▊            | 334/400 [13:11:42<1:53:13, 102.94s/it]\n",
      " 84%|█████████████████████████████████████████████████████████████▉            | 335/400 [13:13:25<1:51:26, 102.88s/it]\n",
      " 84%|██████████████████████████████████████████████████████████████▏           | 336/400 [13:15:08<1:49:50, 102.98s/it]\n",
      " 84%|██████████████████████████████████████████████████████████████▎           | 337/400 [13:16:51<1:48:02, 102.89s/it]\n",
      " 84%|██████████████████████████████████████████████████████████████▌           | 338/400 [13:18:33<1:46:18, 102.88s/it]\n",
      " 85%|██████████████████████████████████████████████████████████████▋           | 339/400 [13:20:17<1:44:41, 102.98s/it]\n",
      " 85%|██████████████████████████████████████████████████████████████▉           | 340/400 [13:21:59<1:42:50, 102.84s/it]\n",
      " 85%|███████████████████████████████████████████████████████████████           | 341/400 [13:23:42<1:41:12, 102.92s/it]\n",
      " 86%|███████████████████████████████████████████████████████████████▎          | 342/400 [13:25:25<1:39:30, 102.94s/it]\n",
      " 86%|███████████████████████████████████████████████████████████████▍          | 343/400 [13:27:08<1:37:46, 102.91s/it]\n",
      " 86%|███████████████████████████████████████████████████████████████▋          | 344/400 [13:28:51<1:36:05, 102.96s/it]\n",
      " 86%|███████████████████████████████████████████████████████████████▊          | 345/400 [13:30:34<1:34:18, 102.88s/it]\n",
      " 86%|████████████████████████████████████████████████████████████████          | 346/400 [13:32:17<1:32:34, 102.86s/it]\n",
      " 87%|████████████████████████████████████████████████████████████████▏         | 347/400 [13:34:00<1:30:53, 102.90s/it]\n",
      " 87%|████████████████████████████████████████████████████████████████▍         | 348/400 [13:35:42<1:29:10, 102.89s/it]\n",
      " 87%|████████████████████████████████████████████████████████████████▌         | 349/400 [13:37:25<1:27:27, 102.90s/it]\n",
      " 88%|████████████████████████████████████████████████████████████████▊         | 350/400 [13:39:09<1:25:54, 103.08s/it]\n",
      " 88%|████████████████████████████████████████████████████████████████▉         | 351/400 [13:40:52<1:24:10, 103.07s/it]\n",
      " 88%|█████████████████████████████████████████████████████████████████         | 352/400 [13:42:35<1:22:23, 103.00s/it]\n",
      " 88%|█████████████████████████████████████████████████████████████████▎        | 353/400 [13:44:18<1:20:43, 103.04s/it]\n",
      " 88%|█████████████████████████████████████████████████████████████████▍        | 354/400 [13:46:01<1:18:54, 102.92s/it]\n",
      " 89%|█████████████████████████████████████████████████████████████████▋        | 355/400 [13:47:43<1:17:08, 102.87s/it]\n",
      " 89%|█████████████████████████████████████████████████████████████████▊        | 356/400 [13:49:27<1:15:31, 102.99s/it]\n",
      " 89%|██████████████████████████████████████████████████████████████████        | 357/400 [13:51:09<1:13:45, 102.91s/it]\n",
      " 90%|██████████████████████████████████████████████████████████████████▏       | 358/400 [13:52:52<1:12:02, 102.92s/it]\n",
      " 90%|██████████████████████████████████████████████████████████████████▍       | 359/400 [13:54:36<1:10:25, 103.05s/it]\n",
      " 90%|██████████████████████████████████████████████████████████████████▌       | 360/400 [13:56:18<1:08:37, 102.95s/it]\n",
      " 90%|██████████████████████████████████████████████████████████████████▊       | 361/400 [13:58:01<1:06:52, 102.88s/it]\n",
      " 90%|██████████████████████████████████████████████████████████████████▉       | 362/400 [13:59:44<1:05:12, 102.95s/it]\n",
      " 91%|███████████████████████████████████████████████████████████████████▏      | 363/400 [14:01:27<1:03:31, 103.01s/it]\n",
      " 91%|███████████████████████████████████████████████████████████████████▎      | 364/400 [14:03:10<1:01:46, 102.96s/it]\n",
      " 91%|███████████████████████████████████████████████████████████████████▌      | 365/400 [14:04:53<1:00:05, 103.02s/it]\n",
      " 92%|█████████████████████████████████████████████████████████████████████▌      | 366/400 [14:06:36<58:21, 102.98s/it]\n",
      " 92%|█████████████████████████████████████████████████████████████████████▋      | 367/400 [14:08:19<56:40, 103.04s/it]\n",
      " 92%|█████████████████████████████████████████████████████████████████████▉      | 368/400 [14:10:02<54:56, 103.01s/it]\n",
      " 92%|██████████████████████████████████████████████████████████████████████      | 369/400 [14:11:45<53:11, 102.94s/it]\n",
      " 92%|██████████████████████████████████████████████████████████████████████▎     | 370/400 [14:13:28<51:27, 102.92s/it]\n",
      " 93%|██████████████████████████████████████████████████████████████████████▍     | 371/400 [14:15:11<49:44, 102.92s/it]\n",
      " 93%|██████████████████████████████████████████████████████████████████████▋     | 372/400 [14:16:54<48:01, 102.90s/it]\n",
      " 93%|██████████████████████████████████████████████████████████████████████▊     | 373/400 [14:18:37<46:17, 102.87s/it]\n",
      " 94%|███████████████████████████████████████████████████████████████████████     | 374/400 [14:20:20<44:36, 102.96s/it]\n",
      " 94%|███████████████████████████████████████████████████████████████████████▎    | 375/400 [14:22:02<42:51, 102.85s/it]\n",
      " 94%|███████████████████████████████████████████████████████████████████████▍    | 376/400 [14:23:45<41:09, 102.91s/it]\n",
      " 94%|███████████████████████████████████████████████████████████████████████▋    | 377/400 [14:25:28<39:27, 102.94s/it]\n",
      " 94%|███████████████████████████████████████████████████████████████████████▊    | 378/400 [14:27:11<37:43, 102.89s/it]\n",
      " 95%|████████████████████████████████████████████████████████████████████████    | 379/400 [14:28:54<36:02, 102.96s/it]\n",
      " 95%|████████████████████████████████████████████████████████████████████████▏   | 380/400 [14:30:37<34:18, 102.90s/it]\n",
      " 95%|████████████████████████████████████████████████████████████████████████▍   | 381/400 [14:32:20<32:35, 102.90s/it]\n",
      " 96%|████████████████████████████████████████████████████████████████████████▌   | 382/400 [14:34:03<30:53, 102.99s/it]\n",
      " 96%|████████████████████████████████████████████████████████████████████████▊   | 383/400 [14:35:46<29:10, 102.95s/it]\n",
      " 96%|████████████████████████████████████████████████████████████████████████▉   | 384/400 [14:37:29<27:26, 102.92s/it]\n",
      " 96%|█████████████████████████████████████████████████████████████████████████▏  | 385/400 [14:39:12<25:46, 103.09s/it]\n",
      " 96%|█████████████████████████████████████████████████████████████████████████▎  | 386/400 [14:40:55<24:01, 102.96s/it]\n",
      " 97%|█████████████████████████████████████████████████████████████████████████▌  | 387/400 [14:42:38<22:17, 102.90s/it]\n",
      " 97%|█████████████████████████████████████████████████████████████████████████▋  | 388/400 [14:44:21<20:35, 102.99s/it]\n",
      " 97%|█████████████████████████████████████████████████████████████████████████▉  | 389/400 [14:46:04<18:51, 102.90s/it]\n",
      " 98%|██████████████████████████████████████████████████████████████████████████  | 390/400 [14:47:46<17:08, 102.84s/it]\n",
      " 98%|██████████████████████████████████████████████████████████████████████████▎ | 391/400 [14:49:30<15:26, 102.95s/it]\n",
      " 98%|██████████████████████████████████████████████████████████████████████████▍ | 392/400 [14:51:12<13:43, 102.88s/it]\n",
      " 98%|██████████████████████████████████████████████████████████████████████████▋ | 393/400 [14:52:55<12:00, 102.91s/it]\n",
      " 98%|██████████████████████████████████████████████████████████████████████████▊ | 394/400 [14:54:39<10:18, 103.10s/it]\n",
      " 99%|███████████████████████████████████████████████████████████████████████████ | 395/400 [14:56:22<08:35, 103.07s/it]\n",
      " 99%|███████████████████████████████████████████████████████████████████████████▏| 396/400 [14:58:04<06:51, 102.92s/it]\n",
      " 99%|███████████████████████████████████████████████████████████████████████████▍| 397/400 [14:59:47<05:08, 102.95s/it]\n",
      "100%|███████████████████████████████████████████████████████████████████████████▌| 398/400 [15:01:30<03:25, 102.93s/it]\n",
      "100%|███████████████████████████████████████████████████████████████████████████▊| 399/400 [15:03:13<01:42, 102.90s/it]\n",
      "100%|████████████████████████████████████████████████████████████████████████████| 400/400 [15:04:56<00:00, 102.99s/it]\n"
     ]
    },
    {
     "name": "stdout",
     "output_type": "stream",
     "text": [
      "acc svm la 0 (val): 0.4825\n"
     ]
    }
   ],
   "source": [
    "y_pred_val_la_0=svm_la.predict(X_val_0['seq'])\n",
    "print('acc svm la 0 (val):',np.mean(y_pred_val_la_0==y_val_0['Bound'].reset_index(drop=True)))"
   ]
  },
  {
   "cell_type": "markdown",
   "metadata": {},
   "source": [
    "## SVM with mismatch kernel"
   ]
  },
  {
   "cell_type": "markdown",
   "metadata": {},
   "source": [
    "for subA =7 mis= 1  => predict takes 54h, fitting took 26h"
   ]
  },
  {
   "cell_type": "code",
   "execution_count": 22,
   "metadata": {
    "collapsed": true
   },
   "outputs": [],
   "source": [
    "#subset of training set (40%)\n",
    "ratio = 0.25\n",
    "n = X_subtr_0.shape[0]\n",
    "X_subtr_0_sub = X_subtr_0.reset_index(drop=True).iloc[:int(n*ratio)]\n",
    "y_subtr_0_sub = y_subtr_0.reset_index(drop=True).iloc[:int(n*ratio)]"
   ]
  },
  {
   "cell_type": "code",
   "execution_count": 28,
   "metadata": {
    "scrolled": true
   },
   "outputs": [
    {
     "name": "stdout",
     "output_type": "stream",
     "text": [
      "ACGT 7\n"
     ]
    },
    {
     "name": "stderr",
     "output_type": "stream",
     "text": [
      "100%|████████████████████████████████████████████████████████████████████████████████| 266/266 [01:22<00:00,  1.66it/s]\n",
      "100%|████████████████████████████████████████████████████████████████████████████████| 134/134 [01:19<00:00,  1.70it/s]\n",
      "100%|████████████████████████████████████████████████████████████████████████████████| 267/267 [01:24<00:00,  1.68it/s]\n",
      "100%|████████████████████████████████████████████████████████████████████████████████| 133/133 [01:18<00:00,  1.68it/s]\n",
      "100%|████████████████████████████████████████████████████████████████████████████████| 267/267 [01:23<00:00,  1.67it/s]\n",
      "100%|████████████████████████████████████████████████████████████████████████████████| 133/133 [01:20<00:00,  1.64it/s]\n"
     ]
    },
    {
     "name": "stdout",
     "output_type": "stream",
     "text": [
      "ACGT 8\n"
     ]
    },
    {
     "ename": "KeyboardInterrupt",
     "evalue": "",
     "output_type": "error",
     "traceback": [
      "\u001b[1;31m---------------------------------------------------------------------------\u001b[0m",
      "\u001b[1;31mKeyboardInterrupt\u001b[0m                         Traceback (most recent call last)",
      "\u001b[1;32m<ipython-input-28-615e75d24079>\u001b[0m in \u001b[0;36m<module>\u001b[1;34m()\u001b[0m\n\u001b[0;32m      4\u001b[0m                                               \u001b[0mX\u001b[0m \u001b[1;33m=\u001b[0m \u001b[0mX_subtr_0_sub\u001b[0m\u001b[1;33m[\u001b[0m\u001b[1;34m'seq'\u001b[0m\u001b[1;33m]\u001b[0m\u001b[1;33m,\u001b[0m\u001b[1;33m\u001b[0m\u001b[0m\n\u001b[0;32m      5\u001b[0m                                               \u001b[0my\u001b[0m \u001b[1;33m=\u001b[0m \u001b[0my_subtr_0_sub\u001b[0m\u001b[1;33m[\u001b[0m\u001b[1;34m'Bound'\u001b[0m\u001b[1;33m]\u001b[0m\u001b[1;33m,\u001b[0m\u001b[1;33m\u001b[0m\u001b[0m\n\u001b[1;32m----> 6\u001b[1;33m                                               \u001b[0mcv\u001b[0m\u001b[1;33m=\u001b[0m\u001b[1;36m3\u001b[0m\u001b[1;33m\u001b[0m\u001b[0m\n\u001b[0m\u001b[0;32m      7\u001b[0m                                              )\n",
      "\u001b[1;32m~\\Desktop\\My files\\3A\\M2\\CS\\ML with kernel methods\\challenge\\project\\svm.py\u001b[0m in \u001b[0;36mgrid_search\u001b[1;34m(self, params, X, y, cv)\u001b[0m\n\u001b[0;32m    160\u001b[0m             \u001b[1;32mreturn\u001b[0m\u001b[1;33m(\u001b[0m\u001b[0mnp\u001b[0m\u001b[1;33m.\u001b[0m\u001b[0mmean\u001b[0m\u001b[1;33m(\u001b[0m\u001b[0mscore\u001b[0m\u001b[1;33m)\u001b[0m\u001b[1;33m,\u001b[0m\u001b[0mnp\u001b[0m\u001b[1;33m.\u001b[0m\u001b[0mvar\u001b[0m\u001b[1;33m(\u001b[0m\u001b[0mscore\u001b[0m\u001b[1;33m)\u001b[0m\u001b[1;33m)\u001b[0m\u001b[1;33m\u001b[0m\u001b[0m\n\u001b[0;32m    161\u001b[0m \u001b[1;33m\u001b[0m\u001b[0m\n\u001b[1;32m--> 162\u001b[1;33m         \u001b[0mscores\u001b[0m \u001b[1;33m=\u001b[0m \u001b[0mparams_df\u001b[0m\u001b[1;33m.\u001b[0m\u001b[0mapply\u001b[0m\u001b[1;33m(\u001b[0m\u001b[0mcv_\u001b[0m\u001b[1;33m,\u001b[0m\u001b[0maxis\u001b[0m\u001b[1;33m=\u001b[0m\u001b[1;36m1\u001b[0m\u001b[1;33m)\u001b[0m\u001b[1;33m\u001b[0m\u001b[0m\n\u001b[0m\u001b[0;32m    163\u001b[0m         \u001b[0mparams_df\u001b[0m\u001b[1;33m[\u001b[0m\u001b[1;34m'score_mean'\u001b[0m\u001b[1;33m]\u001b[0m \u001b[1;33m=\u001b[0m \u001b[0mscores\u001b[0m\u001b[1;33m.\u001b[0m\u001b[0mapply\u001b[0m\u001b[1;33m(\u001b[0m\u001b[1;32mlambda\u001b[0m \u001b[0mx\u001b[0m\u001b[1;33m:\u001b[0m \u001b[0mx\u001b[0m\u001b[1;33m[\u001b[0m\u001b[1;36m0\u001b[0m\u001b[1;33m]\u001b[0m\u001b[1;33m)\u001b[0m\u001b[1;33m\u001b[0m\u001b[0m\n\u001b[0;32m    164\u001b[0m         \u001b[0mparams_df\u001b[0m\u001b[1;33m[\u001b[0m\u001b[1;34m'score_var'\u001b[0m\u001b[1;33m]\u001b[0m \u001b[1;33m=\u001b[0m \u001b[0mscores\u001b[0m\u001b[1;33m.\u001b[0m\u001b[0mapply\u001b[0m\u001b[1;33m(\u001b[0m\u001b[1;32mlambda\u001b[0m \u001b[0mx\u001b[0m\u001b[1;33m:\u001b[0m \u001b[0mx\u001b[0m\u001b[1;33m[\u001b[0m\u001b[1;36m1\u001b[0m\u001b[1;33m]\u001b[0m\u001b[1;33m)\u001b[0m\u001b[1;33m\u001b[0m\u001b[0m\n",
      "\u001b[1;32m~\\Anaconda3\\lib\\site-packages\\pandas\\core\\frame.py\u001b[0m in \u001b[0;36mapply\u001b[1;34m(self, func, axis, broadcast, raw, reduce, args, **kwds)\u001b[0m\n\u001b[0;32m   4260\u001b[0m                         \u001b[0mf\u001b[0m\u001b[1;33m,\u001b[0m \u001b[0maxis\u001b[0m\u001b[1;33m,\u001b[0m\u001b[1;33m\u001b[0m\u001b[0m\n\u001b[0;32m   4261\u001b[0m                         \u001b[0mreduce\u001b[0m\u001b[1;33m=\u001b[0m\u001b[0mreduce\u001b[0m\u001b[1;33m,\u001b[0m\u001b[1;33m\u001b[0m\u001b[0m\n\u001b[1;32m-> 4262\u001b[1;33m                         ignore_failures=ignore_failures)\n\u001b[0m\u001b[0;32m   4263\u001b[0m             \u001b[1;32melse\u001b[0m\u001b[1;33m:\u001b[0m\u001b[1;33m\u001b[0m\u001b[0m\n\u001b[0;32m   4264\u001b[0m                 \u001b[1;32mreturn\u001b[0m \u001b[0mself\u001b[0m\u001b[1;33m.\u001b[0m\u001b[0m_apply_broadcast\u001b[0m\u001b[1;33m(\u001b[0m\u001b[0mf\u001b[0m\u001b[1;33m,\u001b[0m \u001b[0maxis\u001b[0m\u001b[1;33m)\u001b[0m\u001b[1;33m\u001b[0m\u001b[0m\n",
      "\u001b[1;32m~\\Anaconda3\\lib\\site-packages\\pandas\\core\\frame.py\u001b[0m in \u001b[0;36m_apply_standard\u001b[1;34m(self, func, axis, ignore_failures, reduce)\u001b[0m\n\u001b[0;32m   4316\u001b[0m                     \u001b[0mlabels\u001b[0m \u001b[1;33m=\u001b[0m \u001b[0mself\u001b[0m\u001b[1;33m.\u001b[0m\u001b[0m_get_agg_axis\u001b[0m\u001b[1;33m(\u001b[0m\u001b[0maxis\u001b[0m\u001b[1;33m)\u001b[0m\u001b[1;33m\u001b[0m\u001b[0m\n\u001b[0;32m   4317\u001b[0m                     result = lib.reduce(values, func, axis=axis, dummy=dummy,\n\u001b[1;32m-> 4318\u001b[1;33m                                         labels=labels)\n\u001b[0m\u001b[0;32m   4319\u001b[0m                     \u001b[1;32mreturn\u001b[0m \u001b[0mSeries\u001b[0m\u001b[1;33m(\u001b[0m\u001b[0mresult\u001b[0m\u001b[1;33m,\u001b[0m \u001b[0mindex\u001b[0m\u001b[1;33m=\u001b[0m\u001b[0mlabels\u001b[0m\u001b[1;33m)\u001b[0m\u001b[1;33m\u001b[0m\u001b[0m\n\u001b[0;32m   4320\u001b[0m                 \u001b[1;32mexcept\u001b[0m \u001b[0mException\u001b[0m\u001b[1;33m:\u001b[0m\u001b[1;33m\u001b[0m\u001b[0m\n",
      "\u001b[1;32mpandas/_libs/src\\reduce.pyx\u001b[0m in \u001b[0;36mpandas._libs.lib.reduce\u001b[1;34m()\u001b[0m\n",
      "\u001b[1;32mpandas/_libs/src\\reduce.pyx\u001b[0m in \u001b[0;36mpandas._libs.lib.Reducer.get_result\u001b[1;34m()\u001b[0m\n",
      "\u001b[1;32m~\\Desktop\\My files\\3A\\M2\\CS\\ML with kernel methods\\challenge\\project\\svm.py\u001b[0m in \u001b[0;36mcv_\u001b[1;34m(param)\u001b[0m\n\u001b[0;32m    145\u001b[0m                 \u001b[0mprint\u001b[0m\u001b[1;33m(\u001b[0m\u001b[0mself\u001b[0m\u001b[1;33m.\u001b[0m\u001b[0malphabet\u001b[0m\u001b[1;33m,\u001b[0m \u001b[0mself\u001b[0m\u001b[1;33m.\u001b[0m\u001b[0msubA\u001b[0m\u001b[1;33m)\u001b[0m \u001b[1;31m#added for test\u001b[0m\u001b[1;33m\u001b[0m\u001b[0m\n\u001b[0;32m    146\u001b[0m                 \u001b[0mself\u001b[0m\u001b[1;33m.\u001b[0m\u001b[0mA\u001b[0m \u001b[1;33m=\u001b[0m \u001b[0mcreate_vocab\u001b[0m\u001b[1;33m(\u001b[0m\u001b[0mself\u001b[0m\u001b[1;33m.\u001b[0m\u001b[0malphabet\u001b[0m\u001b[1;33m,\u001b[0m \u001b[0mself\u001b[0m\u001b[1;33m.\u001b[0m\u001b[0msubA\u001b[0m\u001b[1;33m)\u001b[0m\u001b[1;33m[\u001b[0m\u001b[1;36m0\u001b[0m\u001b[1;33m]\u001b[0m\u001b[1;33m\u001b[0m\u001b[0m\n\u001b[1;32m--> 147\u001b[1;33m                 \u001b[0mself\u001b[0m\u001b[1;33m.\u001b[0m\u001b[0mneighbours\u001b[0m \u001b[1;33m=\u001b[0m \u001b[0mcompute_neighbours\u001b[0m\u001b[1;33m(\u001b[0m\u001b[0mself\u001b[0m\u001b[1;33m.\u001b[0m\u001b[0mA\u001b[0m\u001b[1;33m,\u001b[0m \u001b[0mself\u001b[0m\u001b[1;33m.\u001b[0m\u001b[0mmis\u001b[0m\u001b[1;33m)\u001b[0m\u001b[1;33m\u001b[0m\u001b[0m\n\u001b[0m\u001b[0;32m    148\u001b[0m \u001b[1;33m\u001b[0m\u001b[0m\n\u001b[0;32m    149\u001b[0m             \u001b[0mX_reset\u001b[0m\u001b[1;33m=\u001b[0m\u001b[0mX\u001b[0m\u001b[1;33m.\u001b[0m\u001b[0mreset_index\u001b[0m\u001b[1;33m(\u001b[0m\u001b[0mdrop\u001b[0m\u001b[1;33m=\u001b[0m\u001b[1;32mTrue\u001b[0m\u001b[1;33m)\u001b[0m\u001b[1;33m\u001b[0m\u001b[0m\n",
      "\u001b[1;32m~\\Desktop\\My files\\3A\\M2\\CS\\ML with kernel methods\\challenge\\project\\mismatchkernel.py\u001b[0m in \u001b[0;36mcompute_neighbours\u001b[1;34m(vocab2index, mismatch)\u001b[0m\n\u001b[0;32m     67\u001b[0m         \u001b[0mneighbours\u001b[0m\u001b[1;33m[\u001b[0m\u001b[0mword1\u001b[0m\u001b[1;33m]\u001b[0m \u001b[1;33m=\u001b[0m \u001b[1;33m[\u001b[0m\u001b[1;33m]\u001b[0m\u001b[1;33m\u001b[0m\u001b[0m\n\u001b[0;32m     68\u001b[0m         \u001b[1;32mfor\u001b[0m \u001b[0mword2\u001b[0m \u001b[1;32min\u001b[0m \u001b[0mvocab\u001b[0m\u001b[1;33m:\u001b[0m\u001b[1;33m\u001b[0m\u001b[0m\n\u001b[1;32m---> 69\u001b[1;33m             \u001b[1;32mif\u001b[0m \u001b[0mis_neighbour\u001b[0m\u001b[1;33m(\u001b[0m\u001b[0mword1\u001b[0m\u001b[1;33m,\u001b[0m \u001b[0mword2\u001b[0m\u001b[1;33m,\u001b[0m \u001b[0mmismatch\u001b[0m\u001b[1;33m)\u001b[0m\u001b[1;33m:\u001b[0m\u001b[1;33m\u001b[0m\u001b[0m\n\u001b[0m\u001b[0;32m     70\u001b[0m                 \u001b[0mneighbours\u001b[0m\u001b[1;33m[\u001b[0m\u001b[0mword1\u001b[0m\u001b[1;33m]\u001b[0m\u001b[1;33m.\u001b[0m\u001b[0mappend\u001b[0m\u001b[1;33m(\u001b[0m\u001b[0mword2\u001b[0m\u001b[1;33m)\u001b[0m\u001b[1;33m\u001b[0m\u001b[0m\n\u001b[0;32m     71\u001b[0m \u001b[1;33m\u001b[0m\u001b[0m\n",
      "\u001b[1;32m~\\Desktop\\My files\\3A\\M2\\CS\\ML with kernel methods\\challenge\\project\\mismatchkernel.py\u001b[0m in \u001b[0;36mis_neighbour\u001b[1;34m(alpha, beta, mismatch)\u001b[0m\n\u001b[0;32m     46\u001b[0m         \u001b[0mBoolean\u001b[0m\u001b[1;33m:\u001b[0m \u001b[1;32mTrue\u001b[0m \u001b[1;32mif\u001b[0m \u001b[0mbeta\u001b[0m \u001b[1;32mis\u001b[0m \u001b[0mthe\u001b[0m \u001b[0mmismatch\u001b[0m\u001b[1;33m-\u001b[0m\u001b[0mneighbourhood\u001b[0m \u001b[0mof\u001b[0m \u001b[0malpha\u001b[0m\u001b[1;33m\u001b[0m\u001b[0m\n\u001b[0;32m     47\u001b[0m     '''\n\u001b[1;32m---> 48\u001b[1;33m     \u001b[1;32mif\u001b[0m \u001b[0msum\u001b[0m\u001b[1;33m(\u001b[0m\u001b[0ma\u001b[0m\u001b[1;33m!=\u001b[0m\u001b[0mb\u001b[0m \u001b[1;32mfor\u001b[0m \u001b[0ma\u001b[0m\u001b[1;33m,\u001b[0m \u001b[0mb\u001b[0m \u001b[1;32min\u001b[0m \u001b[0mzip\u001b[0m\u001b[1;33m(\u001b[0m\u001b[0malpha\u001b[0m\u001b[1;33m,\u001b[0m \u001b[0mbeta\u001b[0m\u001b[1;33m)\u001b[0m\u001b[1;33m)\u001b[0m \u001b[1;33m<=\u001b[0m \u001b[0mmismatch\u001b[0m\u001b[1;33m:\u001b[0m\u001b[1;33m\u001b[0m\u001b[0m\n\u001b[0m\u001b[0;32m     49\u001b[0m         \u001b[1;32mreturn\u001b[0m \u001b[1;32mTrue\u001b[0m\u001b[1;33m\u001b[0m\u001b[0m\n\u001b[0;32m     50\u001b[0m     \u001b[1;32melse\u001b[0m\u001b[1;33m:\u001b[0m\u001b[1;33m\u001b[0m\u001b[0m\n",
      "\u001b[1;31mKeyboardInterrupt\u001b[0m: "
     ]
    }
   ],
   "source": [
    "from svm import svm\n",
    "svm_mismatch_gs_2 = svm(kernel=\"mismatch\", ld=1e-3, mis=1)\n",
    "res_gs_mismatch_2 = svm_mismatch_gs_2.grid_search(params = {'subA':[7,8,9]},\n",
    "                                              X = X_subtr_0_sub['seq'],\n",
    "                                              y = y_subtr_0_sub['Bound'],\n",
    "                                              cv=3\n",
    "                                             )"
   ]
  },
  {
   "cell_type": "code",
   "execution_count": 24,
   "metadata": {
    "collapsed": true
   },
   "outputs": [],
   "source": [
    "res_gs_mismatch_2_df=res_gs_mismatch_2[1]\n",
    "res_gs_mismatch_2_best=res_gs_mismatch_2[0]"
   ]
  },
  {
   "cell_type": "code",
   "execution_count": 25,
   "metadata": {},
   "outputs": [
    {
     "data": {
      "text/plain": [
       "{'subA': 8, 'top_score': 0.5574944824748438}"
      ]
     },
     "execution_count": 25,
     "metadata": {},
     "output_type": "execute_result"
    }
   ],
   "source": [
    "res_gs_mismatch_2_best"
   ]
  },
  {
   "cell_type": "code",
   "execution_count": 27,
   "metadata": {},
   "outputs": [
    {
     "data": {
      "text/plain": [
       "<seaborn.axisgrid.FacetGrid at 0x12359840400>"
      ]
     },
     "execution_count": 27,
     "metadata": {},
     "output_type": "execute_result"
    },
    {
     "data": {
      "image/png": "[encoded data removed]",
      "text/plain": [
       "<Figure size 360x360 with 1 Axes>"
      ]
     },
     "metadata": {},
     "output_type": "display_data"
    },
    {
     "data": {
      "image/png": "[encoded data removed]",
      "text/plain": [
       "<Figure size 360x360 with 1 Axes>"
      ]
     },
     "metadata": {},
     "output_type": "display_data"
    }
   ],
   "source": [
    "sns.relplot(x=\"subA\", y=\"score_mean\", data=res_gs_mismatch_2_df, kind='line')\n",
    "sns.relplot(x=\"subA\", y=\"score_var\", data=res_gs_mismatch_2_df, kind='line')"
   ]
  },
  {
   "cell_type": "markdown",
   "metadata": {},
   "source": [
    "best score after grid search with subA=8 (mis=1,ld=1e-3): 0.5574"
   ]
  },
  {
   "cell_type": "code",
   "execution_count": 22,
   "metadata": {
    "collapsed": true
   },
   "outputs": [],
   "source": [
    "from svm import svm\n",
    "svm_mismatch = svm(kernel=\"mismatch\", ld=1e-3, subA=8, mis=1)"
   ]
  },
  {
   "cell_type": "code",
   "execution_count": 23,
   "metadata": {},
   "outputs": [
    {
     "name": "stderr",
     "output_type": "stream",
     "text": [
      "100%|████████████████████████████████████████████████████████████████████████████| 2000/2000 [2:19:56<00:00, 10.41s/it]\n",
      "100%|████████████████████████████████████████████████████████████████████████████| 1000/1000 [2:22:39<00:00,  7.98s/it]\n"
     ]
    }
   ],
   "source": [
    "##TF0\n",
    "svm_mismatch.fit(X_tr_0['seq'],y_tr_0['Bound'])\n",
    "y_te_0_mis = svm_mismatch.predict(X_te_0['seq'])\n",
    "y_te_0_mis_df=pd.DataFrame(y_te_0_mis, columns=['Bound'])\n",
    "y_te_0_mis_df.insert(loc=0,column='Id',value=X_tr_0['Id'])"
   ]
  },
  {
   "cell_type": "code",
   "execution_count": 24,
   "metadata": {},
   "outputs": [
    {
     "name": "stderr",
     "output_type": "stream",
     "text": [
      "100%|████████████████████████████████████████████████████████████████████████████| 2000/2000 [2:14:51<00:00,  8.19s/it]\n",
      "100%|████████████████████████████████████████████████████████████████████████████| 1000/1000 [2:12:53<00:00,  7.85s/it]\n"
     ]
    }
   ],
   "source": [
    "##TF1\n",
    "svm_mismatch.fit(X_tr_1['seq'],y_tr_1['Bound'])\n",
    "y_te_1_mis = svm_mismatch.predict(X_te_1['seq'])\n",
    "y_te_1_mis_df=pd.DataFrame(y_te_1_mis, columns=['Bound'])\n",
    "y_te_1_mis_df.insert(loc=0,column='Id',value=X_tr_1['Id']-1000)"
   ]
  },
  {
   "cell_type": "code",
   "execution_count": 25,
   "metadata": {},
   "outputs": [
    {
     "name": "stderr",
     "output_type": "stream",
     "text": [
      "100%|████████████████████████████████████████████████████████████████████████████| 2000/2000 [2:12:57<00:00,  8.02s/it]\n",
      "100%|████████████████████████████████████████████████████████████████████████████| 1000/1000 [2:01:27<00:00,  7.28s/it]\n"
     ]
    }
   ],
   "source": [
    "##TF2\n",
    "svm_mismatch.fit(X_tr_2['seq'],y_tr_2['Bound'])\n",
    "y_te_2_mis = svm_mismatch.predict(X_te_2['seq'])\n",
    "y_te_2_mis_df=pd.DataFrame(y_te_2_mis, columns=['Bound'])\n",
    "y_te_2_mis_df.insert(loc=0,column='Id',value=X_tr_1['Id'])"
   ]
  },
  {
   "cell_type": "code",
   "execution_count": 26,
   "metadata": {
    "collapsed": true
   },
   "outputs": [],
   "source": [
    "#submit\n",
    "y_te_mis_df = pd.concat([y_te_0_mis_df,y_te_1_mis_df,y_te_2_mis_df])\n",
    "y_te_mis_df['Bound'][y_te_mis_df['Bound']==-1] = 0\n",
    "y_te_mis_df.to_csv('y_svm_mismatch_sub=8_mis=1.csv',index=False)"
   ]
  },
  {
   "cell_type": "markdown",
   "metadata": {},
   "source": [
    "mis=1 sub=8 ld=1e-3 score=0.666"
   ]
  },
  {
   "cell_type": "markdown",
   "metadata": {},
   "source": [
    "sub=10 mis =1 took nearly 12h to compute neighbours (and didn't finish) => aborted"
   ]
  },
  {
   "cell_type": "markdown",
   "metadata": {},
   "source": [
    "## Bagging SVM spectral kernel"
   ]
  },
  {
   "cell_type": "code",
   "execution_count": 19,
   "metadata": {
    "scrolled": true
   },
   "outputs": [
    {
     "name": "stderr",
     "output_type": "stream",
     "text": [
      "  6%|████▌                                                                          | 103/1800 [00:28<15:24,  1.84it/s]"
     ]
    },
    {
     "ename": "KeyboardInterrupt",
     "evalue": "",
     "output_type": "error",
     "traceback": [
      "\u001b[1;31m---------------------------------------------------------------------------\u001b[0m",
      "\u001b[1;31mKeyboardInterrupt\u001b[0m                         Traceback (most recent call last)",
      "\u001b[1;32m<ipython-input-19-d76e0f08440e>\u001b[0m in \u001b[0;36m<module>\u001b[1;34m()\u001b[0m\n\u001b[0;32m      5\u001b[0m \u001b[1;31m#TF0\u001b[0m\u001b[1;33m\u001b[0m\u001b[1;33m\u001b[0m\u001b[0m\n\u001b[0;32m      6\u001b[0m \u001b[1;33m\u001b[0m\u001b[0m\n\u001b[1;32m----> 7\u001b[1;33m \u001b[0my_te_0_spec\u001b[0m \u001b[1;33m=\u001b[0m \u001b[0mbagging\u001b[0m\u001b[1;33m(\u001b[0m\u001b[0mX_tr_0\u001b[0m\u001b[1;33m[\u001b[0m\u001b[1;34m'seq'\u001b[0m\u001b[1;33m]\u001b[0m\u001b[1;33m,\u001b[0m \u001b[0my_tr_0\u001b[0m\u001b[1;33m[\u001b[0m\u001b[1;34m'Bound'\u001b[0m\u001b[1;33m]\u001b[0m\u001b[1;33m,\u001b[0m \u001b[0mX_te_0\u001b[0m\u001b[1;33m[\u001b[0m\u001b[1;34m'seq'\u001b[0m\u001b[1;33m]\u001b[0m\u001b[1;33m,\u001b[0m \u001b[1;36m0.9\u001b[0m\u001b[1;33m,\u001b[0m \u001b[1;36m3\u001b[0m\u001b[1;33m,\u001b[0m \u001b[0msvm_spec\u001b[0m\u001b[1;33m)\u001b[0m\u001b[1;33m\u001b[0m\u001b[0m\n\u001b[0m\u001b[0;32m      8\u001b[0m \u001b[0my_te_0_spec_df\u001b[0m \u001b[1;33m=\u001b[0m \u001b[0mpd\u001b[0m\u001b[1;33m.\u001b[0m\u001b[0mDataFrame\u001b[0m\u001b[1;33m(\u001b[0m\u001b[0my_te_0_spec\u001b[0m\u001b[1;33m,\u001b[0m \u001b[0mcolumns\u001b[0m\u001b[1;33m=\u001b[0m\u001b[1;33m[\u001b[0m\u001b[1;34m'Bound'\u001b[0m\u001b[1;33m]\u001b[0m\u001b[1;33m)\u001b[0m\u001b[1;33m\u001b[0m\u001b[0m\n\u001b[0;32m      9\u001b[0m \u001b[0my_te_0_spec_df\u001b[0m\u001b[1;33m.\u001b[0m\u001b[0minsert\u001b[0m\u001b[1;33m(\u001b[0m\u001b[0mloc\u001b[0m\u001b[1;33m=\u001b[0m\u001b[1;36m0\u001b[0m\u001b[1;33m,\u001b[0m\u001b[0mcolumn\u001b[0m\u001b[1;33m=\u001b[0m\u001b[1;34m'Id'\u001b[0m\u001b[1;33m,\u001b[0m\u001b[0mvalue\u001b[0m\u001b[1;33m=\u001b[0m\u001b[0mX_tr_0\u001b[0m\u001b[1;33m[\u001b[0m\u001b[1;34m'Id'\u001b[0m\u001b[1;33m]\u001b[0m\u001b[1;33m)\u001b[0m\u001b[1;33m\u001b[0m\u001b[0m\n",
      "\u001b[1;32m~\\Desktop\\My files\\3A\\M2\\CS\\ML with kernel methods\\challenge\\project\\Kernel_methods_challenge_Team_Bissap\\bagging.py\u001b[0m in \u001b[0;36mbagging\u001b[1;34m(X_train, y_train, X_test, sample_size, n_models, model)\u001b[0m\n\u001b[0;32m     43\u001b[0m         \u001b[0msample_x\u001b[0m \u001b[1;33m=\u001b[0m \u001b[0mX_train\u001b[0m\u001b[1;33m.\u001b[0m\u001b[0miloc\u001b[0m\u001b[1;33m[\u001b[0m\u001b[0msample_ix\u001b[0m\u001b[1;33m]\u001b[0m\u001b[1;33m\u001b[0m\u001b[0m\n\u001b[0;32m     44\u001b[0m         \u001b[0msample_y\u001b[0m \u001b[1;33m=\u001b[0m \u001b[0my_train\u001b[0m\u001b[1;33m.\u001b[0m\u001b[0miloc\u001b[0m\u001b[1;33m[\u001b[0m\u001b[0msample_ix\u001b[0m\u001b[1;33m]\u001b[0m\u001b[1;33m\u001b[0m\u001b[0m\n\u001b[1;32m---> 45\u001b[1;33m         \u001b[0mmodel\u001b[0m\u001b[1;33m.\u001b[0m\u001b[0mfit\u001b[0m\u001b[1;33m(\u001b[0m\u001b[0msample_x\u001b[0m\u001b[1;33m,\u001b[0m \u001b[0msample_y\u001b[0m\u001b[1;33m)\u001b[0m\u001b[1;33m\u001b[0m\u001b[0m\n\u001b[0m\u001b[0;32m     46\u001b[0m         \u001b[0mmodels\u001b[0m\u001b[1;33m.\u001b[0m\u001b[0mappend\u001b[0m\u001b[1;33m(\u001b[0m\u001b[0mmodel\u001b[0m\u001b[1;33m)\u001b[0m\u001b[1;33m\u001b[0m\u001b[0m\n\u001b[0;32m     47\u001b[0m     \u001b[0mpredictions\u001b[0m \u001b[1;33m=\u001b[0m \u001b[0mbagging_predict\u001b[0m\u001b[1;33m(\u001b[0m\u001b[0mmodels\u001b[0m\u001b[1;33m,\u001b[0m\u001b[0mX_test\u001b[0m\u001b[1;33m)\u001b[0m\u001b[1;33m\u001b[0m\u001b[0m\n",
      "\u001b[1;32m~\\Desktop\\My files\\3A\\M2\\CS\\ML with kernel methods\\challenge\\project\\Kernel_methods_challenge_Team_Bissap\\svm.py\u001b[0m in \u001b[0;36mfit\u001b[1;34m(self, X_train, y_train)\u001b[0m\n\u001b[0;32m     52\u001b[0m \u001b[1;33m\u001b[0m\u001b[0m\n\u001b[0;32m     53\u001b[0m         \u001b[1;31m#step1: compute gram matrix\u001b[0m\u001b[1;33m\u001b[0m\u001b[1;33m\u001b[0m\u001b[0m\n\u001b[1;32m---> 54\u001b[1;33m         \u001b[0mK\u001b[0m \u001b[1;33m=\u001b[0m \u001b[0mkernel_gram\u001b[0m\u001b[1;33m(\u001b[0m\u001b[0mself\u001b[0m\u001b[1;33m.\u001b[0m\u001b[0mkernel\u001b[0m\u001b[1;33m,\u001b[0m \u001b[0mX_train\u001b[0m\u001b[1;33m,\u001b[0m \u001b[0mself\u001b[0m\u001b[1;33m.\u001b[0m\u001b[0msigma\u001b[0m\u001b[1;33m,\u001b[0m \u001b[0mself\u001b[0m\u001b[1;33m.\u001b[0m\u001b[0mk\u001b[0m\u001b[1;33m,\u001b[0m \u001b[0mself\u001b[0m\u001b[1;33m.\u001b[0m\u001b[0md\u001b[0m\u001b[1;33m,\u001b[0m \u001b[0mself\u001b[0m\u001b[1;33m.\u001b[0m\u001b[0me\u001b[0m\u001b[1;33m,\u001b[0m \u001b[0mself\u001b[0m\u001b[1;33m.\u001b[0m\u001b[0mbeta\u001b[0m\u001b[1;33m,\u001b[0m \u001b[0mself\u001b[0m\u001b[1;33m.\u001b[0m\u001b[0mNystrom\u001b[0m\u001b[1;33m,\u001b[0m \u001b[0mself\u001b[0m\u001b[1;33m.\u001b[0m\u001b[0msubA\u001b[0m\u001b[1;33m,\u001b[0m \u001b[0mself\u001b[0m\u001b[1;33m.\u001b[0m\u001b[0mA\u001b[0m\u001b[1;33m,\u001b[0m \u001b[0mself\u001b[0m\u001b[1;33m.\u001b[0m\u001b[0mneighbours\u001b[0m\u001b[1;33m)\u001b[0m \u001b[1;31m#returns Gram matrix of the specific kernel Ki,j=K(xi,xj) external or internal function?\u001b[0m\u001b[1;33m\u001b[0m\u001b[0m\n\u001b[0m\u001b[0;32m     55\u001b[0m \u001b[1;33m\u001b[0m\u001b[0m\n\u001b[0;32m     56\u001b[0m         \u001b[1;31m#step2: solve optimization problem\u001b[0m\u001b[1;33m\u001b[0m\u001b[1;33m\u001b[0m\u001b[0m\n",
      "\u001b[1;32m~\\Desktop\\My files\\3A\\M2\\CS\\ML with kernel methods\\challenge\\project\\Kernel_methods_challenge_Team_Bissap\\kernel.py\u001b[0m in \u001b[0;36mkernel_gram\u001b[1;34m(method, X, sigma, k, d, e, beta, Nystrom, subA, A, neighbours)\u001b[0m\n\u001b[0;32m     56\u001b[0m             \u001b[0mK\u001b[0m\u001b[1;33m[\u001b[0m\u001b[0mi\u001b[0m\u001b[1;33m,\u001b[0m\u001b[0mi\u001b[0m\u001b[1;33m]\u001b[0m \u001b[1;33m=\u001b[0m \u001b[0mkernel\u001b[0m\u001b[1;33m(\u001b[0m\u001b[0mmethod\u001b[0m\u001b[1;33m,\u001b[0m \u001b[0mX\u001b[0m\u001b[1;33m[\u001b[0m\u001b[0mi\u001b[0m\u001b[1;33m,\u001b[0m\u001b[1;33m]\u001b[0m \u001b[1;33m,\u001b[0m\u001b[0mX\u001b[0m\u001b[1;33m[\u001b[0m\u001b[0mi\u001b[0m\u001b[1;33m,\u001b[0m\u001b[1;33m]\u001b[0m\u001b[1;33m,\u001b[0m \u001b[0msigma\u001b[0m\u001b[1;33m,\u001b[0m \u001b[0mk\u001b[0m\u001b[1;33m,\u001b[0m \u001b[0md\u001b[0m\u001b[1;33m,\u001b[0m \u001b[0me\u001b[0m\u001b[1;33m,\u001b[0m \u001b[0mbeta\u001b[0m\u001b[1;33m,\u001b[0m \u001b[0msubA\u001b[0m\u001b[1;33m,\u001b[0m \u001b[0mA\u001b[0m\u001b[1;33m,\u001b[0m \u001b[0mneighbours\u001b[0m\u001b[1;33m)\u001b[0m\u001b[1;33m\u001b[0m\u001b[0m\n\u001b[0;32m     57\u001b[0m             \u001b[1;32mfor\u001b[0m \u001b[0mj\u001b[0m \u001b[1;32min\u001b[0m \u001b[0mrange\u001b[0m\u001b[1;33m(\u001b[0m\u001b[0mi\u001b[0m\u001b[1;33m)\u001b[0m\u001b[1;33m:\u001b[0m\u001b[1;33m\u001b[0m\u001b[0m\n\u001b[1;32m---> 58\u001b[1;33m                 \u001b[0mK\u001b[0m\u001b[1;33m[\u001b[0m\u001b[0mi\u001b[0m\u001b[1;33m,\u001b[0m\u001b[0mj\u001b[0m\u001b[1;33m]\u001b[0m \u001b[1;33m=\u001b[0m \u001b[0mK\u001b[0m\u001b[1;33m[\u001b[0m\u001b[0mj\u001b[0m\u001b[1;33m,\u001b[0m\u001b[0mi\u001b[0m\u001b[1;33m]\u001b[0m \u001b[1;33m=\u001b[0m \u001b[0mkernel\u001b[0m\u001b[1;33m(\u001b[0m\u001b[0mmethod\u001b[0m\u001b[1;33m,\u001b[0m \u001b[0mX\u001b[0m\u001b[1;33m[\u001b[0m\u001b[0mi\u001b[0m\u001b[1;33m,\u001b[0m\u001b[1;33m]\u001b[0m \u001b[1;33m,\u001b[0m\u001b[0mX\u001b[0m\u001b[1;33m[\u001b[0m\u001b[0mj\u001b[0m\u001b[1;33m,\u001b[0m\u001b[1;33m]\u001b[0m\u001b[1;33m,\u001b[0m \u001b[0msigma\u001b[0m\u001b[1;33m,\u001b[0m \u001b[0mk\u001b[0m\u001b[1;33m,\u001b[0m \u001b[0md\u001b[0m\u001b[1;33m,\u001b[0m \u001b[0me\u001b[0m\u001b[1;33m,\u001b[0m \u001b[0mbeta\u001b[0m\u001b[1;33m,\u001b[0m \u001b[0msubA\u001b[0m\u001b[1;33m,\u001b[0m \u001b[0mA\u001b[0m\u001b[1;33m,\u001b[0m \u001b[0mneighbours\u001b[0m\u001b[1;33m)\u001b[0m\u001b[1;33m\u001b[0m\u001b[0m\n\u001b[0m\u001b[0;32m     59\u001b[0m     \u001b[1;32melse\u001b[0m\u001b[1;33m:\u001b[0m\u001b[1;33m\u001b[0m\u001b[0m\n\u001b[0;32m     60\u001b[0m         \u001b[1;31m#randomly generating m indices\u001b[0m\u001b[1;33m\u001b[0m\u001b[1;33m\u001b[0m\u001b[0m\n",
      "\u001b[1;32m~\\Desktop\\My files\\3A\\M2\\CS\\ML with kernel methods\\challenge\\project\\Kernel_methods_challenge_Team_Bissap\\kernel.py\u001b[0m in \u001b[0;36mkernel\u001b[1;34m(method, xi, xj, sigma, k, d, e, beta, subA, A, neighbours)\u001b[0m\n\u001b[0;32m     30\u001b[0m         \u001b[0malphabet_comb\u001b[0m\u001b[1;33m=\u001b[0m\u001b[1;33m[\u001b[0m\u001b[1;34m''\u001b[0m\u001b[1;33m.\u001b[0m\u001b[0mjoin\u001b[0m\u001b[1;33m(\u001b[0m\u001b[0mx\u001b[0m\u001b[1;33m)\u001b[0m \u001b[1;32mfor\u001b[0m \u001b[0mx\u001b[0m \u001b[1;32min\u001b[0m \u001b[0mlist\u001b[0m\u001b[1;33m(\u001b[0m\u001b[0mproduct\u001b[0m\u001b[1;33m(\u001b[0m\u001b[0mset\u001b[0m\u001b[1;33m(\u001b[0m\u001b[0mxi\u001b[0m\u001b[1;33m+\u001b[0m\u001b[0mxj\u001b[0m\u001b[1;33m)\u001b[0m\u001b[1;33m,\u001b[0m \u001b[0mrepeat\u001b[0m\u001b[1;33m=\u001b[0m\u001b[0mk\u001b[0m\u001b[1;33m)\u001b[0m\u001b[1;33m)\u001b[0m\u001b[1;33m]\u001b[0m\u001b[1;33m\u001b[0m\u001b[0m\n\u001b[0;32m     31\u001b[0m         \u001b[0mphi_xi\u001b[0m\u001b[1;33m=\u001b[0m\u001b[0mnp\u001b[0m\u001b[1;33m.\u001b[0m\u001b[0marray\u001b[0m\u001b[1;33m(\u001b[0m\u001b[1;33m[\u001b[0m\u001b[0mxi\u001b[0m\u001b[1;33m.\u001b[0m\u001b[0mcount\u001b[0m\u001b[1;33m(\u001b[0m\u001b[0mc\u001b[0m\u001b[1;33m)\u001b[0m \u001b[1;32mfor\u001b[0m \u001b[0mc\u001b[0m \u001b[1;32min\u001b[0m \u001b[0malphabet_comb\u001b[0m\u001b[1;33m]\u001b[0m\u001b[1;33m)\u001b[0m\u001b[1;33m\u001b[0m\u001b[0m\n\u001b[1;32m---> 32\u001b[1;33m         \u001b[0mphi_xj\u001b[0m\u001b[1;33m=\u001b[0m\u001b[0mnp\u001b[0m\u001b[1;33m.\u001b[0m\u001b[0marray\u001b[0m\u001b[1;33m(\u001b[0m\u001b[1;33m[\u001b[0m\u001b[0mxj\u001b[0m\u001b[1;33m.\u001b[0m\u001b[0mcount\u001b[0m\u001b[1;33m(\u001b[0m\u001b[0mc\u001b[0m\u001b[1;33m)\u001b[0m \u001b[1;32mfor\u001b[0m \u001b[0mc\u001b[0m \u001b[1;32min\u001b[0m \u001b[0malphabet_comb\u001b[0m\u001b[1;33m]\u001b[0m\u001b[1;33m)\u001b[0m\u001b[1;33m\u001b[0m\u001b[0m\n\u001b[0m\u001b[0;32m     33\u001b[0m         \u001b[1;32mreturn\u001b[0m \u001b[0mnp\u001b[0m\u001b[1;33m.\u001b[0m\u001b[0mdot\u001b[0m\u001b[1;33m(\u001b[0m\u001b[0mphi_xi\u001b[0m\u001b[1;33m.\u001b[0m\u001b[0mT\u001b[0m\u001b[1;33m,\u001b[0m\u001b[0mphi_xj\u001b[0m\u001b[1;33m)\u001b[0m\u001b[1;33m\u001b[0m\u001b[0m\n\u001b[0;32m     34\u001b[0m     \u001b[1;32melif\u001b[0m \u001b[0mmethod\u001b[0m \u001b[1;33m==\u001b[0m \u001b[1;34m\"LA\"\u001b[0m\u001b[1;33m:\u001b[0m\u001b[1;33m\u001b[0m\u001b[0m\n",
      "\u001b[1;32m~\\Desktop\\My files\\3A\\M2\\CS\\ML with kernel methods\\challenge\\project\\Kernel_methods_challenge_Team_Bissap\\kernel.py\u001b[0m in \u001b[0;36m<listcomp>\u001b[1;34m(.0)\u001b[0m\n\u001b[0;32m     30\u001b[0m         \u001b[0malphabet_comb\u001b[0m\u001b[1;33m=\u001b[0m\u001b[1;33m[\u001b[0m\u001b[1;34m''\u001b[0m\u001b[1;33m.\u001b[0m\u001b[0mjoin\u001b[0m\u001b[1;33m(\u001b[0m\u001b[0mx\u001b[0m\u001b[1;33m)\u001b[0m \u001b[1;32mfor\u001b[0m \u001b[0mx\u001b[0m \u001b[1;32min\u001b[0m \u001b[0mlist\u001b[0m\u001b[1;33m(\u001b[0m\u001b[0mproduct\u001b[0m\u001b[1;33m(\u001b[0m\u001b[0mset\u001b[0m\u001b[1;33m(\u001b[0m\u001b[0mxi\u001b[0m\u001b[1;33m+\u001b[0m\u001b[0mxj\u001b[0m\u001b[1;33m)\u001b[0m\u001b[1;33m,\u001b[0m \u001b[0mrepeat\u001b[0m\u001b[1;33m=\u001b[0m\u001b[0mk\u001b[0m\u001b[1;33m)\u001b[0m\u001b[1;33m)\u001b[0m\u001b[1;33m]\u001b[0m\u001b[1;33m\u001b[0m\u001b[0m\n\u001b[0;32m     31\u001b[0m         \u001b[0mphi_xi\u001b[0m\u001b[1;33m=\u001b[0m\u001b[0mnp\u001b[0m\u001b[1;33m.\u001b[0m\u001b[0marray\u001b[0m\u001b[1;33m(\u001b[0m\u001b[1;33m[\u001b[0m\u001b[0mxi\u001b[0m\u001b[1;33m.\u001b[0m\u001b[0mcount\u001b[0m\u001b[1;33m(\u001b[0m\u001b[0mc\u001b[0m\u001b[1;33m)\u001b[0m \u001b[1;32mfor\u001b[0m \u001b[0mc\u001b[0m \u001b[1;32min\u001b[0m \u001b[0malphabet_comb\u001b[0m\u001b[1;33m]\u001b[0m\u001b[1;33m)\u001b[0m\u001b[1;33m\u001b[0m\u001b[0m\n\u001b[1;32m---> 32\u001b[1;33m         \u001b[0mphi_xj\u001b[0m\u001b[1;33m=\u001b[0m\u001b[0mnp\u001b[0m\u001b[1;33m.\u001b[0m\u001b[0marray\u001b[0m\u001b[1;33m(\u001b[0m\u001b[1;33m[\u001b[0m\u001b[0mxj\u001b[0m\u001b[1;33m.\u001b[0m\u001b[0mcount\u001b[0m\u001b[1;33m(\u001b[0m\u001b[0mc\u001b[0m\u001b[1;33m)\u001b[0m \u001b[1;32mfor\u001b[0m \u001b[0mc\u001b[0m \u001b[1;32min\u001b[0m \u001b[0malphabet_comb\u001b[0m\u001b[1;33m]\u001b[0m\u001b[1;33m)\u001b[0m\u001b[1;33m\u001b[0m\u001b[0m\n\u001b[0m\u001b[0;32m     33\u001b[0m         \u001b[1;32mreturn\u001b[0m \u001b[0mnp\u001b[0m\u001b[1;33m.\u001b[0m\u001b[0mdot\u001b[0m\u001b[1;33m(\u001b[0m\u001b[0mphi_xi\u001b[0m\u001b[1;33m.\u001b[0m\u001b[0mT\u001b[0m\u001b[1;33m,\u001b[0m\u001b[0mphi_xj\u001b[0m\u001b[1;33m)\u001b[0m\u001b[1;33m\u001b[0m\u001b[0m\n\u001b[0;32m     34\u001b[0m     \u001b[1;32melif\u001b[0m \u001b[0mmethod\u001b[0m \u001b[1;33m==\u001b[0m \u001b[1;34m\"LA\"\u001b[0m\u001b[1;33m:\u001b[0m\u001b[1;33m\u001b[0m\u001b[0m\n",
      "\u001b[1;31mKeyboardInterrupt\u001b[0m: "
     ]
    }
   ],
   "source": [
    "from bagging import *\n",
    "from svm import svm\n",
    "svm_spec = svm(kernel=\"spectral\", ld=1e-3, k=6)\n",
    "\n",
    "#TF0\n",
    "\n",
    "y_te_0_spec = bagging(X_tr_0['seq'], y_tr_0['Bound'], X_te_0['seq'], 0.9, 3, svm_spec)\n",
    "y_te_0_spec_df = pd.DataFrame(y_te_0_spec, columns=['Bound'])\n",
    "y_te_0_spec_df.insert(loc=0,column='Id',value=X_tr_0['Id'])\n",
    "\n",
    "#TF1\n",
    "\n",
    "y_te_1_spec = bagging(X_tr_1['seq'],y_tr_1['Bound'],X_te_1['seq'], 0.9, 3, svm_spec)\n",
    "y_te_1_spec_df = pd.DataFrame(y_te_1_spec, columns=['Bound'])\n",
    "y_te_1_spec_df.insert(loc=0,column='Id',value=X_tr_1['Id']-1000)\n",
    "\n",
    "#TF2\n",
    "\n",
    "y_te_2_spec = bagging(X_tr_2['seq'],y_tr_2['Bound'],X_te_2['seq'], 0.9, 3, svm_spec)\n",
    "y_te_2_spec_df = pd.DataFrame(y_te_2_spec, columns=['Bound'])\n",
    "y_te_2_spec_df.insert(loc=0,column='Id',value=X_tr_1['Id'])\n",
    "\n",
    "#concat\n",
    "\n",
    "y_te_spec_df = pd.concat([y_te_0_spec_df,y_te_1_spec_df,y_te_2_spec_df])\n",
    "y_te_spec_df['Bound'][y_te_spec_df['Bound']==-1] = 0\n",
    "y_te_spec_df.to_csv('y_svm_spectrum_bag_k=6.csv',index=False)"
   ]
  }
 ],
 "metadata": {
  "kernelspec": {
   "display_name": "Python 3",
   "language": "python",
   "name": "python3"
  },
  "language_info": {
   "codemirror_mode": {
    "name": "ipython",
    "version": 3
   },
   "file_extension": ".py",
   "mimetype": "text/x-python",
   "name": "python",
   "nbconvert_exporter": "python",
   "pygments_lexer": "ipython3",
   "version": "3.6.6"
  }
 },
 "nbformat": 4,
 "nbformat_minor": 2
}
